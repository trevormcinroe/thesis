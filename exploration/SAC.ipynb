{
 "cells": [
  {
   "cell_type": "markdown",
   "metadata": {},
   "source": [
    "# Soft Actor-Critic"
   ]
  },
  {
   "cell_type": "markdown",
   "metadata": {},
   "source": [
    "https://arxiv.org/pdf/1801.01290.pdf\n",
    "\n",
    "https://arxiv.org/pdf/1812.05905.pdf\n",
    "\n",
    "SAC is an off-policy, model-free deep RL algorithm designed for continuous action spaces.\n",
    "\n",
    "Reward maximization is augments with an entropy maximization term, thereby finding the \"most random\" policy that results in a large reward. (Original objective can be recovered through temperature parameter: https://arxiv.org/pdf/1702.08165.pdf)\n",
    "\n",
    "\n",
    "The maximum entropy formulation provides \"substantial improvements in exploration and robustness\". That is, they are robust in the face of model and estimation errors and they improve \"exploration by acquiring diverse behaviors\". \n",
    "\n",
    "__The algorithm contains three components__:\n",
    "1. Actor-critic architecture (separate policy and value functions)\n",
    "2. Off-policy formulation - allows for reuse of previous experiences\n",
    "3. Entropy maximization to enable stability and exploration\n",
    "\n",
    "AC algos are derived from _policy iteration_ : alternating between policy evaluation (updating the value function) and policy improvement (using value function to obtain better policy). In practice, these two steps are usually optimized jointly.\n",
    "\n",
    "SAC combines off-policy actor-critic training with __stochastic__ actor that is being trained to maximize its entropy. In addition, the actor is updates through an off-policy gradient.\n",
    "\n"
   ]
  },
  {
   "cell_type": "markdown",
   "metadata": {},
   "source": [
    "### Maximum entropy objective:\n",
    "\n",
    "$$\n",
    "J(\\pi) = \\sum_{t=0}^{T} \\mathbb{E}_{(s_t, a_t)\\sim \\rho_{\\pi}}[r(s_t, a_t) + \\alpha \\mathcal{H}(\\pi(\\cdot | s_t))]\n",
    "$$\n",
    "\n",
    "Temperature $\\alpha$ determines the relative importance of the entropy term against the reward. This results in control over the stochasticity of the policy. The original reward object is recovered with $\\alpha = 0$."
   ]
  },
  {
   "cell_type": "markdown",
   "metadata": {},
   "source": [
    "### Derivation of Soft Policy Iteration\n",
    "`A general algorithm for learning optimal maximum entropy policies that alternates betweenpolicy evaluation and policy improvement`\n",
    "\n",
    "This is first introduced in a tabular setting, then extended to continuous later.\n",
    "\n",
    "__Policy evaluation via iterative Bellman equation:__\n",
    "\n",
    "$$\n",
    "\\mathcal{T}^{\\pi}Q(s_t,a_t) := r(s_t,a_t) + \\gamma \\mathbb{E}_{s_{t+1}\\sim p}[V(s_{t+1})] \\\\\n",
    "V(s_t) = \\mathbb{E}_{a_t \\sim \\pi}[Q(s_t,a_t) - log \\pi (a_t|s_t)]\n",
    "$$\n",
    "where $\\mathcal{T}$ is the Bellman backup operator.\n",
    "\n",
    "__Policy improvement:__"
   ]
  },
  {
   "cell_type": "code",
   "execution_count": null,
   "metadata": {},
   "outputs": [],
   "source": []
  },
  {
   "cell_type": "code",
   "execution_count": 1,
   "metadata": {},
   "outputs": [],
   "source": [
    "import numpy as np\n",
    "import torch\n",
    "from torch import nn\n",
    "import torch.nn.functional as F\n",
    "from torch.distributions.normal import Normal\n",
    "from torch import optim\n",
    "import gym\n",
    "from tqdm import tqdm\n",
    "import matplotlib.pyplot as plt"
   ]
  },
  {
   "cell_type": "code",
   "execution_count": 187,
   "metadata": {},
   "outputs": [
    {
     "name": "stdout",
     "output_type": "stream",
     "text": [
      "Requirement already satisfied: pip in /home/trevor/anaconda3/envs/torch/lib/python3.8/site-packages (20.2.4)\n",
      "Collecting install\n",
      "  Downloading install-1.3.4-py3-none-any.whl (3.1 kB)\n",
      "Collecting box2d-py\n",
      "  Downloading box2d-py-2.3.8.tar.gz (374 kB)\n",
      "\u001b[K     |████████████████████████████████| 374 kB 7.0 MB/s eta 0:00:01\n",
      "\u001b[?25hBuilding wheels for collected packages: box2d-py\n",
      "  Building wheel for box2d-py (setup.py) ... \u001b[?25ldone\n",
      "\u001b[?25h  Created wheel for box2d-py: filename=box2d_py-2.3.8-cp38-cp38-linux_x86_64.whl size=2165929 sha256=3e0ea9149f067ca6d43babf51aa68525f0ac2d53fd0135cafdc193008c1cd72d\n",
      "  Stored in directory: /home/trevor/.cache/pip/wheels/cc/4f/d6/44eb0a9e6fea384e58f19cb0c4125e46a23af2b33fe3a7e81c\n",
      "Successfully built box2d-py\n",
      "Installing collected packages: install, box2d-py\n",
      "Successfully installed box2d-py-2.3.8 install-1.3.4\n"
     ]
    }
   ],
   "source": [
    "!pip install pip install box2d-py"
   ]
  },
  {
   "cell_type": "markdown",
   "metadata": {},
   "source": [
    "### Replay memory"
   ]
  },
  {
   "cell_type": "code",
   "execution_count": 2,
   "metadata": {},
   "outputs": [],
   "source": [
    "class ReplayMemory:\n",
    "    \"\"\"This is NOT for frame stacking!\"\"\"\n",
    "    def __init__(self, mem_size, s_shape):\n",
    "        self.mem_size = mem_size\n",
    "        if isinstance(s_shape, list):\n",
    "            self.s = np.zeros((mem_size, *s_shape))\n",
    "            self.a = np.zeros(mem_size)\n",
    "            self.r = np.zeros(mem_size)\n",
    "            self.s_ = np.zeros((mem_size, *s_shape))\n",
    "            self.t = np.zeros(mem_size)\n",
    "        else:\n",
    "            self.s = np.zeros((mem_size, s_shape))\n",
    "            self.a = np.zeros(mem_size)\n",
    "            self.r = np.zeros(mem_size)\n",
    "            self.s_ = np.zeros((mem_size, s_shape))\n",
    "            self.t = np.zeros(mem_size) \n",
    "        self.mem_cntr = 0\n",
    "        \n",
    "    def store(self, s, a, r, s_, t):\n",
    "        idx = self.mem_cntr % self.mem_size\n",
    "        self.s[idx] = s\n",
    "        self.a[idx] = a\n",
    "        self.r[idx] = r\n",
    "        self.s_[idx] = s_\n",
    "        self.t[idx] = 1 - t\n",
    "        \n",
    "        self.mem_cntr += 1\n",
    "    \n",
    "    def sample(self, batch_size):\n",
    "        \"\"\"We should probably handle the max_size<batch_size elsewhere?\"\"\"\n",
    "        max_size = min(self.mem_cntr, self.mem_size)\n",
    "        idxs = np.random.choice(max_size, size=batch_size, replace=False)\n",
    "        return self.s[idxs], self.a[idxs], self.r[idxs], self.s_[idxs], self.t[idxs]"
   ]
  },
  {
   "cell_type": "markdown",
   "metadata": {},
   "source": [
    "### Networks"
   ]
  },
  {
   "cell_type": "markdown",
   "metadata": {},
   "source": [
    "The Value network, for non-image states, can be $Q(s,a)$ and we concatenate the vectors $s|a$.\n",
    "\n",
    "For image states, can we simply use $V(s)$?"
   ]
  },
  {
   "cell_type": "code",
   "execution_count": 3,
   "metadata": {},
   "outputs": [],
   "source": [
    "def weights_init_(m):\n",
    "    if isinstance(m, nn.Linear):\n",
    "        torch.nn.init.xavier_uniform_(m.weight, gain=1)\n",
    "        torch.nn.init.constant_(m.bias, 0)\n",
    "\n",
    "class QNetwork(nn.Module):\n",
    "    \"\"\"\n",
    "    Q(s,a)\n",
    "    The original paper uses 2 layers with 256, 256\n",
    "    \"\"\"\n",
    "    def __init__(self, s_shape, n_actions, lr, device='cpu'):\n",
    "        super().__init__()\n",
    "        self.inp = nn.Linear(s_shape + n_actions, 256)\n",
    "        self.l1 = nn.Linear(256, 256)\n",
    "        self.l2 = nn.Linear(256, 1)\n",
    "        \n",
    "        self.apply(weights_init_)\n",
    "        \n",
    "        self.to(device)        \n",
    "        self.optimizer = optim.Adam(self.parameters(), lr=lr)\n",
    "\n",
    "        \n",
    "    def forward(self, x):\n",
    "        x = F.relu(self.inp(x))\n",
    "        x = F.relu(self.l1(x))\n",
    "        return self.l2(x)\n",
    "\n",
    "class VNetwork(nn.Module):\n",
    "    \"\"\"\n",
    "    V(s)\n",
    "    This is for image-based states (for now)\n",
    "    \"\"\"\n",
    "    def __init__(self, s_shape, lr, device='cpu'):\n",
    "        super().__init__()\n",
    "        # this form should handle cc being in any index\n",
    "        self.inp = nn.Conv2d(min(s_shape), 8, (5, 5), stride=2)\n",
    "        self.l1 = nn.Conv2d(8, 16, (3, 3), stride=2)\n",
    "        self.l2 = nn.Conv2d(16, 4, (3, 3), stride=2)\n",
    "        self.l3 = nn.Conv2d(4, 1, (3, 3), stride=2)\n",
    "        self.d = nn.Linear(16, 1)\n",
    "        \n",
    "        self.to(device)        \n",
    "        self.optimizer = optim.Adam(self.parameters(), lr=lr)\n",
    "\n",
    "    \n",
    "    def forward(self, x):\n",
    "        x = F.relu(self.inp(x))\n",
    "        x = F.relu(self.l1(x))\n",
    "        x = F.relu(self.l2(x))\n",
    "        x = F.relu(self.l3(x))\n",
    "        x = x.view(x.size(0), -1)\n",
    "        return self.d(x)"
   ]
  },
  {
   "cell_type": "code",
   "execution_count": 258,
   "metadata": {},
   "outputs": [],
   "source": [
    "# class QNetwork(nn.Module):\n",
    "#     def __init__(self, num_inputs, num_actions, hidden_dim):\n",
    "#         super(QNetwork, self).__init__()\n",
    "\n",
    "#         # Q1 architecture\n",
    "#         self.linear1 = nn.Linear(num_inputs + num_actions, hidden_dim)\n",
    "#         self.linear2 = nn.Linear(hidden_dim, hidden_dim)\n",
    "#         self.linear3 = nn.Linear(hidden_dim, 1)\n",
    "\n",
    "#         # Q2 architecture\n",
    "#         self.linear4 = nn.Linear(num_inputs + num_actions, hidden_dim)\n",
    "#         self.linear5 = nn.Linear(hidden_dim, hidden_dim)\n",
    "#         self.linear6 = nn.Linear(hidden_dim, 1)\n",
    "        \n",
    "#         self.optimizer = optim.Adam(self.parameters(), lr=1e-3)\n",
    "\n",
    "# #         self.apply(weights_init_)\n",
    "\n",
    "#     def forward(self, state, action):\n",
    "#         xu = torch.cat([state, action], 1)\n",
    "        \n",
    "#         x1 = F.relu(self.linear1(xu))\n",
    "#         x1 = F.relu(self.linear2(x1))\n",
    "#         x1 = self.linear3(x1)\n",
    "\n",
    "#         x2 = F.relu(self.linear4(xu))\n",
    "#         x2 = F.relu(self.linear5(x2))\n",
    "#         x2 = self.linear6(x2)\n",
    "\n",
    "#         return x1, x2"
   ]
  },
  {
   "cell_type": "code",
   "execution_count": 4,
   "metadata": {},
   "outputs": [],
   "source": [
    "class PolicyNetwork(nn.Module):\n",
    "    \"\"\"\n",
    "    \n",
    "        Code from orig paper uses [-20, 2] for sigma clamping. This is strange?\n",
    "            - instead, we recommend a very small number > 0\n",
    "    \"\"\"\n",
    "    def __init__(self, s_shape, n_actions, lr, device='cpu', sigma_min=1e-6, sigma_max=2):\n",
    "        super().__init__()\n",
    "        self.inp = nn.Linear(s_shape, 256)\n",
    "        self.l1 = nn.Linear(256, 256)\n",
    "        self.mu = nn.Linear(256, n_actions)\n",
    "        self.sigma = nn.Linear(256, n_actions)\n",
    "        \n",
    "        self.sigma_min = sigma_min\n",
    "        self.sigma_max = sigma_max\n",
    "        \n",
    "        self.to(device)\n",
    "        self.optimizer = optim.Adam(self.parameters(), lr=lr)\n",
    "\n",
    "        \n",
    "    def forward(self, x):\n",
    "        x = F.relu(self.inp(x))\n",
    "        x = F.relu(self.l1(x))\n",
    "        mus = self.mu(x)\n",
    "        sigmas = self.sigma(x)\n",
    "        sigmas = torch.clamp(sigmas, self.sigma_min, self.sigma_max)\n",
    "        return mus, sigmas\n",
    "    \n",
    "    def sample_action(self, s):\n",
    "        mus, sigmas = self.forward(s)\n",
    "        # Why do we exponentiate the std?\n",
    "        spherical_g = Normal(mus, sigmas.exp())\n",
    "        \n",
    "        # The .rsample() method has the reparameterization trick built in\n",
    "        # https://pytorch.org/docs/stable/_modules/torch/distributions/normal.html#Normal.rsample\n",
    "        # mu + eps * sigma where eps ~N(0,1)\n",
    "        actions = spherical_g.rsample()\n",
    "        action_tanh = torch.tanh(actions) \n",
    "        \n",
    "        # Next we enforce the action-bound\n",
    "        log_probs = spherical_g.log_prob(actions)\n",
    "        log_probs -= torch.log(1 - action_tanh.pow(2) + 1e-6)\n",
    "        log_probs = log_probs.sum(1, keepdim=True)\n",
    "        return action_tanh, log_probs"
   ]
  },
  {
   "cell_type": "markdown",
   "metadata": {},
   "source": [
    "### Agent"
   ]
  },
  {
   "cell_type": "code",
   "execution_count": 295,
   "metadata": {},
   "outputs": [
    {
     "data": {
      "text/plain": [
       "(1,)"
      ]
     },
     "execution_count": 295,
     "metadata": {},
     "output_type": "execute_result"
    }
   ],
   "source": [
    "env.action_space.shape"
   ]
  },
  {
   "cell_type": "code",
   "execution_count": 297,
   "metadata": {},
   "outputs": [
    {
     "data": {
      "text/plain": [
       "-1.0"
      ]
     },
     "execution_count": 297,
     "metadata": {},
     "output_type": "execute_result"
    }
   ],
   "source": [
    "-torch.prod(torch.Tensor(env.action_space.shape)).item()"
   ]
  },
  {
   "cell_type": "code",
   "execution_count": 34,
   "metadata": {},
   "outputs": [
    {
     "data": {
      "text/plain": [
       "tensor(-5)"
      ]
     },
     "execution_count": 34,
     "metadata": {},
     "output_type": "execute_result"
    }
   ],
   "source": [
    "-torch.prod(torch.tensor(5))"
   ]
  },
  {
   "cell_type": "code",
   "execution_count": 37,
   "metadata": {},
   "outputs": [
    {
     "data": {
      "text/plain": [
       "-4.605170185988091"
      ]
     },
     "execution_count": 37,
     "metadata": {},
     "output_type": "execute_result"
    }
   ],
   "source": [
    "import numpy as np\n",
    "np.log(0.01)"
   ]
  },
  {
   "cell_type": "code",
   "execution_count": null,
   "metadata": {},
   "outputs": [],
   "source": []
  },
  {
   "cell_type": "code",
   "execution_count": 38,
   "metadata": {},
   "outputs": [],
   "source": [
    "class SAC:\n",
    "    \"\"\"\n",
    "    \n",
    "    pi=actor\n",
    "    \"\"\"\n",
    "    def __init__(self, s_shape, n_actions, mem_size, batch_size, device='cpu',\n",
    "                 lr=3e-4, gamma=0.99, tau=0.005, alpha=0.05):\n",
    "        self.q1 = QNetwork(s_shape, n_actions, lr, device)\n",
    "        self.q2 = QNetwork(s_shape, n_actions, lr, device)\n",
    "        self.qtarget1 = QNetwork(s_shape, n_actions, lr, device)\n",
    "        self.qtarget2 = QNetwork(s_shape, n_actions, lr, device)\n",
    "        self.pi = PolicyNetwork(s_shape, n_actions, lr, device)\n",
    "        \n",
    "        self.memory = ReplayMemory(mem_size, s_shape)\n",
    "        self.device = device\n",
    "        \n",
    "        self.batch_size = batch_size\n",
    "        self.gamma = torch.tensor(gamma, dtype=torch.float)\n",
    "        self.tau = torch.tensor(tau, dtype=torch.float)\n",
    "        self.alpha = torch.tensor(alpha, dtype=torch.float) # optimizer needs tensor\n",
    "        \n",
    "        self.log_alpha = torch.zeros(1, requires_grad=True, device=self.device)\n",
    "        self.alpha_optimizer = torch.optim.Adam([self.log_alpha], lr=lr)\n",
    "        \n",
    "        self.target_entropy = -torch.prod(torch.Tensor(env.action_space.shape))\n",
    "        self._safe_init_()\n",
    "    \n",
    "    def _safe_init_(self):\n",
    "        \"\"\"only used in the beginning to set all targets equal to their respective net\n",
    "            and to send all scalars to the appropriate device\n",
    "        \"\"\"\n",
    "        self.qtarget1.load_state_dict(self.q1.state_dict())\n",
    "        self.qtarget2.load_state_dict(self.q2.state_dict())\n",
    "        self.gamma.to(self.device)\n",
    "        self.tau.to(self.device)\n",
    "        self.alpha.to(self.device)\n",
    "        self.target_entropy.to(self.device)\n",
    "    \n",
    "    def soft_param_update(self):\n",
    "        \"\"\"We perform the soft update by looping through the parameters\n",
    "            within the state_dict of each target networks. There is no need to\n",
    "            load_state_dict() as the math is NOT done on a copy but the original\n",
    "        \"\"\"\n",
    "        q1_params = self.q1.state_dict()\n",
    "        q1_target_params = self.qtarget1.state_dict()\n",
    "        \n",
    "        for key in q1_params.keys():\n",
    "            q1_target_params[key] = q1_params[key] *  self.tau + (1 - self.tau) * q1_target_params[key]\n",
    "        \n",
    "        self.qtarget1.load_state_dict(q1_target_params)\n",
    "        \n",
    "        q2_params = self.q2.state_dict()\n",
    "        q2_target_params = self.qtarget2.state_dict()\n",
    "        \n",
    "        for key in q2_params.keys():\n",
    "            q2_target_params[key] = q2_params[key] * self.tau + (1 - self.tau) * q2_target_params[key]\n",
    "        \n",
    "        self.qtarget2.load_state_dict(q2_target_params)\n",
    "        \n",
    "    def sample_action(self, s):\n",
    "        s = torch.tensor(s, dtype=torch.float).unsqueeze(0)\n",
    "        a, _ = self.pi.sample_action(s.to(self.device))\n",
    "        return a.cpu().detach().numpy()[0]\n",
    "    \n",
    "    def remember(self, s, a, r, s_, t):\n",
    "        self.memory.store(s, a, r, s_, t)\n",
    "    \n",
    "    def learn(self, logs=False, verbose=False):\n",
    "        \"\"\"Performs a single learning batch\"\"\"\n",
    "        if self.memory.mem_cntr < self.batch_size:\n",
    "            return\n",
    "        \n",
    "        s, a, r, s_, t = self.memory.sample(self.batch_size)\n",
    "        \n",
    "        # .unsqueeze(1): [1, 2, 3] --> [[1], [2], [3]]\n",
    "        s = torch.tensor(s, dtype=torch.float)\n",
    "        a = torch.tensor(a, dtype=torch.float).unsqueeze(1)\n",
    "        r = torch.tensor(r, dtype=torch.float).unsqueeze(1)\n",
    "        s_ = torch.tensor(s_, dtype=torch.float)\n",
    "        t = torch.tensor(t, dtype=torch.float).unsqueeze(1)\n",
    "        \n",
    "        # (1) For each QNetwork, update the parameters using MSE\n",
    "        # JQ = 𝔼_{st,at}~D[0.5(Q(st,at) - r(st,at) - γ(𝔼_{s_{t+1}~p}[V(s_{t+1})]))^2]\n",
    "        # s|a needs to happen along dim=1 as we are dealing with batched data\n",
    "        sa_cat = torch.cat([s, a], dim=1)\n",
    "        q_sa1 = self.q1(sa_cat.to(self.device))\n",
    "        q_sa2 = self.q2(sa_cat.to(self.device))\n",
    "        q_sa = torch.min(q_sa1, q_sa2) # getting fukt?\n",
    "        \n",
    "        # Now we need to get the next state which in the paper is described as V(s_{t+1})\n",
    "        # V(s) = Q(s,a) - alpha * log pi(a|s)\n",
    "        # We do not need the gradients for this portion...\n",
    "        with torch.no_grad():          \n",
    "            next_a, next_a_log_probs = self.pi.sample_action(s_.to(self.device))\n",
    "            next_sa_cat = torch.cat([s_.to(self.device), next_a], dim=1)\n",
    "            next_q_sa1 = self.qtarget1(next_sa_cat)\n",
    "            next_q_sa2 = self.qtarget2(next_sa_cat)\n",
    "            next_q_sa = torch.min(next_q_sa1, next_q_sa2) - self.alpha * next_a_log_probs\n",
    "            target = r.to(self.device) + t.to(self.device) * self.gamma * next_q_sa\n",
    "            \n",
    "\n",
    "        q1_loss = F.mse_loss(q_sa1, target)\n",
    "        q2_loss = F.mse_loss(q_sa2, target)\n",
    "        \n",
    "        self.q1.optimizer.zero_grad()\n",
    "        q1_loss.backward()\n",
    "        self.q1.optimizer.step()\n",
    "        \n",
    "        self.q2.optimizer.zero_grad()\n",
    "        q2_loss.backward()\n",
    "        self.q2.optimizer.step()\n",
    "        \n",
    "        # (2) Update the policy network \n",
    "        # Re-computing q_sa based on the new sample\n",
    "        a, a_log_probs = self.pi.sample_action(s.to(self.device))\n",
    "        sa_cat = torch.cat([s.to(self.device), a], dim=1)\n",
    "        q_sa1 = self.q1(sa_cat)\n",
    "        q_sa2 = self.q2(sa_cat)\n",
    "        q_sa = torch.min(q_sa1, q_sa2) \n",
    "        \n",
    "        pi_loss = (self.alpha * a_log_probs - q_sa).mean()\n",
    "        self.pi.optimizer.zero_grad()\n",
    "        pi_loss.backward()\n",
    "        self.pi.optimizer.step()\n",
    "        \n",
    "        # (3) Auto-tuning the entropy parameter using the original github reference\n",
    "        # https://github.com/rail-berkeley/softlearning/blob/master/softlearning/algorithms/sac.py\n",
    "        alpha_loss = - (\n",
    "            self.log_alpha * (a_log_probs + self.target_entropy).detach()\n",
    "        ).mean()\n",
    "        \n",
    "        if verbose:\n",
    "            print(self.log_alpha)\n",
    "            print(a_log_probs)\n",
    "            print(self.target_entropy)\n",
    "        \n",
    "        self.alpha_optimizer.zero_grad()\n",
    "        alpha_loss.backward()\n",
    "        self.alpha_optimizer.step()\n",
    "        self.alpha = self.log_alpha.exp()\n",
    "        \n",
    "        if logs:\n",
    "            return q1_loss.item(), q2_loss.item(), pi_loss.item(), alpha_loss.item(), self.alpha.clone().item()\n",
    "            "
   ]
  },
  {
   "cell_type": "code",
   "execution_count": 6,
   "metadata": {},
   "outputs": [],
   "source": [
    "from torch.distributions import Categorical\n",
    "import torch.nn.functional as F\n",
    "import torch"
   ]
  },
  {
   "cell_type": "code",
   "execution_count": 9,
   "metadata": {},
   "outputs": [],
   "source": [
    "probs = F.softmax(torch.tensor([\n",
    "    10, 3, 5, 8, 22, .3\n",
    "]), dim=-1)"
   ]
  },
  {
   "cell_type": "code",
   "execution_count": 10,
   "metadata": {},
   "outputs": [
    {
     "data": {
      "text/plain": [
       "tensor([6.1442e-06, 5.6028e-09, 4.1399e-08, 8.3152e-07, 9.9999e-01, 3.7654e-10])"
      ]
     },
     "execution_count": 10,
     "metadata": {},
     "output_type": "execute_result"
    }
   ],
   "source": [
    "probs"
   ]
  },
  {
   "cell_type": "code",
   "execution_count": 11,
   "metadata": {},
   "outputs": [],
   "source": [
    "p = Categorical(probs)"
   ]
  },
  {
   "cell_type": "code",
   "execution_count": 32,
   "metadata": {},
   "outputs": [
    {
     "data": {
      "text/plain": [
       "tensor(4)"
      ]
     },
     "execution_count": 32,
     "metadata": {},
     "output_type": "execute_result"
    }
   ],
   "source": [
    "torch.argmax(probs)"
   ]
  },
  {
   "cell_type": "code",
   "execution_count": 39,
   "metadata": {
    "scrolled": true
   },
   "outputs": [
    {
     "name": "stderr",
     "output_type": "stream",
     "text": [
      "/home/trevor/anaconda3/envs/torch/lib/python3.8/site-packages/gym/logger.py:30: UserWarning: \u001b[33mWARN: Box bound precision lowered by casting to float32\u001b[0m\n",
      "  warnings.warn(colorize('%s: %s'%('WARN', msg % args), 'yellow'))\n"
     ]
    }
   ],
   "source": [
    "env = gym.make('Pendulum-v0')"
   ]
  },
  {
   "cell_type": "code",
   "execution_count": 40,
   "metadata": {},
   "outputs": [],
   "source": [
    "agent = SAC(\n",
    "    s_shape=3, n_actions=1, mem_size=100000, batch_size=256, \n",
    "    device='cuda', lr=3e-4, gamma=0.99, tau=0.005, alpha=0.05\n",
    ")"
   ]
  },
  {
   "cell_type": "code",
   "execution_count": 41,
   "metadata": {
    "scrolled": true
   },
   "outputs": [
    {
     "name": "stderr",
     "output_type": "stream",
     "text": [
      "  1%|          | 100/10000 [03:47<6:27:50,  2.35s/it]"
     ]
    },
    {
     "name": "stdout",
     "output_type": "stream",
     "text": [
      "R: -1521.475, Q1: 1.045, Q2: 1.033, Pi: 6.703, A: -3.247, a: 0.171\n"
     ]
    },
    {
     "name": "stderr",
     "output_type": "stream",
     "text": [
      "  2%|▏         | 200/10000 [07:38<6:09:23,  2.26s/it]"
     ]
    },
    {
     "name": "stdout",
     "output_type": "stream",
     "text": [
      "R: -1612.198, Q1: 0.297, Q2: 0.297, Pi: 9.965, A: 0.076, a: 0.005\n"
     ]
    },
    {
     "name": "stderr",
     "output_type": "stream",
     "text": [
      "  3%|▎         | 300/10000 [11:40<6:27:49,  2.40s/it]"
     ]
    },
    {
     "name": "stdout",
     "output_type": "stream",
     "text": [
      "R: -1579.065, Q1: 0.419, Q2: 0.42, Pi: 13.058, A: 0.052, a: 0.008\n"
     ]
    },
    {
     "name": "stderr",
     "output_type": "stream",
     "text": [
      "  4%|▍         | 400/10000 [15:50<6:53:27,  2.58s/it]"
     ]
    },
    {
     "name": "stdout",
     "output_type": "stream",
     "text": [
      "R: -1583.455, Q1: 0.676, Q2: 0.676, Pi: 16.266, A: 0.05, a: 0.011\n"
     ]
    },
    {
     "name": "stderr",
     "output_type": "stream",
     "text": [
      "  5%|▌         | 500/10000 [20:09<6:58:49,  2.65s/it]"
     ]
    },
    {
     "name": "stdout",
     "output_type": "stream",
     "text": [
      "R: -1570.541, Q1: 1.094, Q2: 1.095, Pi: 19.651, A: 0.027, a: 0.014\n"
     ]
    },
    {
     "name": "stderr",
     "output_type": "stream",
     "text": [
      "  6%|▌         | 600/10000 [24:30<6:56:23,  2.66s/it]"
     ]
    },
    {
     "name": "stdout",
     "output_type": "stream",
     "text": [
      "R: -1539.766, Q1: 1.444, Q2: 1.444, Pi: 23.516, A: 0.043, a: 0.018\n"
     ]
    },
    {
     "name": "stderr",
     "output_type": "stream",
     "text": [
      "  7%|▋         | 700/10000 [28:52<6:45:40,  2.62s/it]"
     ]
    },
    {
     "name": "stdout",
     "output_type": "stream",
     "text": [
      "R: -1480.852, Q1: 2.118, Q2: 2.118, Pi: 27.121, A: 0.031, a: 0.024\n"
     ]
    },
    {
     "name": "stderr",
     "output_type": "stream",
     "text": [
      "  8%|▊         | 800/10000 [33:13<6:40:38,  2.61s/it]"
     ]
    },
    {
     "name": "stdout",
     "output_type": "stream",
     "text": [
      "R: -1394.125, Q1: 2.89, Q2: 2.89, Pi: 30.301, A: 0.02, a: 0.032\n"
     ]
    },
    {
     "name": "stderr",
     "output_type": "stream",
     "text": [
      "  9%|▉         | 900/10000 [37:34<6:25:28,  2.54s/it]"
     ]
    },
    {
     "name": "stdout",
     "output_type": "stream",
     "text": [
      "R: -1365.322, Q1: 3.565, Q2: 3.564, Pi: 33.144, A: 0.022, a: 0.041\n"
     ]
    },
    {
     "name": "stderr",
     "output_type": "stream",
     "text": [
      " 10%|█         | 1000/10000 [41:57<6:31:34,  2.61s/it]"
     ]
    },
    {
     "name": "stdout",
     "output_type": "stream",
     "text": [
      "R: -1316.666, Q1: 4.183, Q2: 4.182, Pi: 35.578, A: -0.004, a: 0.045\n"
     ]
    },
    {
     "name": "stderr",
     "output_type": "stream",
     "text": [
      " 11%|█         | 1100/10000 [46:18<6:22:11,  2.58s/it]"
     ]
    },
    {
     "name": "stdout",
     "output_type": "stream",
     "text": [
      "R: -1280.194, Q1: 4.673, Q2: 4.673, Pi: 37.595, A: 0.009, a: 0.048\n"
     ]
    },
    {
     "name": "stderr",
     "output_type": "stream",
     "text": [
      " 12%|█▏        | 1200/10000 [50:40<6:26:46,  2.64s/it]"
     ]
    },
    {
     "name": "stdout",
     "output_type": "stream",
     "text": [
      "R: -1295.196, Q1: 5.117, Q2: 5.117, Pi: 39.427, A: 0.007, a: 0.054\n"
     ]
    },
    {
     "name": "stderr",
     "output_type": "stream",
     "text": [
      " 13%|█▎        | 1300/10000 [55:02<6:20:30,  2.62s/it]"
     ]
    },
    {
     "name": "stdout",
     "output_type": "stream",
     "text": [
      "R: -1248.621, Q1: 5.603, Q2: 5.602, Pi: 41.317, A: 0.013, a: 0.061\n"
     ]
    },
    {
     "name": "stderr",
     "output_type": "stream",
     "text": [
      " 14%|█▍        | 1400/10000 [59:24<6:16:14,  2.62s/it]"
     ]
    },
    {
     "name": "stdout",
     "output_type": "stream",
     "text": [
      "R: -1177.798, Q1: 6.414, Q2: 6.411, Pi: 43.145, A: 0.001, a: 0.067\n"
     ]
    },
    {
     "name": "stderr",
     "output_type": "stream",
     "text": [
      " 15%|█▌        | 1500/10000 [1:03:43<6:08:24,  2.60s/it]"
     ]
    },
    {
     "name": "stdout",
     "output_type": "stream",
     "text": [
      "R: -1149.583, Q1: 7.25, Q2: 7.247, Pi: 44.649, A: 0.004, a: 0.073\n"
     ]
    },
    {
     "name": "stderr",
     "output_type": "stream",
     "text": [
      " 16%|█▌        | 1600/10000 [1:07:54<5:58:38,  2.56s/it]"
     ]
    },
    {
     "name": "stdout",
     "output_type": "stream",
     "text": [
      "R: -1122.813, Q1: 8.186, Q2: 8.183, Pi: 46.077, A: 0.004, a: 0.077\n"
     ]
    },
    {
     "name": "stderr",
     "output_type": "stream",
     "text": [
      " 17%|█▋        | 1700/10000 [1:12:06<5:41:49,  2.47s/it]"
     ]
    },
    {
     "name": "stdout",
     "output_type": "stream",
     "text": [
      "R: -1027.022, Q1: 9.02, Q2: 9.02, Pi: 47.149, A: 0.003, a: 0.082\n"
     ]
    },
    {
     "name": "stderr",
     "output_type": "stream",
     "text": [
      " 18%|█▊        | 1800/10000 [1:16:23<5:54:24,  2.59s/it]"
     ]
    },
    {
     "name": "stdout",
     "output_type": "stream",
     "text": [
      "R: -1045.651, Q1: 10.014, Q2: 10.015, Pi: 47.799, A: 0.005, a: 0.083\n"
     ]
    },
    {
     "name": "stderr",
     "output_type": "stream",
     "text": [
      " 19%|█▉        | 1900/10000 [1:20:43<5:50:20,  2.60s/it]"
     ]
    },
    {
     "name": "stdout",
     "output_type": "stream",
     "text": [
      "R: -1035.263, Q1: 10.977, Q2: 10.979, Pi: 48.649, A: 0.006, a: 0.094\n"
     ]
    },
    {
     "name": "stderr",
     "output_type": "stream",
     "text": [
      " 20%|██        | 2000/10000 [1:25:05<5:52:03,  2.64s/it]"
     ]
    },
    {
     "name": "stdout",
     "output_type": "stream",
     "text": [
      "R: -1032.002, Q1: 11.542, Q2: 11.542, Pi: 49.771, A: 0.002, a: 0.102\n"
     ]
    },
    {
     "name": "stderr",
     "output_type": "stream",
     "text": [
      " 21%|██        | 2100/10000 [1:29:27<5:36:54,  2.56s/it]"
     ]
    },
    {
     "name": "stdout",
     "output_type": "stream",
     "text": [
      "R: -920.941, Q1: 11.909, Q2: 11.909, Pi: 50.78, A: 0.003, a: 0.108\n"
     ]
    },
    {
     "name": "stderr",
     "output_type": "stream",
     "text": [
      " 22%|██▏       | 2200/10000 [1:33:49<5:38:46,  2.61s/it]"
     ]
    },
    {
     "name": "stdout",
     "output_type": "stream",
     "text": [
      "R: -955.657, Q1: 12.201, Q2: 12.203, Pi: 51.528, A: 0.006, a: 0.118\n"
     ]
    },
    {
     "name": "stderr",
     "output_type": "stream",
     "text": [
      " 23%|██▎       | 2300/10000 [1:38:11<5:27:46,  2.55s/it]"
     ]
    },
    {
     "name": "stdout",
     "output_type": "stream",
     "text": [
      "R: -901.2, Q1: 12.786, Q2: 12.789, Pi: 52.343, A: 0.002, a: 0.13\n"
     ]
    },
    {
     "name": "stderr",
     "output_type": "stream",
     "text": [
      " 24%|██▍       | 2400/10000 [1:42:32<5:38:50,  2.68s/it]"
     ]
    },
    {
     "name": "stdout",
     "output_type": "stream",
     "text": [
      "R: -786.449, Q1: 12.531, Q2: 12.533, Pi: 51.987, A: 0.001, a: 0.132\n"
     ]
    },
    {
     "name": "stderr",
     "output_type": "stream",
     "text": [
      " 25%|██▌       | 2500/10000 [1:46:52<5:36:18,  2.69s/it]"
     ]
    },
    {
     "name": "stdout",
     "output_type": "stream",
     "text": [
      "R: -740.231, Q1: 12.103, Q2: 12.105, Pi: 50.747, A: 0.002, a: 0.138\n"
     ]
    },
    {
     "name": "stderr",
     "output_type": "stream",
     "text": [
      " 26%|██▌       | 2600/10000 [1:51:15<5:15:07,  2.56s/it]"
     ]
    },
    {
     "name": "stdout",
     "output_type": "stream",
     "text": [
      "R: -600.384, Q1: 11.168, Q2: 11.171, Pi: 48.643, A: -0.001, a: 0.138\n"
     ]
    },
    {
     "name": "stderr",
     "output_type": "stream",
     "text": [
      " 27%|██▋       | 2700/10000 [1:55:35<5:12:17,  2.57s/it]"
     ]
    },
    {
     "name": "stdout",
     "output_type": "stream",
     "text": [
      "R: -482.988, Q1: 9.8, Q2: 9.804, Pi: 45.856, A: -0.002, a: 0.135\n"
     ]
    },
    {
     "name": "stderr",
     "output_type": "stream",
     "text": [
      " 28%|██▊       | 2800/10000 [1:59:56<5:06:51,  2.56s/it]"
     ]
    },
    {
     "name": "stdout",
     "output_type": "stream",
     "text": [
      "R: -452.853, Q1: 7.773, Q2: 7.778, Pi: 41.603, A: -0.005, a: 0.122\n"
     ]
    },
    {
     "name": "stderr",
     "output_type": "stream",
     "text": [
      " 29%|██▉       | 2900/10000 [2:04:09<4:57:34,  2.51s/it]"
     ]
    },
    {
     "name": "stdout",
     "output_type": "stream",
     "text": [
      "R: -336.052, Q1: 5.688, Q2: 5.691, Pi: 37.61, A: -0.011, a: 0.107\n"
     ]
    },
    {
     "name": "stderr",
     "output_type": "stream",
     "text": [
      " 30%|███       | 3000/10000 [2:08:21<4:58:29,  2.56s/it]"
     ]
    },
    {
     "name": "stdout",
     "output_type": "stream",
     "text": [
      "R: -346.132, Q1: 3.848, Q2: 3.849, Pi: 32.702, A: -0.016, a: 0.082\n"
     ]
    },
    {
     "name": "stderr",
     "output_type": "stream",
     "text": [
      " 31%|███       | 3100/10000 [2:12:32<4:58:01,  2.59s/it]"
     ]
    },
    {
     "name": "stdout",
     "output_type": "stream",
     "text": [
      "R: -326.243, Q1: 2.424, Q2: 2.425, Pi: 28.53, A: -0.027, a: 0.058\n"
     ]
    },
    {
     "name": "stderr",
     "output_type": "stream",
     "text": [
      " 32%|███▏      | 3200/10000 [2:16:47<4:43:10,  2.50s/it]"
     ]
    },
    {
     "name": "stdout",
     "output_type": "stream",
     "text": [
      "R: -283.618, Q1: 1.296, Q2: 1.297, Pi: 25.215, A: -0.03, a: 0.038\n"
     ]
    },
    {
     "name": "stderr",
     "output_type": "stream",
     "text": [
      " 33%|███▎      | 3300/10000 [2:21:00<4:41:02,  2.52s/it]"
     ]
    },
    {
     "name": "stdout",
     "output_type": "stream",
     "text": [
      "R: -258.133, Q1: 0.684, Q2: 0.684, Pi: 22.785, A: -0.046, a: 0.024\n"
     ]
    },
    {
     "name": "stderr",
     "output_type": "stream",
     "text": [
      " 34%|███▍      | 3400/10000 [2:25:12<4:27:07,  2.43s/it]"
     ]
    },
    {
     "name": "stdout",
     "output_type": "stream",
     "text": [
      "R: -236.398, Q1: 0.224, Q2: 0.224, Pi: 20.487, A: -0.052, a: 0.015\n"
     ]
    },
    {
     "name": "stderr",
     "output_type": "stream",
     "text": [
      " 35%|███▌      | 3500/10000 [2:29:23<4:24:03,  2.44s/it]"
     ]
    },
    {
     "name": "stdout",
     "output_type": "stream",
     "text": [
      "R: -241.271, Q1: 0.089, Q2: 0.089, Pi: 19.634, A: -0.044, a: 0.01\n"
     ]
    },
    {
     "name": "stderr",
     "output_type": "stream",
     "text": [
      " 36%|███▌      | 3600/10000 [2:33:33<4:37:10,  2.60s/it]"
     ]
    },
    {
     "name": "stdout",
     "output_type": "stream",
     "text": [
      "R: -287.097, Q1: 0.019, Q2: 0.019, Pi: 18.879, A: -0.035, a: 0.007\n"
     ]
    },
    {
     "name": "stderr",
     "output_type": "stream",
     "text": [
      " 37%|███▋      | 3700/10000 [2:37:42<4:20:57,  2.49s/it]"
     ]
    },
    {
     "name": "stdout",
     "output_type": "stream",
     "text": [
      "R: -242.828, Q1: 0.017, Q2: 0.017, Pi: 18.534, A: -0.014, a: 0.006\n"
     ]
    },
    {
     "name": "stderr",
     "output_type": "stream",
     "text": [
      " 38%|███▊      | 3800/10000 [2:41:57<4:28:08,  2.59s/it]"
     ]
    },
    {
     "name": "stdout",
     "output_type": "stream",
     "text": [
      "R: -255.616, Q1: 0.017, Q2: 0.017, Pi: 18.503, A: -0.019, a: 0.006\n"
     ]
    },
    {
     "name": "stderr",
     "output_type": "stream",
     "text": [
      " 39%|███▉      | 3900/10000 [2:46:16<4:27:44,  2.63s/it]"
     ]
    },
    {
     "name": "stdout",
     "output_type": "stream",
     "text": [
      "R: -255.779, Q1: 0.017, Q2: 0.017, Pi: 18.771, A: 0.004, a: 0.005\n"
     ]
    },
    {
     "name": "stderr",
     "output_type": "stream",
     "text": [
      " 40%|████      | 4000/10000 [2:50:35<4:20:05,  2.60s/it]"
     ]
    },
    {
     "name": "stdout",
     "output_type": "stream",
     "text": [
      "R: -255.932, Q1: 0.017, Q2: 0.017, Pi: 19.037, A: 0.005, a: 0.005\n"
     ]
    },
    {
     "name": "stderr",
     "output_type": "stream",
     "text": [
      " 41%|████      | 4100/10000 [2:54:56<4:10:41,  2.55s/it]"
     ]
    },
    {
     "name": "stdout",
     "output_type": "stream",
     "text": [
      "R: -225.191, Q1: 0.016, Q2: 0.017, Pi: 19.127, A: -0.016, a: 0.005\n"
     ]
    },
    {
     "name": "stderr",
     "output_type": "stream",
     "text": [
      " 42%|████▏     | 4200/10000 [2:59:09<3:59:54,  2.48s/it]"
     ]
    },
    {
     "name": "stdout",
     "output_type": "stream",
     "text": [
      "R: -252.047, Q1: 0.017, Q2: 0.017, Pi: 18.853, A: 0.013, a: 0.005\n"
     ]
    },
    {
     "name": "stderr",
     "output_type": "stream",
     "text": [
      " 43%|████▎     | 4300/10000 [3:03:20<3:59:28,  2.52s/it]"
     ]
    },
    {
     "name": "stdout",
     "output_type": "stream",
     "text": [
      "R: -262.316, Q1: 0.017, Q2: 0.018, Pi: 19.247, A: 0.021, a: 0.005\n"
     ]
    },
    {
     "name": "stderr",
     "output_type": "stream",
     "text": [
      " 44%|████▍     | 4400/10000 [3:07:33<3:59:06,  2.56s/it]"
     ]
    },
    {
     "name": "stdout",
     "output_type": "stream",
     "text": [
      "R: -286.928, Q1: 0.017, Q2: 0.018, Pi: 19.9, A: 0.002, a: 0.006\n"
     ]
    },
    {
     "name": "stderr",
     "output_type": "stream",
     "text": [
      " 45%|████▌     | 4500/10000 [3:11:44<3:49:55,  2.51s/it]"
     ]
    },
    {
     "name": "stdout",
     "output_type": "stream",
     "text": [
      "R: -265.395, Q1: 0.018, Q2: 0.018, Pi: 20.542, A: 0.016, a: 0.006\n"
     ]
    },
    {
     "name": "stderr",
     "output_type": "stream",
     "text": [
      " 46%|████▌     | 4600/10000 [3:15:55<3:45:54,  2.51s/it]"
     ]
    },
    {
     "name": "stdout",
     "output_type": "stream",
     "text": [
      "R: -277.454, Q1: 0.026, Q2: 0.027, Pi: 20.88, A: 0.096, a: 0.008\n"
     ]
    },
    {
     "name": "stderr",
     "output_type": "stream",
     "text": [
      " 47%|████▋     | 4700/10000 [3:20:03<3:40:39,  2.50s/it]"
     ]
    },
    {
     "name": "stdout",
     "output_type": "stream",
     "text": [
      "R: -271.897, Q1: 0.02, Q2: 0.021, Pi: 21.663, A: -0.025, a: 0.008\n"
     ]
    },
    {
     "name": "stderr",
     "output_type": "stream",
     "text": [
      " 48%|████▊     | 4800/10000 [3:24:16<3:44:45,  2.59s/it]"
     ]
    },
    {
     "name": "stdout",
     "output_type": "stream",
     "text": [
      "R: -244.146, Q1: 0.02, Q2: 0.021, Pi: 21.791, A: -0.014, a: 0.007\n"
     ]
    },
    {
     "name": "stderr",
     "output_type": "stream",
     "text": [
      " 49%|████▉     | 4900/10000 [3:28:35<3:40:28,  2.59s/it]"
     ]
    },
    {
     "name": "stdout",
     "output_type": "stream",
     "text": [
      "R: -234.681, Q1: 0.022, Q2: 0.023, Pi: 21.491, A: -0.019, a: 0.006\n"
     ]
    },
    {
     "name": "stderr",
     "output_type": "stream",
     "text": [
      " 50%|█████     | 5000/10000 [3:32:56<3:39:24,  2.63s/it]"
     ]
    },
    {
     "name": "stdout",
     "output_type": "stream",
     "text": [
      "R: -251.177, Q1: 0.021, Q2: 0.023, Pi: 21.072, A: -0.022, a: 0.006\n"
     ]
    },
    {
     "name": "stderr",
     "output_type": "stream",
     "text": [
      " 51%|█████     | 5100/10000 [3:37:17<3:35:49,  2.64s/it]"
     ]
    },
    {
     "name": "stdout",
     "output_type": "stream",
     "text": [
      "R: -257.209, Q1: 0.022, Q2: 0.024, Pi: 21.427, A: 0.032, a: 0.006\n"
     ]
    },
    {
     "name": "stderr",
     "output_type": "stream",
     "text": [
      " 52%|█████▏    | 5200/10000 [3:41:26<3:20:50,  2.51s/it]"
     ]
    },
    {
     "name": "stdout",
     "output_type": "stream",
     "text": [
      "R: -248.73, Q1: 0.023, Q2: 0.024, Pi: 21.176, A: 0.005, a: 0.006\n"
     ]
    },
    {
     "name": "stderr",
     "output_type": "stream",
     "text": [
      " 53%|█████▎    | 5300/10000 [3:45:36<3:13:10,  2.47s/it]"
     ]
    },
    {
     "name": "stdout",
     "output_type": "stream",
     "text": [
      "R: -243.966, Q1: 0.027, Q2: 0.028, Pi: 21.215, A: 0.034, a: 0.007\n"
     ]
    },
    {
     "name": "stderr",
     "output_type": "stream",
     "text": [
      " 54%|█████▍    | 5400/10000 [3:49:47<3:03:34,  2.39s/it]"
     ]
    },
    {
     "name": "stdout",
     "output_type": "stream",
     "text": [
      "R: -224.025, Q1: 0.027, Q2: 0.028, Pi: 21.371, A: 0.013, a: 0.008\n"
     ]
    },
    {
     "name": "stderr",
     "output_type": "stream",
     "text": [
      " 55%|█████▌    | 5500/10000 [3:53:59<3:11:17,  2.55s/it]"
     ]
    },
    {
     "name": "stdout",
     "output_type": "stream",
     "text": [
      "R: -253.812, Q1: 0.029, Q2: 0.031, Pi: 21.657, A: 0.019, a: 0.009\n"
     ]
    },
    {
     "name": "stderr",
     "output_type": "stream",
     "text": [
      " 56%|█████▌    | 5600/10000 [3:58:09<2:57:00,  2.41s/it]"
     ]
    },
    {
     "name": "stdout",
     "output_type": "stream",
     "text": [
      "R: -274.079, Q1: 0.03, Q2: 0.033, Pi: 21.717, A: 0.006, a: 0.01\n"
     ]
    },
    {
     "name": "stderr",
     "output_type": "stream",
     "text": [
      " 57%|█████▋    | 5700/10000 [4:02:21<3:04:38,  2.58s/it]"
     ]
    },
    {
     "name": "stdout",
     "output_type": "stream",
     "text": [
      "R: -265.88, Q1: 0.033, Q2: 0.036, Pi: 22.365, A: -0.0, a: 0.01\n"
     ]
    },
    {
     "name": "stderr",
     "output_type": "stream",
     "text": [
      " 58%|█████▊    | 5800/10000 [4:06:33<2:54:37,  2.49s/it]"
     ]
    },
    {
     "name": "stdout",
     "output_type": "stream",
     "text": [
      "R: -237.061, Q1: 0.037, Q2: 0.042, Pi: 22.568, A: 0.016, a: 0.011\n"
     ]
    },
    {
     "name": "stderr",
     "output_type": "stream",
     "text": [
      " 59%|█████▉    | 5900/10000 [4:10:43<2:51:22,  2.51s/it]"
     ]
    },
    {
     "name": "stdout",
     "output_type": "stream",
     "text": [
      "R: -241.091, Q1: 0.039, Q2: 0.044, Pi: 22.314, A: 0.034, a: 0.013\n"
     ]
    },
    {
     "name": "stderr",
     "output_type": "stream",
     "text": [
      " 60%|██████    | 6000/10000 [4:14:54<2:51:18,  2.57s/it]"
     ]
    },
    {
     "name": "stdout",
     "output_type": "stream",
     "text": [
      "R: -240.318, Q1: 0.045, Q2: 0.05, Pi: 22.571, A: 0.01, a: 0.015\n"
     ]
    },
    {
     "name": "stderr",
     "output_type": "stream",
     "text": [
      " 61%|██████    | 6100/10000 [4:19:04<2:41:25,  2.48s/it]"
     ]
    },
    {
     "name": "stdout",
     "output_type": "stream",
     "text": [
      "R: -205.635, Q1: 0.046, Q2: 0.05, Pi: 22.644, A: -0.001, a: 0.016\n"
     ]
    },
    {
     "name": "stderr",
     "output_type": "stream",
     "text": [
      " 62%|██████▏   | 6200/10000 [4:23:16<2:40:20,  2.53s/it]"
     ]
    },
    {
     "name": "stdout",
     "output_type": "stream",
     "text": [
      "R: -245.559, Q1: 0.047, Q2: 0.054, Pi: 22.193, A: -0.008, a: 0.015\n"
     ]
    },
    {
     "name": "stderr",
     "output_type": "stream",
     "text": [
      " 63%|██████▎   | 6300/10000 [4:27:27<2:35:47,  2.53s/it]"
     ]
    },
    {
     "name": "stdout",
     "output_type": "stream",
     "text": [
      "R: -287.978, Q1: 0.049, Q2: 0.055, Pi: 22.852, A: -0.028, a: 0.014\n"
     ]
    },
    {
     "name": "stderr",
     "output_type": "stream",
     "text": [
      " 64%|██████▍   | 6400/10000 [4:31:37<2:25:56,  2.43s/it]"
     ]
    },
    {
     "name": "stdout",
     "output_type": "stream",
     "text": [
      "R: -271.323, Q1: 0.052, Q2: 0.059, Pi: 24.29, A: -0.004, a: 0.012\n"
     ]
    },
    {
     "name": "stderr",
     "output_type": "stream",
     "text": [
      " 65%|██████▌   | 6500/10000 [4:35:47<2:27:20,  2.53s/it]"
     ]
    },
    {
     "name": "stdout",
     "output_type": "stream",
     "text": [
      "R: -254.853, Q1: 0.053, Q2: 0.059, Pi: 25.225, A: -0.029, a: 0.011\n"
     ]
    },
    {
     "name": "stderr",
     "output_type": "stream",
     "text": [
      " 66%|██████▌   | 6600/10000 [4:39:57<2:19:41,  2.47s/it]"
     ]
    },
    {
     "name": "stdout",
     "output_type": "stream",
     "text": [
      "R: -260.763, Q1: 0.071, Q2: 0.081, Pi: 25.526, A: -0.016, a: 0.009\n"
     ]
    },
    {
     "name": "stderr",
     "output_type": "stream",
     "text": [
      " 67%|██████▋   | 6700/10000 [4:44:07<2:18:18,  2.51s/it]"
     ]
    },
    {
     "name": "stdout",
     "output_type": "stream",
     "text": [
      "R: -250.834, Q1: 0.063, Q2: 0.071, Pi: 26.44, A: -0.003, a: 0.008\n"
     ]
    },
    {
     "name": "stderr",
     "output_type": "stream",
     "text": [
      " 68%|██████▊   | 6800/10000 [4:48:16<2:12:02,  2.48s/it]"
     ]
    },
    {
     "name": "stdout",
     "output_type": "stream",
     "text": [
      "R: -273.033, Q1: 0.069, Q2: 0.075, Pi: 26.126, A: -0.004, a: 0.007\n"
     ]
    },
    {
     "name": "stderr",
     "output_type": "stream",
     "text": [
      " 69%|██████▉   | 6900/10000 [4:52:27<2:08:14,  2.48s/it]"
     ]
    },
    {
     "name": "stdout",
     "output_type": "stream",
     "text": [
      "R: -301.971, Q1: 0.075, Q2: 0.081, Pi: 25.727, A: 0.028, a: 0.008\n"
     ]
    },
    {
     "name": "stderr",
     "output_type": "stream",
     "text": [
      " 70%|███████   | 7000/10000 [4:56:37<2:04:32,  2.49s/it]"
     ]
    },
    {
     "name": "stdout",
     "output_type": "stream",
     "text": [
      "R: -258.429, Q1: 0.077, Q2: 0.084, Pi: 25.889, A: 0.048, a: 0.01\n"
     ]
    },
    {
     "name": "stderr",
     "output_type": "stream",
     "text": [
      " 71%|███████   | 7100/10000 [5:00:47<1:59:43,  2.48s/it]"
     ]
    },
    {
     "name": "stdout",
     "output_type": "stream",
     "text": [
      "R: -251.832, Q1: 0.084, Q2: 0.095, Pi: 25.994, A: 0.013, a: 0.012\n"
     ]
    },
    {
     "name": "stderr",
     "output_type": "stream",
     "text": [
      " 72%|███████▏  | 7200/10000 [5:04:58<1:53:34,  2.43s/it]"
     ]
    },
    {
     "name": "stdout",
     "output_type": "stream",
     "text": [
      "R: -271.99, Q1: 0.091, Q2: 0.103, Pi: 25.277, A: 0.02, a: 0.014\n"
     ]
    },
    {
     "name": "stderr",
     "output_type": "stream",
     "text": [
      " 73%|███████▎  | 7300/10000 [5:09:08<1:51:33,  2.48s/it]"
     ]
    },
    {
     "name": "stdout",
     "output_type": "stream",
     "text": [
      "R: -243.0, Q1: 0.096, Q2: 0.109, Pi: 25.856, A: -0.004, a: 0.015\n"
     ]
    },
    {
     "name": "stderr",
     "output_type": "stream",
     "text": [
      " 74%|███████▍  | 7400/10000 [5:13:18<1:49:28,  2.53s/it]"
     ]
    },
    {
     "name": "stdout",
     "output_type": "stream",
     "text": [
      "R: -236.362, Q1: 0.123, Q2: 0.134, Pi: 25.715, A: -0.006, a: 0.014\n"
     ]
    },
    {
     "name": "stderr",
     "output_type": "stream",
     "text": [
      " 75%|███████▌  | 7500/10000 [5:17:28<1:43:40,  2.49s/it]"
     ]
    },
    {
     "name": "stdout",
     "output_type": "stream",
     "text": [
      "R: -211.01, Q1: 0.12, Q2: 0.13, Pi: 25.278, A: -0.006, a: 0.013\n"
     ]
    },
    {
     "name": "stderr",
     "output_type": "stream",
     "text": [
      " 76%|███████▌  | 7600/10000 [5:21:36<1:41:14,  2.53s/it]"
     ]
    },
    {
     "name": "stdout",
     "output_type": "stream",
     "text": [
      "R: -246.305, Q1: 0.113, Q2: 0.129, Pi: 24.914, A: -0.069, a: 0.01\n"
     ]
    },
    {
     "name": "stderr",
     "output_type": "stream",
     "text": [
      " 77%|███████▋  | 7700/10000 [5:25:48<1:38:27,  2.57s/it]"
     ]
    },
    {
     "name": "stdout",
     "output_type": "stream",
     "text": [
      "R: -220.892, Q1: 0.116, Q2: 0.131, Pi: 25.242, A: -0.027, a: 0.008\n"
     ]
    },
    {
     "name": "stderr",
     "output_type": "stream",
     "text": [
      " 78%|███████▊  | 7800/10000 [5:29:57<1:31:23,  2.49s/it]"
     ]
    },
    {
     "name": "stdout",
     "output_type": "stream",
     "text": [
      "R: -240.484, Q1: 0.123, Q2: 0.141, Pi: 24.475, A: 0.016, a: 0.007\n"
     ]
    },
    {
     "name": "stderr",
     "output_type": "stream",
     "text": [
      " 79%|███████▉  | 7900/10000 [5:34:09<1:29:39,  2.56s/it]"
     ]
    },
    {
     "name": "stdout",
     "output_type": "stream",
     "text": [
      "R: -229.772, Q1: 0.124, Q2: 0.139, Pi: 24.306, A: -0.012, a: 0.008\n"
     ]
    },
    {
     "name": "stderr",
     "output_type": "stream",
     "text": [
      " 80%|████████  | 8000/10000 [5:38:19<1:24:14,  2.53s/it]"
     ]
    },
    {
     "name": "stdout",
     "output_type": "stream",
     "text": [
      "R: -322.977, Q1: 0.128, Q2: 0.145, Pi: 24.466, A: 0.006, a: 0.007\n"
     ]
    },
    {
     "name": "stderr",
     "output_type": "stream",
     "text": [
      " 81%|████████  | 8100/10000 [5:42:28<1:18:14,  2.47s/it]"
     ]
    },
    {
     "name": "stdout",
     "output_type": "stream",
     "text": [
      "R: -227.063, Q1: 0.204, Q2: 0.22, Pi: 26.078, A: 0.038, a: 0.008\n"
     ]
    },
    {
     "name": "stderr",
     "output_type": "stream",
     "text": [
      " 82%|████████▏ | 8200/10000 [5:46:40<1:16:10,  2.54s/it]"
     ]
    },
    {
     "name": "stdout",
     "output_type": "stream",
     "text": [
      "R: -254.49, Q1: 0.149, Q2: 0.166, Pi: 26.326, A: -0.029, a: 0.007\n"
     ]
    },
    {
     "name": "stderr",
     "output_type": "stream",
     "text": [
      " 83%|████████▎ | 8300/10000 [5:50:50<1:11:06,  2.51s/it]"
     ]
    },
    {
     "name": "stdout",
     "output_type": "stream",
     "text": [
      "R: -220.532, Q1: 0.151, Q2: 0.172, Pi: 27.239, A: -0.019, a: 0.007\n"
     ]
    },
    {
     "name": "stderr",
     "output_type": "stream",
     "text": [
      " 84%|████████▍ | 8400/10000 [5:55:01<1:07:38,  2.54s/it]"
     ]
    },
    {
     "name": "stdout",
     "output_type": "stream",
     "text": [
      "R: -241.333, Q1: 0.151, Q2: 0.177, Pi: 27.391, A: 0.031, a: 0.007\n"
     ]
    },
    {
     "name": "stderr",
     "output_type": "stream",
     "text": [
      " 85%|████████▌ | 8500/10000 [5:59:13<1:03:23,  2.54s/it]"
     ]
    },
    {
     "name": "stdout",
     "output_type": "stream",
     "text": [
      "R: -228.424, Q1: 0.177, Q2: 0.215, Pi: 27.924, A: 0.082, a: 0.008\n"
     ]
    },
    {
     "name": "stderr",
     "output_type": "stream",
     "text": [
      " 86%|████████▌ | 8600/10000 [6:03:22<59:07,  2.53s/it]  "
     ]
    },
    {
     "name": "stdout",
     "output_type": "stream",
     "text": [
      "R: -237.571, Q1: 0.177, Q2: 0.215, Pi: 27.15, A: -0.019, a: 0.009\n"
     ]
    },
    {
     "name": "stderr",
     "output_type": "stream",
     "text": [
      " 87%|████████▋ | 8700/10000 [6:07:33<54:13,  2.50s/it]"
     ]
    },
    {
     "name": "stdout",
     "output_type": "stream",
     "text": [
      "R: -269.085, Q1: 0.172, Q2: 0.203, Pi: 27.297, A: 0.007, a: 0.01\n"
     ]
    },
    {
     "name": "stderr",
     "output_type": "stream",
     "text": [
      " 88%|████████▊ | 8800/10000 [6:11:42<49:35,  2.48s/it]"
     ]
    },
    {
     "name": "stdout",
     "output_type": "stream",
     "text": [
      "R: -260.989, Q1: 0.174, Q2: 0.209, Pi: 27.873, A: 0.025, a: 0.011\n"
     ]
    },
    {
     "name": "stderr",
     "output_type": "stream",
     "text": [
      " 89%|████████▉ | 8900/10000 [6:15:52<45:52,  2.50s/it]"
     ]
    },
    {
     "name": "stdout",
     "output_type": "stream",
     "text": [
      "R: -227.537, Q1: 0.188, Q2: 0.228, Pi: 28.093, A: 0.018, a: 0.013\n"
     ]
    },
    {
     "name": "stderr",
     "output_type": "stream",
     "text": [
      " 90%|█████████ | 9000/10000 [6:20:03<41:44,  2.50s/it]"
     ]
    },
    {
     "name": "stdout",
     "output_type": "stream",
     "text": [
      "R: -241.141, Q1: 0.191, Q2: 0.231, Pi: 27.9, A: -0.023, a: 0.012\n"
     ]
    },
    {
     "name": "stderr",
     "output_type": "stream",
     "text": [
      " 91%|█████████ | 9100/10000 [6:24:14<37:49,  2.52s/it]"
     ]
    },
    {
     "name": "stdout",
     "output_type": "stream",
     "text": [
      "R: -230.692, Q1: 0.19, Q2: 0.222, Pi: 27.955, A: -0.018, a: 0.011\n"
     ]
    },
    {
     "name": "stderr",
     "output_type": "stream",
     "text": [
      " 92%|█████████▏| 9200/10000 [6:28:26<33:28,  2.51s/it]"
     ]
    },
    {
     "name": "stdout",
     "output_type": "stream",
     "text": [
      "R: -242.347, Q1: 0.183, Q2: 0.212, Pi: 28.046, A: -0.002, a: 0.011\n"
     ]
    },
    {
     "name": "stderr",
     "output_type": "stream",
     "text": [
      " 93%|█████████▎| 9300/10000 [6:32:36<29:17,  2.51s/it]"
     ]
    },
    {
     "name": "stdout",
     "output_type": "stream",
     "text": [
      "R: -266.584, Q1: 0.189, Q2: 0.216, Pi: 27.55, A: -0.018, a: 0.01\n"
     ]
    },
    {
     "name": "stderr",
     "output_type": "stream",
     "text": [
      " 94%|█████████▍| 9400/10000 [6:36:46<25:23,  2.54s/it]"
     ]
    },
    {
     "name": "stdout",
     "output_type": "stream",
     "text": [
      "R: -246.282, Q1: 0.21, Q2: 0.229, Pi: 27.403, A: 0.013, a: 0.008\n"
     ]
    },
    {
     "name": "stderr",
     "output_type": "stream",
     "text": [
      " 95%|█████████▌| 9500/10000 [6:40:55<20:04,  2.41s/it]"
     ]
    },
    {
     "name": "stdout",
     "output_type": "stream",
     "text": [
      "R: -273.086, Q1: 0.216, Q2: 0.24, Pi: 27.416, A: -0.011, a: 0.008\n"
     ]
    },
    {
     "name": "stderr",
     "output_type": "stream",
     "text": [
      " 96%|█████████▌| 9600/10000 [6:45:06<16:33,  2.48s/it]"
     ]
    },
    {
     "name": "stdout",
     "output_type": "stream",
     "text": [
      "R: -209.545, Q1: 0.213, Q2: 0.251, Pi: 28.126, A: 0.046, a: 0.01\n"
     ]
    },
    {
     "name": "stderr",
     "output_type": "stream",
     "text": [
      " 97%|█████████▋| 9700/10000 [6:49:16<12:17,  2.46s/it]"
     ]
    },
    {
     "name": "stdout",
     "output_type": "stream",
     "text": [
      "R: -283.199, Q1: 0.223, Q2: 0.252, Pi: 27.757, A: -0.025, a: 0.01\n"
     ]
    },
    {
     "name": "stderr",
     "output_type": "stream",
     "text": [
      " 98%|█████████▊| 9800/10000 [6:53:27<08:23,  2.52s/it]"
     ]
    },
    {
     "name": "stdout",
     "output_type": "stream",
     "text": [
      "R: -267.376, Q1: 0.236, Q2: 0.263, Pi: 28.494, A: 0.035, a: 0.011\n"
     ]
    },
    {
     "name": "stderr",
     "output_type": "stream",
     "text": [
      " 99%|█████████▉| 9900/10000 [6:57:36<04:11,  2.52s/it]"
     ]
    },
    {
     "name": "stdout",
     "output_type": "stream",
     "text": [
      "R: -227.44, Q1: 0.239, Q2: 0.269, Pi: 29.069, A: -0.02, a: 0.012\n"
     ]
    },
    {
     "name": "stderr",
     "output_type": "stream",
     "text": [
      "100%|██████████| 10000/10000 [7:01:49<00:00,  2.53s/it]"
     ]
    },
    {
     "name": "stdout",
     "output_type": "stream",
     "text": [
      "R: -204.829, Q1: 0.218, Q2: 0.248, Pi: 28.503, A: -0.021, a: 0.011\n"
     ]
    },
    {
     "name": "stderr",
     "output_type": "stream",
     "text": [
      "\n"
     ]
    }
   ],
   "source": [
    "r_hist = []\n",
    "\n",
    "q1_loss_hist = []\n",
    "q2_loss_hist = []\n",
    "pi_loss_hist = []\n",
    "alpha_loss_hist = []\n",
    "alpha_hist = []\n",
    "\n",
    "N_EPS = 10000\n",
    "\n",
    "for i in tqdm(range(N_EPS)):\n",
    "    inner_r = []\n",
    "    inner_q1_loss_hist = []\n",
    "    inner_q2_loss_hist = []\n",
    "    inner_pi_loss_hist = []\n",
    "    inner_alpha_loss_hist = []\n",
    "    inner_alpha_hist = []\n",
    "    s = env.reset()\n",
    "    done = False\n",
    "    \n",
    "    while not done:\n",
    "        a = agent.sample_action(s)\n",
    "        s_, r, t, _ = env.step(a)\n",
    "        inner_r.append(r)\n",
    "        agent.remember(s, a, r, s_, t)\n",
    "        \n",
    "        if t:\n",
    "            done = True\n",
    "        try:\n",
    "            q1_loss, q2_loss, pi_loss, alpha_loss, alpha = agent.learn(logs=True)\n",
    "            inner_q1_loss_hist.append(q1_loss)\n",
    "            inner_q2_loss_hist.append(q2_loss)\n",
    "            inner_pi_loss_hist.append(pi_loss)\n",
    "            inner_alpha_loss_hist.append(alpha_loss)\n",
    "            inner_alpha_hist.append(alpha)\n",
    "        except:\n",
    "            continue\n",
    "        \n",
    "        s = s_\n",
    "    r_hist.append(np.sum(inner_r)) \n",
    "    \n",
    "    if len(inner_q1_loss_hist) > 0:\n",
    "        q1_loss_hist.append(np.mean(inner_q1_loss_hist))\n",
    "        q2_loss_hist.append(np.mean(inner_q2_loss_hist))\n",
    "        pi_loss_hist.append(np.mean(inner_pi_loss_hist))\n",
    "        alpha_loss_hist.append(np.mean(inner_alpha_loss_hist))\n",
    "        alpha_hist.append(np.mean(inner_alpha_hist))\n",
    "        \n",
    "    agent.soft_param_update()\n",
    "    \n",
    "    if (i+1) % 100 == 0:\n",
    "        print(\n",
    "            f'R: {round(np.mean(r_hist[-50:]), 3)}, Q1: {round(np.mean(q1_loss_hist[-100:]), 3)}, Q2: {round(np.mean(q2_loss_hist[-100:]), 3)}, Pi: {round(np.mean(pi_loss_hist[-100:]), 3)}, A: {round(np.mean(alpha_loss_hist[-100:]), 3)}, a: {round(np.mean(alpha_hist[-100:]), 3)}'\n",
    "        ) "
   ]
  },
  {
   "cell_type": "code",
   "execution_count": 42,
   "metadata": {},
   "outputs": [
    {
     "data": {
      "text/plain": [
       "[<matplotlib.lines.Line2D at 0x7fe0dc2cebb0>]"
      ]
     },
     "execution_count": 42,
     "metadata": {},
     "output_type": "execute_result"
    },
    {
     "data": {
      "image/png": "[encoded data removed]",
      "text/plain": [
       "<Figure size 432x288 with 1 Axes>"
      ]
     },
     "metadata": {
      "needs_background": "light"
     },
     "output_type": "display_data"
    }
   ],
   "source": [
    "plt.plot(q1_loss_hist)\n",
    "plt.plot(q2_loss_hist)"
   ]
  },
  {
   "cell_type": "code",
   "execution_count": 43,
   "metadata": {},
   "outputs": [
    {
     "data": {
      "text/plain": [
       "[<matplotlib.lines.Line2D at 0x7fe0bda024f0>]"
      ]
     },
     "execution_count": 43,
     "metadata": {},
     "output_type": "execute_result"
    },
    {
     "data": {
      "image/png": "[encoded data removed]",
      "text/plain": [
       "<Figure size 432x288 with 1 Axes>"
      ]
     },
     "metadata": {
      "needs_background": "light"
     },
     "output_type": "display_data"
    }
   ],
   "source": [
    "plt.plot(pi_loss_hist)"
   ]
  },
  {
   "cell_type": "code",
   "execution_count": 44,
   "metadata": {},
   "outputs": [
    {
     "data": {
      "text/plain": [
       "[<matplotlib.lines.Line2D at 0x7fe0bda32d60>]"
      ]
     },
     "execution_count": 44,
     "metadata": {},
     "output_type": "execute_result"
    },
    {
     "data": {
      "image/png": "[encoded data removed]",
      "text/plain": [
       "<Figure size 432x288 with 1 Axes>"
      ]
     },
     "metadata": {
      "needs_background": "light"
     },
     "output_type": "display_data"
    }
   ],
   "source": [
    "plt.plot(alpha_loss_hist)"
   ]
  },
  {
   "cell_type": "code",
   "execution_count": 45,
   "metadata": {},
   "outputs": [
    {
     "data": {
      "text/plain": [
       "[<matplotlib.lines.Line2D at 0x7fe0c60ccd00>]"
      ]
     },
     "execution_count": 45,
     "metadata": {},
     "output_type": "execute_result"
    },
    {
     "data": {
      "image/png": "[encoded data removed]",
      "text/plain": [
       "<Figure size 432x288 with 1 Axes>"
      ]
     },
     "metadata": {
      "needs_background": "light"
     },
     "output_type": "display_data"
    }
   ],
   "source": [
    "plt.plot(alpha_hist)"
   ]
  },
  {
   "cell_type": "code",
   "execution_count": 46,
   "metadata": {},
   "outputs": [
    {
     "data": {
      "text/plain": [
       "[<matplotlib.lines.Line2D at 0x7fe0c62bc460>]"
      ]
     },
     "execution_count": 46,
     "metadata": {},
     "output_type": "execute_result"
    },
    {
     "data": {
      "image/png": "[encoded data removed]",
      "text/plain": [
       "<Figure size 432x288 with 1 Axes>"
      ]
     },
     "metadata": {
      "needs_background": "light"
     },
     "output_type": "display_data"
    }
   ],
   "source": [
    "smoothed = []\n",
    "b_idx = 0\n",
    "e_idx = 50\n",
    "while e_idx <= len(r_hist):\n",
    "    smoothed.append(np.mean(r_hist[b_idx:e_idx]))\n",
    "    b_idx += 1\n",
    "    e_idx += 1\n",
    "\n",
    "plt.plot(smoothed)"
   ]
  },
  {
   "cell_type": "code",
   "execution_count": 47,
   "metadata": {},
   "outputs": [
    {
     "data": {
      "text/plain": [
       "[<matplotlib.lines.Line2D at 0x7fe0dc2e7730>]"
      ]
     },
     "execution_count": 47,
     "metadata": {},
     "output_type": "execute_result"
    },
    {
     "data": {
      "image/png": "[encoded data removed]",
      "text/plain": [
       "<Figure size 432x288 with 1 Axes>"
      ]
     },
     "metadata": {
      "needs_background": "light"
     },
     "output_type": "display_data"
    }
   ],
   "source": [
    "plt.plot(r_hist)"
   ]
  },
  {
   "cell_type": "code",
   "execution_count": 48,
   "metadata": {
    "scrolled": true
   },
   "outputs": [
    {
     "data": {
      "text/plain": [
       "-211.66646162878976"
      ]
     },
     "execution_count": 48,
     "metadata": {},
     "output_type": "execute_result"
    }
   ],
   "source": [
    "np.mean(r_hist[-100:])"
   ]
  },
  {
   "cell_type": "code",
   "execution_count": 49,
   "metadata": {},
   "outputs": [
    {
     "data": {
      "text/plain": [
       "148.84487093667096"
      ]
     },
     "execution_count": 49,
     "metadata": {},
     "output_type": "execute_result"
    }
   ],
   "source": [
    "np.std(r_hist[-100:])"
   ]
  },
  {
   "cell_type": "code",
   "execution_count": 93,
   "metadata": {
    "scrolled": true
   },
   "outputs": [],
   "source": [
    "now = agent.q1.state_dict()"
   ]
  },
  {
   "cell_type": "code",
   "execution_count": 97,
   "metadata": {},
   "outputs": [
    {
     "name": "stdout",
     "output_type": "stream",
     "text": [
      "tensor(0., device='cuda:0')\n",
      "tensor(0., device='cuda:0')\n",
      "tensor(0., device='cuda:0')\n",
      "tensor(0., device='cuda:0')\n",
      "tensor(0., device='cuda:0')\n",
      "tensor(0., device='cuda:0')\n"
     ]
    }
   ],
   "source": [
    "for k in now.keys():\n",
    "    print(torch.sum(now[k] - then[k]))"
   ]
  },
  {
   "cell_type": "code",
   "execution_count": 75,
   "metadata": {
    "scrolled": true
   },
   "outputs": [
    {
     "data": {
      "text/plain": [
       "OrderedDict([('inp.weight',\n",
       "              tensor([[-0.3731, -0.1800, -0.3192, -0.3072],\n",
       "                      [ 0.0995, -0.2154,  0.0454, -0.3730],\n",
       "                      [-0.0567, -0.1843,  0.4676, -0.0284],\n",
       "                      ...,\n",
       "                      [-0.3153, -0.2354,  0.3395,  0.2192],\n",
       "                      [-0.2723,  0.2211,  0.4713,  0.2597],\n",
       "                      [-0.0038,  0.1912, -0.0373,  0.2811]], device='cuda:0')),\n",
       "             ('inp.bias',\n",
       "              tensor([ 0.2298, -0.2304, -0.1039,  0.0824,  0.3861,  0.1501,  0.4740, -0.0769,\n",
       "                      -0.3661,  0.1228,  0.1402,  0.3913, -0.4661,  0.2085,  0.1818, -0.4614,\n",
       "                       0.0892,  0.2105, -0.2752,  0.2164,  0.2491, -0.4515,  0.2544, -0.4526,\n",
       "                       0.0242, -0.0146, -0.2005,  0.2987, -0.2669,  0.4282, -0.3757,  0.4563,\n",
       "                       0.3335, -0.2404,  0.4421, -0.2406, -0.1603,  0.0912,  0.3378, -0.1918,\n",
       "                      -0.3271, -0.0131, -0.0068, -0.4162,  0.1020,  0.3972, -0.0988, -0.1571,\n",
       "                      -0.2676, -0.3324,  0.4616, -0.5002, -0.4545, -0.4379,  0.0765, -0.2117,\n",
       "                      -0.0260,  0.4426,  0.3507,  0.3341, -0.4246, -0.1723,  0.2865,  0.0683,\n",
       "                      -0.3947, -0.2113, -0.3332, -0.2726, -0.0171, -0.2482,  0.0247, -0.4410,\n",
       "                       0.2609, -0.3318, -0.0953, -0.1606,  0.3557, -0.4843,  0.4184,  0.3893,\n",
       "                      -0.0262, -0.0886, -0.3708,  0.3639,  0.4531, -0.3540,  0.3647, -0.2705,\n",
       "                       0.4236,  0.0453, -0.3642, -0.3296,  0.2825,  0.4666,  0.0570, -0.4300,\n",
       "                       0.4814,  0.0044,  0.1360,  0.0557, -0.4833,  0.4046,  0.4891,  0.2030,\n",
       "                      -0.3499, -0.1360,  0.2253,  0.2088, -0.3887, -0.0284,  0.4165, -0.4770,\n",
       "                       0.2215, -0.2918,  0.1084, -0.4355, -0.3982,  0.3620, -0.0514, -0.2592,\n",
       "                       0.2741, -0.4366, -0.2654,  0.3379, -0.4672, -0.0116,  0.3649, -0.4004,\n",
       "                       0.4913, -0.2380, -0.0484, -0.4022,  0.0285, -0.4518, -0.1165,  0.0504,\n",
       "                      -0.0814,  0.1555, -0.0684, -0.1862,  0.2334,  0.3363,  0.0464,  0.2546,\n",
       "                       0.4941, -0.0569,  0.4012,  0.0885,  0.0705, -0.0771, -0.4259, -0.2966,\n",
       "                       0.4661, -0.1411,  0.1618, -0.3564,  0.3741,  0.2889,  0.1039,  0.1015,\n",
       "                       0.2949,  0.1726,  0.3096,  0.3979,  0.4824,  0.4580, -0.1884,  0.4325,\n",
       "                       0.2737,  0.0686, -0.0706, -0.0667,  0.1953,  0.2033,  0.0566,  0.3830,\n",
       "                       0.3068,  0.3274,  0.0497, -0.0717, -0.3537, -0.1920,  0.1090, -0.4944,\n",
       "                      -0.0853,  0.4457, -0.3576, -0.2489,  0.3155, -0.2100,  0.3660,  0.4108,\n",
       "                       0.1831,  0.2447,  0.1106, -0.4992,  0.4717,  0.1329,  0.0272, -0.2443,\n",
       "                       0.0712, -0.2828,  0.4237,  0.3230,  0.1223,  0.1783, -0.2131, -0.3421,\n",
       "                       0.0495, -0.1188, -0.3130,  0.1034, -0.0262,  0.4311, -0.4120,  0.4955,\n",
       "                       0.1369,  0.3475, -0.3093,  0.1261,  0.3841, -0.3851, -0.4273, -0.0565,\n",
       "                       0.4415, -0.1942,  0.2509,  0.3294,  0.1566,  0.0941,  0.0039, -0.4588,\n",
       "                       0.2193,  0.0396, -0.2580,  0.2780,  0.3357,  0.3916, -0.2089, -0.4673,\n",
       "                      -0.4101,  0.4791,  0.4031, -0.2827,  0.3554,  0.1101, -0.1638, -0.4321,\n",
       "                      -0.3978,  0.0133, -0.1602, -0.0564,  0.1177,  0.4067, -0.4128, -0.1445],\n",
       "                     device='cuda:0')),\n",
       "             ('l1.weight',\n",
       "              tensor([[-0.0312, -0.0437,  0.0445,  ...,  0.0052,  0.0108, -0.0513],\n",
       "                      [ 0.0221,  0.0174,  0.0105,  ..., -0.0395, -0.0311,  0.0104],\n",
       "                      [ 0.0011, -0.0581, -0.0425,  ..., -0.0152, -0.0406,  0.0225],\n",
       "                      ...,\n",
       "                      [-0.0575,  0.0491, -0.0262,  ..., -0.0542,  0.0538,  0.0006],\n",
       "                      [-0.0301,  0.0597, -0.0417,  ...,  0.0087,  0.0276, -0.0271],\n",
       "                      [ 0.0284, -0.0010, -0.0111,  ..., -0.0266, -0.0211, -0.0296]],\n",
       "                     device='cuda:0')),\n",
       "             ('l1.bias',\n",
       "              tensor([-0.0028,  0.0497, -0.0539, -0.0514,  0.0383, -0.0587,  0.0420, -0.0439,\n",
       "                       0.0136, -0.0205, -0.0524,  0.0435,  0.0539,  0.0196,  0.0446, -0.0461,\n",
       "                      -0.0220,  0.0139,  0.0008, -0.0204, -0.0323, -0.0256, -0.0031,  0.0316,\n",
       "                       0.0354,  0.0194,  0.0355,  0.0165,  0.0173,  0.0635,  0.0547, -0.0294,\n",
       "                       0.0400,  0.0525, -0.0409,  0.0551,  0.0207,  0.0225, -0.0581, -0.0052,\n",
       "                       0.0259,  0.0546,  0.0344, -0.0480,  0.0160,  0.0483, -0.0127,  0.0035,\n",
       "                      -0.0339,  0.0156, -0.0517, -0.0439, -0.0144,  0.0201,  0.0268,  0.0382,\n",
       "                      -0.0556, -0.0437,  0.0008,  0.0456, -0.0030,  0.0216,  0.0531, -0.0202,\n",
       "                      -0.0227,  0.0302,  0.0198, -0.0560, -0.0554,  0.0442, -0.0456,  0.0087,\n",
       "                       0.0204,  0.0390, -0.0499, -0.0177,  0.0569, -0.0096,  0.0381, -0.0265,\n",
       "                      -0.0312, -0.0325, -0.0257, -0.0392, -0.0516, -0.0214,  0.0638, -0.0344,\n",
       "                       0.0343, -0.0376, -0.0406, -0.0516,  0.0604, -0.0393,  0.0407, -0.0129,\n",
       "                      -0.0567, -0.0072,  0.0469,  0.0512, -0.0505,  0.0052, -0.0243,  0.0158,\n",
       "                      -0.0447,  0.0239, -0.0630, -0.0462,  0.0495, -0.0239,  0.0388,  0.0086,\n",
       "                      -0.0499,  0.0270,  0.0474, -0.0029, -0.0354, -0.0518,  0.0104,  0.0284,\n",
       "                       0.0202,  0.0355,  0.0072,  0.0603, -0.0432,  0.0301,  0.0471, -0.0504,\n",
       "                       0.0240,  0.0445, -0.0266, -0.0207,  0.0215, -0.0060, -0.0204, -0.0052,\n",
       "                      -0.0446, -0.0305,  0.0403,  0.0424, -0.0117, -0.0511,  0.0018, -0.0196,\n",
       "                      -0.0106, -0.0454, -0.0095, -0.0452, -0.0202, -0.0013,  0.0317, -0.0445,\n",
       "                       0.0007, -0.0477, -0.0176,  0.0196,  0.0344,  0.0622, -0.0533,  0.0530,\n",
       "                      -0.0465,  0.0381, -0.0037, -0.0043,  0.0496,  0.0546, -0.0279, -0.0567,\n",
       "                      -0.0091,  0.0521,  0.0408, -0.0376,  0.0137, -0.0406,  0.0589, -0.0034,\n",
       "                      -0.0500, -0.0098,  0.0208,  0.0245,  0.0155,  0.0361,  0.0129, -0.0474,\n",
       "                      -0.0331,  0.0070,  0.0317, -0.0439,  0.0555,  0.0137, -0.0614,  0.0155,\n",
       "                       0.0101, -0.0609, -0.0225,  0.0186,  0.0319,  0.0508,  0.0591,  0.0394,\n",
       "                      -0.0024, -0.0489, -0.0395, -0.0384, -0.0460, -0.0450, -0.0196, -0.0551,\n",
       "                      -0.0012,  0.0180,  0.0231, -0.0551,  0.0013, -0.0143,  0.0153, -0.0528,\n",
       "                       0.0079, -0.0338, -0.0093,  0.0611, -0.0108,  0.0029, -0.0061,  0.0045,\n",
       "                      -0.0439,  0.0331, -0.0299, -0.0123, -0.0601,  0.0114, -0.0061, -0.0030,\n",
       "                       0.0088, -0.0220, -0.0331, -0.0431, -0.0297,  0.0162, -0.0407, -0.0299,\n",
       "                      -0.0430, -0.0155, -0.0159,  0.0644,  0.0448,  0.0326,  0.0563,  0.0339,\n",
       "                       0.0125,  0.0292, -0.0381, -0.0217,  0.0467,  0.0436, -0.0236, -0.0002],\n",
       "                     device='cuda:0')),\n",
       "             ('l2.weight',\n",
       "              tensor([[-0.0480, -0.0113, -0.0511, -0.0378,  0.0305, -0.0013, -0.0248, -0.0303,\n",
       "                        0.0582,  0.0443,  0.0164, -0.0528,  0.0116,  0.0300,  0.0389, -0.0361,\n",
       "                       -0.0421, -0.0497, -0.0175,  0.0245,  0.0466,  0.0164, -0.0045, -0.0458,\n",
       "                       -0.0418, -0.0395, -0.0375,  0.0513,  0.0106, -0.0149,  0.0396, -0.0245,\n",
       "                        0.0464, -0.0119,  0.0153,  0.0432, -0.0504, -0.0183, -0.0288, -0.0142,\n",
       "                       -0.0565,  0.0486, -0.0101, -0.0219, -0.0099, -0.0140, -0.0240, -0.0564,\n",
       "                       -0.0512,  0.0121,  0.0204, -0.0611, -0.0033, -0.0158, -0.0294,  0.0314,\n",
       "                        0.0370, -0.0506, -0.0494,  0.0240,  0.0518, -0.0523, -0.0419,  0.0349,\n",
       "                        0.0140,  0.0429,  0.0103,  0.0076,  0.0430,  0.0416,  0.0156, -0.0028,\n",
       "                       -0.0547,  0.0580, -0.0646,  0.0178,  0.0288,  0.0010, -0.0466, -0.0262,\n",
       "                       -0.0031,  0.0281,  0.0469,  0.0346,  0.0589, -0.0579, -0.0495, -0.0316,\n",
       "                        0.0421,  0.0384,  0.0450, -0.0318, -0.0299,  0.0149,  0.0521,  0.0245,\n",
       "                       -0.0541,  0.0141, -0.0515, -0.0008, -0.0084, -0.0358, -0.0287,  0.0554,\n",
       "                       -0.0288,  0.0003,  0.0253, -0.0353,  0.0562,  0.0171,  0.0558,  0.0365,\n",
       "                       -0.0253,  0.0273, -0.0530,  0.0400,  0.0596, -0.0352, -0.0430, -0.0118,\n",
       "                        0.0029,  0.0232, -0.0452, -0.0601,  0.0452,  0.0139, -0.0286,  0.0428,\n",
       "                       -0.0086,  0.0570,  0.0498, -0.0138, -0.0556,  0.0104,  0.0341, -0.0395,\n",
       "                       -0.0526,  0.0507, -0.0184,  0.0547, -0.0423, -0.0327,  0.0460, -0.0620,\n",
       "                        0.0181, -0.0063, -0.0178, -0.0289, -0.0408, -0.0380,  0.0008,  0.0588,\n",
       "                        0.0293, -0.0113,  0.0191,  0.0133, -0.0151, -0.0504,  0.0018,  0.0122,\n",
       "                       -0.0084,  0.0121, -0.0227, -0.0149, -0.0624, -0.0140,  0.0424, -0.0406,\n",
       "                       -0.0507, -0.0369,  0.0514,  0.0380,  0.0555, -0.0354, -0.0412, -0.0322,\n",
       "                       -0.0152, -0.0281, -0.0328,  0.0591, -0.0151, -0.0165, -0.0593,  0.0489,\n",
       "                        0.0060, -0.0002, -0.0211, -0.0513, -0.0208, -0.0601, -0.0560,  0.0140,\n",
       "                        0.0351,  0.0087, -0.0448, -0.0604, -0.0453,  0.0591,  0.0595,  0.0165,\n",
       "                        0.0218, -0.0522,  0.0276, -0.0195, -0.0080, -0.0491, -0.0496,  0.0413,\n",
       "                        0.0366,  0.0239,  0.0559,  0.0483,  0.0559,  0.0094,  0.0241, -0.0509,\n",
       "                        0.0226, -0.0259, -0.0326, -0.0611, -0.0102,  0.0108, -0.0013,  0.0547,\n",
       "                        0.0373, -0.0051,  0.0209,  0.0362,  0.0552, -0.0142,  0.0588,  0.0149,\n",
       "                        0.0357, -0.0318, -0.0329, -0.0289,  0.0391, -0.0036, -0.0507,  0.0006,\n",
       "                       -0.0118, -0.0009,  0.0457, -0.0068, -0.0443, -0.0141,  0.0116, -0.0197,\n",
       "                        0.0582,  0.0508, -0.0024,  0.0055,  0.0223, -0.0214, -0.0391,  0.0489]],\n",
       "                     device='cuda:0')),\n",
       "             ('l2.bias', tensor([0.0387], device='cuda:0'))])"
      ]
     },
     "execution_count": 75,
     "metadata": {},
     "output_type": "execute_result"
    }
   ],
   "source": [
    "agent.q1.state_dict()"
   ]
  },
  {
   "cell_type": "code",
   "execution_count": 72,
   "metadata": {},
   "outputs": [
    {
     "data": {
      "text/plain": [
       "OrderedDict([('inp.weight',\n",
       "              tensor([[-0.3731, -0.1801, -0.3193, -0.3073],\n",
       "                      [ 0.0994, -0.2154,  0.0455, -0.3731],\n",
       "                      [-0.0568, -0.1843,  0.4678, -0.0285],\n",
       "                      ...,\n",
       "                      [-0.3154, -0.2355,  0.3396,  0.2191],\n",
       "                      [-0.2724,  0.2212,  0.4714,  0.2596],\n",
       "                      [-0.0038,  0.1913, -0.0373,  0.2810]], device='cuda:0')),\n",
       "             ('inp.bias',\n",
       "              tensor([ 0.2299, -0.2303, -0.1038,  0.0825,  0.3862,  0.1502,  0.4739, -0.0768,\n",
       "                      -0.3660,  0.1227,  0.1403,  0.3912, -0.4660,  0.2084,  0.1818, -0.4615,\n",
       "                       0.0893,  0.2106, -0.2753,  0.2165,  0.2492, -0.4516,  0.2545, -0.4525,\n",
       "                       0.0241, -0.0147, -0.2004,  0.2988, -0.2670,  0.4283, -0.3758,  0.4564,\n",
       "                       0.3334, -0.2403,  0.4422, -0.2406, -0.1602,  0.0912,  0.3379, -0.1917,\n",
       "                      -0.3272, -0.0131, -0.0067, -0.4162,  0.1019,  0.3972, -0.0988, -0.1572,\n",
       "                      -0.2675, -0.3323,  0.4617, -0.5001, -0.4544, -0.4379,  0.0764, -0.2118,\n",
       "                      -0.0259,  0.4425,  0.3508,  0.3342, -0.4245, -0.1722,  0.2866,  0.0682,\n",
       "                      -0.3948, -0.2112, -0.3332, -0.2727, -0.0172, -0.2481,  0.0246, -0.4411,\n",
       "                       0.2610, -0.3317, -0.0952, -0.1605,  0.3556, -0.4842,  0.4184,  0.3892,\n",
       "                      -0.0261, -0.0887, -0.3708,  0.3640,  0.4530, -0.3541,  0.3648, -0.2705,\n",
       "                       0.4235,  0.0452, -0.3641, -0.3297,  0.2826,  0.4667,  0.0569, -0.4299,\n",
       "                       0.4815,  0.0045,  0.1359,  0.0557, -0.4834,  0.4047,  0.4890,  0.2031,\n",
       "                      -0.3500, -0.1360,  0.2252,  0.2089, -0.3886, -0.0285,  0.4164, -0.4769,\n",
       "                       0.2214, -0.2917,  0.1083, -0.4356, -0.3981,  0.3621, -0.0514, -0.2591,\n",
       "                       0.2740, -0.4367, -0.2654,  0.3379, -0.4673, -0.0117,  0.3648, -0.4003,\n",
       "                       0.4914, -0.2379, -0.0484, -0.4022,  0.0285, -0.4517, -0.1166,  0.0504,\n",
       "                      -0.0815,  0.1554, -0.0685, -0.1861,  0.2334,  0.3364,  0.0465,  0.2547,\n",
       "                       0.4942, -0.0568,  0.4013,  0.0886,  0.0706, -0.0772, -0.4260, -0.2967,\n",
       "                       0.4662, -0.1412,  0.1619, -0.3564,  0.3742,  0.2890,  0.1040,  0.1014,\n",
       "                       0.2950,  0.1725,  0.3095,  0.3978,  0.4824,  0.4581, -0.1883,  0.4326,\n",
       "                       0.2738,  0.0685, -0.0707, -0.0666,  0.1952,  0.2032,  0.0565,  0.3829,\n",
       "                       0.3067,  0.3273,  0.0496, -0.0717, -0.3538, -0.1920,  0.1091, -0.4943,\n",
       "                      -0.0854,  0.4456, -0.3577, -0.2488,  0.3156, -0.2101,  0.3661,  0.4109,\n",
       "                       0.1830,  0.2446,  0.1105, -0.4991,  0.4718,  0.1330,  0.0271, -0.2443,\n",
       "                       0.0713, -0.2829,  0.4238,  0.3231,  0.1224,  0.1783, -0.2131, -0.3422,\n",
       "                       0.0496, -0.1187, -0.3129,  0.1035, -0.0263,  0.4310, -0.4121,  0.4956,\n",
       "                       0.1369,  0.3474, -0.3092,  0.1262,  0.3842, -0.3852, -0.4274, -0.0565,\n",
       "                       0.4416, -0.1941,  0.2508,  0.3295,  0.1566,  0.0942,  0.0038, -0.4589,\n",
       "                       0.2192,  0.0395, -0.2580,  0.2779,  0.3358,  0.3915, -0.2090, -0.4674,\n",
       "                      -0.4101,  0.4791,  0.4032, -0.2826,  0.3555,  0.1102, -0.1639, -0.4322,\n",
       "                      -0.3979,  0.0134, -0.1601, -0.0564,  0.1177,  0.4068, -0.4127, -0.1445],\n",
       "                     device='cuda:0')),\n",
       "             ('l1.weight',\n",
       "              tensor([[-0.0313, -0.0437,  0.0445,  ...,  0.0051,  0.0108, -0.0513],\n",
       "                      [ 0.0221,  0.0174,  0.0105,  ..., -0.0395, -0.0311,  0.0104],\n",
       "                      [ 0.0010, -0.0582, -0.0426,  ..., -0.0153, -0.0407,  0.0224],\n",
       "                      ...,\n",
       "                      [-0.0576,  0.0490, -0.0263,  ..., -0.0543,  0.0537,  0.0005],\n",
       "                      [-0.0302,  0.0596, -0.0418,  ...,  0.0087,  0.0275, -0.0272],\n",
       "                      [ 0.0285, -0.0009, -0.0111,  ..., -0.0265, -0.0211, -0.0296]],\n",
       "                     device='cuda:0')),\n",
       "             ('l1.bias',\n",
       "              tensor([-0.0028,  0.0497, -0.0540, -0.0514,  0.0383, -0.0586,  0.0419, -0.0440,\n",
       "                       0.0137, -0.0204, -0.0523,  0.0434,  0.0540,  0.0197,  0.0447, -0.0462,\n",
       "                      -0.0221,  0.0138,  0.0007, -0.0203, -0.0322, -0.0255, -0.0031,  0.0315,\n",
       "                       0.0354,  0.0193,  0.0354,  0.0166,  0.0174,  0.0634,  0.0548, -0.0295,\n",
       "                       0.0401,  0.0525, -0.0408,  0.0552,  0.0206,  0.0224, -0.0582, -0.0053,\n",
       "                       0.0258,  0.0546,  0.0343, -0.0481,  0.0159,  0.0483, -0.0128,  0.0035,\n",
       "                      -0.0340,  0.0157, -0.0516, -0.0440, -0.0145,  0.0200,  0.0267,  0.0383,\n",
       "                      -0.0555, -0.0438,  0.0007,  0.0456, -0.0029,  0.0216,  0.0531, -0.0201,\n",
       "                      -0.0226,  0.0303,  0.0199, -0.0559, -0.0553,  0.0443, -0.0455,  0.0086,\n",
       "                       0.0203,  0.0391, -0.0500, -0.0176,  0.0570, -0.0095,  0.0381, -0.0266,\n",
       "                      -0.0313, -0.0324, -0.0256, -0.0392, -0.0515, -0.0215,  0.0638, -0.0345,\n",
       "                       0.0344, -0.0375, -0.0405, -0.0517,  0.0603, -0.0392,  0.0408, -0.0128,\n",
       "                      -0.0568, -0.0071,  0.0468,  0.0512, -0.0506,  0.0052, -0.0244,  0.0159,\n",
       "                      -0.0448,  0.0240, -0.0629, -0.0462,  0.0496, -0.0238,  0.0389,  0.0086,\n",
       "                      -0.0500,  0.0271,  0.0474, -0.0028, -0.0353, -0.0519,  0.0103,  0.0283,\n",
       "                       0.0203,  0.0356,  0.0071,  0.0602, -0.0432,  0.0301,  0.0470, -0.0503,\n",
       "                       0.0239,  0.0445, -0.0265, -0.0207,  0.0214, -0.0059, -0.0203, -0.0053,\n",
       "                      -0.0447, -0.0304,  0.0402,  0.0425, -0.0117, -0.0512,  0.0019, -0.0196,\n",
       "                      -0.0105, -0.0454, -0.0096, -0.0453, -0.0202, -0.0014,  0.0318, -0.0444,\n",
       "                       0.0007, -0.0478, -0.0175,  0.0197,  0.0343,  0.0621, -0.0532,  0.0531,\n",
       "                      -0.0466,  0.0382, -0.0038, -0.0044,  0.0495,  0.0545, -0.0278, -0.0568,\n",
       "                      -0.0092,  0.0520,  0.0409, -0.0376,  0.0137, -0.0407,  0.0588, -0.0035,\n",
       "                      -0.0500, -0.0099,  0.0207,  0.0246,  0.0154,  0.0360,  0.0128, -0.0473,\n",
       "                      -0.0330,  0.0071,  0.0316, -0.0440,  0.0554,  0.0136, -0.0614,  0.0156,\n",
       "                       0.0102, -0.0608, -0.0226,  0.0185,  0.0318,  0.0509,  0.0592,  0.0395,\n",
       "                      -0.0023, -0.0490, -0.0394, -0.0385, -0.0461, -0.0451, -0.0197, -0.0550,\n",
       "                      -0.0011,  0.0181,  0.0231, -0.0551,  0.0014, -0.0142,  0.0154, -0.0529,\n",
       "                       0.0080, -0.0339, -0.0094,  0.0610, -0.0109,  0.0030, -0.0061,  0.0046,\n",
       "                      -0.0438,  0.0330, -0.0298, -0.0123, -0.0600,  0.0113, -0.0060, -0.0030,\n",
       "                       0.0089, -0.0221, -0.0332, -0.0432, -0.0296,  0.0161, -0.0408, -0.0298,\n",
       "                      -0.0431, -0.0155, -0.0158,  0.0643,  0.0447,  0.0325,  0.0564,  0.0338,\n",
       "                       0.0126,  0.0293, -0.0381, -0.0216,  0.0468,  0.0435, -0.0237, -0.0002],\n",
       "                     device='cuda:0')),\n",
       "             ('l2.weight',\n",
       "              tensor([[-4.8041e-02, -1.1341e-02, -5.1033e-02, -3.7789e-02,  3.0501e-02,\n",
       "                       -1.2496e-03, -2.4731e-02, -3.0235e-02,  5.8315e-02,  4.4395e-02,\n",
       "                        1.6468e-02, -5.2731e-02,  1.1656e-02,  3.0105e-02,  3.9031e-02,\n",
       "                       -3.6015e-02, -4.2027e-02, -4.9576e-02, -1.7418e-02,  2.4622e-02,\n",
       "                        4.6670e-02,  1.6422e-02, -4.4755e-03, -4.5750e-02, -4.1733e-02,\n",
       "                       -3.9423e-02, -3.7381e-02,  5.1395e-02,  1.0736e-02, -1.4832e-02,\n",
       "                        3.9660e-02, -2.4443e-02,  4.6528e-02, -1.1835e-02,  1.5386e-02,\n",
       "                        4.3308e-02, -5.0252e-02, -1.8197e-02, -2.8697e-02, -1.4107e-02,\n",
       "                       -5.6393e-02,  4.8551e-02, -9.9823e-03, -2.1833e-02, -9.7886e-03,\n",
       "                       -1.3968e-02, -2.3860e-02, -5.6277e-02, -5.1141e-02,  1.2168e-02,\n",
       "                        2.0484e-02, -6.1002e-02, -3.2284e-03, -1.5719e-02, -2.9357e-02,\n",
       "                        3.1485e-02,  3.7052e-02, -5.0534e-02, -4.9409e-02,  2.4009e-02,\n",
       "                        5.1898e-02, -5.2297e-02, -4.1900e-02,  3.4933e-02,  1.4085e-02,\n",
       "                        4.3012e-02,  1.0372e-02,  7.6850e-03,  4.3090e-02,  4.1684e-02,\n",
       "                        1.5637e-02, -2.7193e-03, -5.4583e-02,  5.8035e-02, -6.4499e-02,\n",
       "                        1.7924e-02,  2.8939e-02,  1.0708e-03, -4.6564e-02, -2.6176e-02,\n",
       "                       -3.0399e-03,  2.8142e-02,  4.7018e-02,  3.4649e-02,  5.8952e-02,\n",
       "                       -5.7785e-02, -4.9423e-02, -3.1515e-02,  4.2131e-02,  3.8457e-02,\n",
       "                        4.5035e-02, -3.1675e-02, -2.9831e-02,  1.5032e-02,  5.2200e-02,\n",
       "                        2.4580e-02, -5.4022e-02,  1.4166e-02, -5.1396e-02, -7.3393e-04,\n",
       "                       -8.3320e-03, -3.5782e-02, -2.8577e-02,  5.5542e-02, -2.8754e-02,\n",
       "                        4.3983e-04,  2.5410e-02, -3.5220e-02,  5.6316e-02,  1.7203e-02,\n",
       "                        5.5869e-02,  3.6550e-02, -2.5249e-02,  2.7435e-02, -5.3004e-02,\n",
       "                        4.0125e-02,  5.9646e-02, -3.5115e-02, -4.2894e-02, -1.1690e-02,\n",
       "                        3.0060e-03,  2.3312e-02, -4.5117e-02, -6.0049e-02,  4.5281e-02,\n",
       "                        1.3939e-02, -2.8536e-02,  4.2898e-02, -8.5500e-03,  5.6987e-02,\n",
       "                        4.9930e-02, -1.3798e-02, -5.5508e-02,  1.0441e-02,  3.4157e-02,\n",
       "                       -3.9426e-02, -5.2529e-02,  5.0719e-02, -1.8352e-02,  5.4746e-02,\n",
       "                       -4.2267e-02, -3.2608e-02,  4.6095e-02, -6.1988e-02,  1.8184e-02,\n",
       "                       -6.3364e-03, -1.7692e-02, -2.8856e-02, -4.0738e-02, -3.7928e-02,\n",
       "                        9.2691e-04,  5.8837e-02,  2.9316e-02, -1.1237e-02,  1.9178e-02,\n",
       "                        1.3404e-02, -1.5054e-02, -5.0320e-02,  1.8979e-03,  1.2303e-02,\n",
       "                       -8.3660e-03,  1.2212e-02, -2.2648e-02, -1.4792e-02, -6.2360e-02,\n",
       "                       -1.3879e-02,  4.2515e-02, -4.0543e-02, -5.0624e-02, -3.6823e-02,\n",
       "                        5.1477e-02,  3.8108e-02,  5.5567e-02, -3.5300e-02, -4.1139e-02,\n",
       "                       -3.2075e-02, -1.5118e-02, -2.8039e-02, -3.2673e-02,  5.9205e-02,\n",
       "                       -1.5024e-02, -1.6462e-02, -5.9238e-02,  4.8949e-02,  6.1215e-03,\n",
       "                       -8.0547e-05, -2.0967e-02, -5.1157e-02, -2.0703e-02, -5.9963e-02,\n",
       "                       -5.6020e-02,  1.4136e-02,  3.5159e-02,  8.8247e-03, -4.4665e-02,\n",
       "                       -6.0430e-02, -4.5195e-02,  5.9177e-02,  5.9592e-02,  1.6568e-02,\n",
       "                        2.1931e-02, -5.2115e-02,  2.7663e-02, -1.9446e-02, -7.9421e-03,\n",
       "                       -4.8968e-02, -4.9476e-02,  4.1387e-02,  3.6717e-02,  2.3937e-02,\n",
       "                        5.5963e-02,  4.8368e-02,  5.5941e-02,  9.5263e-03,  2.4200e-02,\n",
       "                       -5.0859e-02,  2.2709e-02, -2.5818e-02, -3.2545e-02, -6.0956e-02,\n",
       "                       -1.0091e-02,  1.0892e-02, -1.3028e-03,  5.4759e-02,  3.7346e-02,\n",
       "                       -4.9852e-03,  2.0978e-02,  3.6233e-02,  5.5240e-02, -1.4128e-02,\n",
       "                        5.8851e-02,  1.5014e-02,  3.5824e-02, -3.1711e-02, -3.2784e-02,\n",
       "                       -2.8858e-02,  3.9181e-02, -3.4892e-03, -5.0615e-02,  6.5446e-04,\n",
       "                       -1.1675e-02, -8.6609e-04,  4.5818e-02, -6.6748e-03, -4.4203e-02,\n",
       "                       -1.4011e-02,  1.1717e-02, -1.9572e-02,  5.8319e-02,  5.0884e-02,\n",
       "                       -2.3503e-03,  5.5915e-03,  2.2423e-02, -2.1257e-02, -3.8995e-02,\n",
       "                        4.8930e-02]], device='cuda:0')),\n",
       "             ('l2.bias', tensor([0.0388], device='cuda:0'))])"
      ]
     },
     "execution_count": 72,
     "metadata": {},
     "output_type": "execute_result"
    }
   ],
   "source": [
    "agent.qtarget1.state_dict()"
   ]
  },
  {
   "cell_type": "code",
   "execution_count": 74,
   "metadata": {},
   "outputs": [
    {
     "data": {
      "text/plain": [
       "OrderedDict([('inp.weight',\n",
       "              tensor([[-0.3731, -0.1800, -0.3192, -0.3072],\n",
       "                      [ 0.0995, -0.2154,  0.0454, -0.3730],\n",
       "                      [-0.0567, -0.1843,  0.4677, -0.0284],\n",
       "                      ...,\n",
       "                      [-0.3153, -0.2354,  0.3395,  0.2192],\n",
       "                      [-0.2723,  0.2211,  0.4713,  0.2597],\n",
       "                      [-0.0038,  0.1912, -0.0373,  0.2811]], device='cuda:0')),\n",
       "             ('inp.bias',\n",
       "              tensor([ 0.2298, -0.2304, -0.1039,  0.0824,  0.3861,  0.1501,  0.4740, -0.0769,\n",
       "                      -0.3661,  0.1228,  0.1402,  0.3913, -0.4661,  0.2085,  0.1818, -0.4614,\n",
       "                       0.0892,  0.2105, -0.2752,  0.2164,  0.2491, -0.4516,  0.2544, -0.4526,\n",
       "                       0.0242, -0.0146, -0.2005,  0.2987, -0.2669,  0.4282, -0.3757,  0.4563,\n",
       "                       0.3335, -0.2404,  0.4421, -0.2406, -0.1603,  0.0912,  0.3378, -0.1918,\n",
       "                      -0.3271, -0.0131, -0.0068, -0.4162,  0.1020,  0.3972, -0.0988, -0.1571,\n",
       "                      -0.2676, -0.3324,  0.4616, -0.5002, -0.4545, -0.4379,  0.0765, -0.2117,\n",
       "                      -0.0260,  0.4426,  0.3507,  0.3341, -0.4246, -0.1723,  0.2865,  0.0683,\n",
       "                      -0.3947, -0.2113, -0.3332, -0.2726, -0.0171, -0.2482,  0.0247, -0.4410,\n",
       "                       0.2609, -0.3318, -0.0953, -0.1606,  0.3557, -0.4843,  0.4184,  0.3893,\n",
       "                      -0.0262, -0.0886, -0.3708,  0.3639,  0.4531, -0.3540,  0.3647, -0.2705,\n",
       "                       0.4236,  0.0453, -0.3642, -0.3296,  0.2825,  0.4666,  0.0570, -0.4300,\n",
       "                       0.4814,  0.0044,  0.1360,  0.0557, -0.4833,  0.4046,  0.4891,  0.2030,\n",
       "                      -0.3499, -0.1360,  0.2253,  0.2088, -0.3887, -0.0284,  0.4165, -0.4770,\n",
       "                       0.2215, -0.2918,  0.1084, -0.4355, -0.3982,  0.3620, -0.0514, -0.2592,\n",
       "                       0.2741, -0.4366, -0.2654,  0.3379, -0.4672, -0.0116,  0.3649, -0.4004,\n",
       "                       0.4913, -0.2380, -0.0484, -0.4022,  0.0285, -0.4518, -0.1165,  0.0504,\n",
       "                      -0.0814,  0.1555, -0.0684, -0.1862,  0.2334,  0.3363,  0.0464,  0.2546,\n",
       "                       0.4941, -0.0569,  0.4012,  0.0885,  0.0705, -0.0771, -0.4259, -0.2966,\n",
       "                       0.4661, -0.1411,  0.1618, -0.3564,  0.3741,  0.2889,  0.1039,  0.1015,\n",
       "                       0.2949,  0.1726,  0.3096,  0.3979,  0.4824,  0.4580, -0.1884,  0.4325,\n",
       "                       0.2737,  0.0686, -0.0706, -0.0667,  0.1953,  0.2033,  0.0566,  0.3830,\n",
       "                       0.3068,  0.3274,  0.0497, -0.0717, -0.3537, -0.1920,  0.1090, -0.4944,\n",
       "                      -0.0853,  0.4457, -0.3576, -0.2489,  0.3156, -0.2100,  0.3660,  0.4108,\n",
       "                       0.1831,  0.2447,  0.1106, -0.4992,  0.4717,  0.1329,  0.0272, -0.2443,\n",
       "                       0.0712, -0.2828,  0.4237,  0.3230,  0.1223,  0.1783, -0.2131, -0.3421,\n",
       "                       0.0495, -0.1188, -0.3130,  0.1034, -0.0262,  0.4311, -0.4120,  0.4955,\n",
       "                       0.1369,  0.3475, -0.3093,  0.1261,  0.3841, -0.3851, -0.4273, -0.0565,\n",
       "                       0.4415, -0.1942,  0.2509,  0.3294,  0.1566,  0.0941,  0.0039, -0.4588,\n",
       "                       0.2193,  0.0396, -0.2580,  0.2780,  0.3358,  0.3916, -0.2089, -0.4673,\n",
       "                      -0.4101,  0.4791,  0.4031, -0.2827,  0.3554,  0.1101, -0.1638, -0.4321,\n",
       "                      -0.3978,  0.0133, -0.1602, -0.0564,  0.1177,  0.4067, -0.4128, -0.1445],\n",
       "                     device='cuda:0')),\n",
       "             ('l1.weight',\n",
       "              tensor([[-0.0312, -0.0437,  0.0445,  ...,  0.0052,  0.0108, -0.0513],\n",
       "                      [ 0.0221,  0.0174,  0.0105,  ..., -0.0395, -0.0311,  0.0104],\n",
       "                      [ 0.0011, -0.0581, -0.0425,  ..., -0.0152, -0.0406,  0.0225],\n",
       "                      ...,\n",
       "                      [-0.0575,  0.0491, -0.0262,  ..., -0.0542,  0.0538,  0.0006],\n",
       "                      [-0.0301,  0.0597, -0.0417,  ...,  0.0087,  0.0276, -0.0271],\n",
       "                      [ 0.0284, -0.0010, -0.0111,  ..., -0.0266, -0.0211, -0.0296]],\n",
       "                     device='cuda:0')),\n",
       "             ('l1.bias',\n",
       "              tensor([-0.0028,  0.0497, -0.0539, -0.0514,  0.0383, -0.0587,  0.0420, -0.0439,\n",
       "                       0.0136, -0.0205, -0.0524,  0.0435,  0.0539,  0.0196,  0.0446, -0.0461,\n",
       "                      -0.0220,  0.0139,  0.0008, -0.0204, -0.0323, -0.0256, -0.0031,  0.0316,\n",
       "                       0.0354,  0.0194,  0.0355,  0.0165,  0.0173,  0.0635,  0.0547, -0.0294,\n",
       "                       0.0400,  0.0525, -0.0409,  0.0551,  0.0207,  0.0225, -0.0581, -0.0052,\n",
       "                       0.0259,  0.0546,  0.0344, -0.0480,  0.0160,  0.0483, -0.0127,  0.0035,\n",
       "                      -0.0339,  0.0156, -0.0517, -0.0439, -0.0144,  0.0201,  0.0268,  0.0382,\n",
       "                      -0.0556, -0.0437,  0.0008,  0.0456, -0.0030,  0.0216,  0.0531, -0.0202,\n",
       "                      -0.0227,  0.0302,  0.0198, -0.0560, -0.0554,  0.0442, -0.0456,  0.0087,\n",
       "                       0.0204,  0.0390, -0.0499, -0.0177,  0.0569, -0.0096,  0.0381, -0.0265,\n",
       "                      -0.0312, -0.0325, -0.0257, -0.0392, -0.0516, -0.0214,  0.0638, -0.0344,\n",
       "                       0.0343, -0.0376, -0.0406, -0.0517,  0.0604, -0.0393,  0.0407, -0.0129,\n",
       "                      -0.0567, -0.0072,  0.0469,  0.0512, -0.0505,  0.0052, -0.0243,  0.0158,\n",
       "                      -0.0447,  0.0239, -0.0630, -0.0462,  0.0495, -0.0239,  0.0388,  0.0086,\n",
       "                      -0.0499,  0.0270,  0.0474, -0.0029, -0.0354, -0.0518,  0.0104,  0.0284,\n",
       "                       0.0202,  0.0355,  0.0072,  0.0603, -0.0432,  0.0301,  0.0471, -0.0504,\n",
       "                       0.0240,  0.0445, -0.0266, -0.0207,  0.0215, -0.0060, -0.0204, -0.0052,\n",
       "                      -0.0446, -0.0305,  0.0403,  0.0424, -0.0117, -0.0511,  0.0018, -0.0196,\n",
       "                      -0.0106, -0.0454, -0.0095, -0.0452, -0.0202, -0.0013,  0.0317, -0.0445,\n",
       "                       0.0007, -0.0477, -0.0176,  0.0196,  0.0344,  0.0622, -0.0533,  0.0530,\n",
       "                      -0.0465,  0.0381, -0.0037, -0.0043,  0.0496,  0.0546, -0.0279, -0.0567,\n",
       "                      -0.0091,  0.0521,  0.0408, -0.0376,  0.0137, -0.0406,  0.0589, -0.0034,\n",
       "                      -0.0500, -0.0098,  0.0208,  0.0245,  0.0155,  0.0361,  0.0129, -0.0474,\n",
       "                      -0.0331,  0.0070,  0.0317, -0.0439,  0.0555,  0.0137, -0.0614,  0.0155,\n",
       "                       0.0101, -0.0609, -0.0225,  0.0186,  0.0319,  0.0508,  0.0591,  0.0394,\n",
       "                      -0.0024, -0.0489, -0.0395, -0.0384, -0.0460, -0.0450, -0.0196, -0.0551,\n",
       "                      -0.0012,  0.0180,  0.0231, -0.0551,  0.0013, -0.0143,  0.0153, -0.0528,\n",
       "                       0.0079, -0.0338, -0.0093,  0.0611, -0.0108,  0.0029, -0.0061,  0.0045,\n",
       "                      -0.0439,  0.0331, -0.0299, -0.0123, -0.0601,  0.0114, -0.0061, -0.0030,\n",
       "                       0.0088, -0.0220, -0.0331, -0.0431, -0.0297,  0.0162, -0.0407, -0.0299,\n",
       "                      -0.0430, -0.0155, -0.0159,  0.0644,  0.0448,  0.0326,  0.0563,  0.0339,\n",
       "                       0.0125,  0.0292, -0.0381, -0.0217,  0.0467,  0.0436, -0.0236, -0.0002],\n",
       "                     device='cuda:0')),\n",
       "             ('l2.weight',\n",
       "              tensor([[-0.0480, -0.0113, -0.0511, -0.0378,  0.0305, -0.0013, -0.0248, -0.0303,\n",
       "                        0.0582,  0.0443,  0.0164, -0.0528,  0.0116,  0.0300,  0.0389, -0.0361,\n",
       "                       -0.0421, -0.0497, -0.0175,  0.0245,  0.0466,  0.0164, -0.0045, -0.0458,\n",
       "                       -0.0418, -0.0395, -0.0375,  0.0513,  0.0106, -0.0149,  0.0396, -0.0245,\n",
       "                        0.0464, -0.0119,  0.0153,  0.0432, -0.0503, -0.0183, -0.0288, -0.0142,\n",
       "                       -0.0565,  0.0486, -0.0101, -0.0219, -0.0099, -0.0140, -0.0240, -0.0564,\n",
       "                       -0.0512,  0.0121,  0.0204, -0.0611, -0.0033, -0.0158, -0.0294,  0.0314,\n",
       "                        0.0370, -0.0506, -0.0494,  0.0240,  0.0518, -0.0523, -0.0419,  0.0349,\n",
       "                        0.0140,  0.0429,  0.0103,  0.0076,  0.0430,  0.0416,  0.0156, -0.0028,\n",
       "                       -0.0547,  0.0580, -0.0646,  0.0178,  0.0288,  0.0010, -0.0466, -0.0262,\n",
       "                       -0.0031,  0.0281,  0.0469,  0.0346,  0.0589, -0.0579, -0.0495, -0.0316,\n",
       "                        0.0421,  0.0384,  0.0450, -0.0318, -0.0299,  0.0149,  0.0521,  0.0245,\n",
       "                       -0.0541,  0.0141, -0.0515, -0.0008, -0.0084, -0.0358, -0.0287,  0.0554,\n",
       "                       -0.0288,  0.0003,  0.0253, -0.0353,  0.0562,  0.0171,  0.0558,  0.0365,\n",
       "                       -0.0253,  0.0273, -0.0530,  0.0400,  0.0596, -0.0352, -0.0430, -0.0118,\n",
       "                        0.0029,  0.0232, -0.0452, -0.0601,  0.0452,  0.0139, -0.0286,  0.0428,\n",
       "                       -0.0086,  0.0570,  0.0498, -0.0138, -0.0556,  0.0104,  0.0341, -0.0395,\n",
       "                       -0.0526,  0.0507, -0.0184,  0.0547, -0.0423, -0.0327,  0.0460, -0.0620,\n",
       "                        0.0181, -0.0063, -0.0178, -0.0289, -0.0408, -0.0380,  0.0008,  0.0588,\n",
       "                        0.0293, -0.0113,  0.0191,  0.0133, -0.0151, -0.0504,  0.0018,  0.0122,\n",
       "                       -0.0084,  0.0121, -0.0227, -0.0149, -0.0624, -0.0140,  0.0424, -0.0406,\n",
       "                       -0.0507, -0.0369,  0.0514,  0.0380,  0.0555, -0.0354, -0.0412, -0.0322,\n",
       "                       -0.0152, -0.0281, -0.0328,  0.0591, -0.0151, -0.0165, -0.0593,  0.0489,\n",
       "                        0.0060, -0.0002, -0.0211, -0.0513, -0.0208, -0.0601, -0.0560,  0.0140,\n",
       "                        0.0351,  0.0087, -0.0448, -0.0604, -0.0453,  0.0591,  0.0595,  0.0165,\n",
       "                        0.0218, -0.0522,  0.0276, -0.0195, -0.0080, -0.0491, -0.0496,  0.0413,\n",
       "                        0.0366,  0.0239,  0.0559,  0.0483,  0.0559,  0.0094,  0.0241, -0.0509,\n",
       "                        0.0226, -0.0259, -0.0326, -0.0611, -0.0102,  0.0108, -0.0013,  0.0547,\n",
       "                        0.0373, -0.0051,  0.0209,  0.0362,  0.0552, -0.0142,  0.0588,  0.0149,\n",
       "                        0.0357, -0.0318, -0.0329, -0.0289,  0.0391, -0.0036, -0.0507,  0.0006,\n",
       "                       -0.0118, -0.0009,  0.0457, -0.0068, -0.0443, -0.0141,  0.0116, -0.0197,\n",
       "                        0.0582,  0.0508, -0.0024,  0.0055,  0.0223, -0.0214, -0.0391,  0.0489]],\n",
       "                     device='cuda:0')),\n",
       "             ('l2.bias', tensor([0.0387], device='cuda:0'))])"
      ]
     },
     "execution_count": 74,
     "metadata": {},
     "output_type": "execute_result"
    }
   ],
   "source": [
    "agent.qtarget1.state_dict()"
   ]
  },
  {
   "cell_type": "code",
   "execution_count": 71,
   "metadata": {},
   "outputs": [],
   "source": [
    "agent.soft_param_update()"
   ]
  },
  {
   "cell_type": "code",
   "execution_count": 265,
   "metadata": {},
   "outputs": [],
   "source": [
    "s, a, r, s_, t = agent.memory.sample(10)"
   ]
  },
  {
   "cell_type": "code",
   "execution_count": 268,
   "metadata": {},
   "outputs": [
    {
     "data": {
      "text/plain": [
       "tensor([[-0.1137],\n",
       "        [-0.6573],\n",
       "        [-0.5327],\n",
       "        [-0.7683],\n",
       "        [-0.5071],\n",
       "        [-0.4362],\n",
       "        [ 0.9135],\n",
       "        [ 0.8412],\n",
       "        [-0.9937],\n",
       "        [ 0.1618]], grad_fn=<TanhBackward>)"
      ]
     },
     "execution_count": 268,
     "metadata": {},
     "output_type": "execute_result"
    }
   ],
   "source": [
    "next_a, _ = agent.pi.sample_action(torch.tensor(s_, dtype=torch.float))\n",
    "next_a"
   ]
  },
  {
   "cell_type": "code",
   "execution_count": 269,
   "metadata": {},
   "outputs": [
    {
     "data": {
      "text/plain": [
       "tensor([[-0.8501, -0.5267, -3.2128, -0.1137],\n",
       "        [-0.5914, -0.8064,  1.9603, -0.6573],\n",
       "        [-0.8977, -0.4406,  3.7338, -0.5327],\n",
       "        [-0.7017,  0.7124, -3.2745, -0.7683],\n",
       "        [-0.8717, -0.4900,  3.7079, -0.5071],\n",
       "        [-0.9439, -0.3302,  4.3137, -0.4362],\n",
       "        [-0.5333, -0.8459,  1.4064,  0.9135],\n",
       "        [-0.6144,  0.7890, -2.9354,  0.8412],\n",
       "        [-0.6745,  0.7383,  2.7284, -0.9937],\n",
       "        [-0.4656,  0.8850,  0.6915,  0.1618]], dtype=torch.float64,\n",
       "       grad_fn=<CatBackward>)"
      ]
     },
     "execution_count": 269,
     "metadata": {},
     "output_type": "execute_result"
    }
   ],
   "source": [
    "torch.cat([torch.tensor(s_), next_a], dim=1)"
   ]
  },
  {
   "cell_type": "code",
   "execution_count": 149,
   "metadata": {},
   "outputs": [
    {
     "data": {
      "text/plain": [
       "tensor([[1.],\n",
       "        [0.],\n",
       "        [0.],\n",
       "        [0.],\n",
       "        [5.],\n",
       "        [0.]])"
      ]
     },
     "execution_count": 149,
     "metadata": {},
     "output_type": "execute_result"
    }
   ],
   "source": [
    "dones * rewards"
   ]
  },
  {
   "cell_type": "code",
   "execution_count": 150,
   "metadata": {},
   "outputs": [
    {
     "data": {
      "text/plain": [
       "tensor([[1.9900],\n",
       "        [2.0000],\n",
       "        [3.0000],\n",
       "        [4.0000],\n",
       "        [9.9500],\n",
       "        [6.0000]])"
      ]
     },
     "execution_count": 150,
     "metadata": {},
     "output_type": "execute_result"
    }
   ],
   "source": [
    "rewards + dones * 0.99 * rewards"
   ]
  },
  {
   "cell_type": "code",
   "execution_count": 151,
   "metadata": {},
   "outputs": [
    {
     "data": {
      "text/plain": [
       "tensor([[0.9900],\n",
       "        [0.0000],\n",
       "        [0.0000],\n",
       "        [0.0000],\n",
       "        [4.9500],\n",
       "        [0.0000]])"
      ]
     },
     "execution_count": 151,
     "metadata": {},
     "output_type": "execute_result"
    }
   ],
   "source": [
    "dones * 0.99 * rewards"
   ]
  },
  {
   "cell_type": "markdown",
   "metadata": {},
   "source": [
    "# s = np.array([\n",
    "    [1, 2, 3],\n",
    "    [4, 5, 6],\n",
    "    [7, 8, 9]\n",
    "])\n",
    "\n",
    "s = torch.tensor(s, dtype=torch.float)\n",
    "s"
   ]
  },
  {
   "cell_type": "code",
   "execution_count": 114,
   "metadata": {},
   "outputs": [
    {
     "data": {
      "text/plain": [
       "tensor([[1., 2., 3., 1., 2., 3.],\n",
       "        [4., 5., 6., 4., 5., 6.],\n",
       "        [7., 8., 9., 7., 8., 9.]])"
      ]
     },
     "execution_count": 114,
     "metadata": {},
     "output_type": "execute_result"
    }
   ],
   "source": [
    "torch.cat([s, s], dim=1)"
   ]
  },
  {
   "cell_type": "code",
   "execution_count": 142,
   "metadata": {},
   "outputs": [],
   "source": [
    "test = QNetwork(10, 3, 1)\n",
    "\n",
    "s = np.array([[x for x in range(10)], [x for x in range(10)], [x for x in range(10)]])\n",
    "a = np.array([[x for x in range(3)], [x for x in range(3)], [x for x in range(3)]])\n",
    "s = torch.tensor(s, dtype=torch.float)\n",
    "a = torch.tensor(a, dtype=torch.float)\n",
    "sa_cat = torch.cat([s, a], dim=1)\n",
    "\n",
    "q1 = test(sa_cat)\n",
    "\n",
    "test = QNetwork(10, 3, 1)\n",
    "\n",
    "q2 = test(sa_cat)"
   ]
  },
  {
   "cell_type": "code",
   "execution_count": 143,
   "metadata": {},
   "outputs": [
    {
     "name": "stdout",
     "output_type": "stream",
     "text": [
      "tensor([[0.],\n",
      "        [0.],\n",
      "        [0.]], grad_fn=<ReluBackward0>)\n",
      "tensor([[0.3051],\n",
      "        [0.3051],\n",
      "        [0.3051]], grad_fn=<ReluBackward0>)\n"
     ]
    }
   ],
   "source": [
    "print(q1)\n",
    "print(q2)"
   ]
  },
  {
   "cell_type": "code",
   "execution_count": 147,
   "metadata": {},
   "outputs": [
    {
     "data": {
      "text/plain": [
       "tensor([[1.],\n",
       "        [0.],\n",
       "        [0.],\n",
       "        [0.],\n",
       "        [1.],\n",
       "        [0.]])"
      ]
     },
     "execution_count": 147,
     "metadata": {},
     "output_type": "execute_result"
    }
   ],
   "source": [
    "torch.tensor(\n",
    "    np.array([1, 0, 0, 0, 1, 0]),\n",
    "    dtype=torch.float\n",
    ").unsqueeze(1)"
   ]
  },
  {
   "cell_type": "code",
   "execution_count": 122,
   "metadata": {},
   "outputs": [
    {
     "data": {
      "text/plain": [
       "tensor([[0.6314]], grad_fn=<ReluBackward0>)"
      ]
     },
     "execution_count": 122,
     "metadata": {},
     "output_type": "execute_result"
    }
   ],
   "source": [
    "q2"
   ]
  },
  {
   "cell_type": "code",
   "execution_count": 118,
   "metadata": {},
   "outputs": [
    {
     "data": {
      "text/plain": [
       "tensor([[0., 1., 2., 3., 4., 5., 6., 7., 8., 9.]])"
      ]
     },
     "execution_count": 118,
     "metadata": {},
     "output_type": "execute_result"
    }
   ],
   "source": [
    "torch.tensor(np.array([x for x in range(10)]), dtype=torch.float).unsqueeze(0)"
   ]
  },
  {
   "cell_type": "code",
   "execution_count": 105,
   "metadata": {
    "scrolled": true
   },
   "outputs": [
    {
     "data": {
      "text/plain": [
       "OrderedDict([('inp.weight',\n",
       "              tensor([[ 0.0304, -0.1035,  0.2134,  ...,  0.0365,  0.1818,  0.1708],\n",
       "                      [ 0.0964, -0.0088,  0.0405,  ...,  0.2354, -0.0939,  0.1486],\n",
       "                      [-0.1578,  0.0360,  0.0541,  ...,  0.0367, -0.1757,  0.1212],\n",
       "                      ...,\n",
       "                      [ 0.2672,  0.0679,  0.0935,  ...,  0.1895, -0.1087, -0.0212],\n",
       "                      [ 0.1469,  0.1968, -0.0811,  ...,  0.1725,  0.0384, -0.2246],\n",
       "                      [ 0.1134,  0.2695, -0.1413,  ..., -0.1740,  0.2642, -0.0428]])),\n",
       "             ('inp.bias',\n",
       "              tensor([ 0.1933, -0.1701,  0.1741,  0.2057,  0.1697, -0.1995,  0.2379,  0.2221,\n",
       "                       0.2127, -0.1698, -0.0435,  0.1291, -0.0954, -0.1706,  0.2642,  0.1521,\n",
       "                       0.0649, -0.2444,  0.1387,  0.1471,  0.2634, -0.0079, -0.2257,  0.2587,\n",
       "                       0.1845, -0.2516, -0.0468, -0.2756,  0.1786, -0.2400,  0.2554,  0.0936,\n",
       "                       0.2141, -0.1162, -0.0377, -0.2070,  0.0055,  0.0279,  0.0414,  0.0893,\n",
       "                      -0.1806,  0.1725,  0.0076,  0.0929, -0.2465,  0.1603,  0.0499,  0.1478,\n",
       "                       0.1966,  0.1092, -0.0654,  0.2256, -0.1044, -0.0263, -0.1158,  0.1337,\n",
       "                      -0.1163, -0.2421,  0.0675,  0.0921, -0.1957,  0.1818, -0.1267,  0.0221,\n",
       "                       0.1880,  0.2752,  0.2023,  0.1146, -0.0679,  0.0566, -0.0615,  0.2324,\n",
       "                      -0.1305,  0.2382,  0.1431, -0.1529,  0.0425,  0.1502,  0.2627, -0.2446,\n",
       "                      -0.1180, -0.0735, -0.2254, -0.0852, -0.0937,  0.0079, -0.2515, -0.1138,\n",
       "                      -0.0402,  0.1174,  0.2208, -0.0496,  0.0080, -0.0469,  0.0066,  0.1113,\n",
       "                      -0.2013, -0.0870, -0.1236,  0.0213, -0.1087, -0.1994,  0.1486,  0.1881,\n",
       "                      -0.0657,  0.0664,  0.1147, -0.0697,  0.0127, -0.1587,  0.1818, -0.2142,\n",
       "                       0.0069,  0.2261, -0.2488, -0.2396,  0.0269, -0.1474, -0.2427,  0.1707,\n",
       "                      -0.2372,  0.0976,  0.1317, -0.0348, -0.2250, -0.1311, -0.1959, -0.2058,\n",
       "                       0.1532,  0.1944,  0.1086, -0.2202, -0.2690, -0.2305,  0.2031, -0.2631,\n",
       "                      -0.0705, -0.0408,  0.1678, -0.1899, -0.1802, -0.2178, -0.1972,  0.0160,\n",
       "                      -0.1269,  0.1264,  0.1331,  0.2627, -0.2519,  0.2573, -0.2215, -0.0153,\n",
       "                      -0.1098, -0.2376, -0.2074,  0.0622,  0.1531,  0.1687, -0.1508, -0.2072,\n",
       "                      -0.1584, -0.1600,  0.0074, -0.0616, -0.2533, -0.1041, -0.1135,  0.2653,\n",
       "                      -0.1011, -0.2602,  0.0173,  0.0468, -0.1226,  0.1533, -0.2706,  0.0896,\n",
       "                      -0.1578,  0.2594, -0.2442, -0.1922, -0.0750, -0.2764,  0.0105, -0.1429,\n",
       "                      -0.2335,  0.0742,  0.2118,  0.0399, -0.2325,  0.1974, -0.2348,  0.1730,\n",
       "                       0.1205, -0.2056,  0.1945, -0.2002,  0.1379,  0.0685,  0.2711,  0.2231,\n",
       "                       0.0623,  0.0062, -0.0261,  0.1924,  0.1098,  0.1210,  0.0743,  0.0654,\n",
       "                      -0.0857,  0.1917,  0.1885, -0.0294, -0.2139, -0.1455, -0.1574, -0.1556,\n",
       "                      -0.0034,  0.2081, -0.2404,  0.0133,  0.1145, -0.2151, -0.1544,  0.1025,\n",
       "                      -0.1622,  0.1692,  0.0974, -0.1881, -0.2357, -0.1756, -0.0504, -0.1065,\n",
       "                      -0.1741,  0.0187,  0.1281, -0.0885,  0.1192, -0.2688,  0.1913, -0.1578,\n",
       "                      -0.2569,  0.0022,  0.1483, -0.0667, -0.2404, -0.2619,  0.2654,  0.1361,\n",
       "                      -0.1760,  0.0085, -0.1726, -0.0373, -0.1864,  0.2256, -0.0530,  0.0377])),\n",
       "             ('l1.weight',\n",
       "              tensor([[ 0.0474, -0.0155,  0.0124,  ...,  0.0036, -0.0212,  0.0594],\n",
       "                      [ 0.0372,  0.0327,  0.0331,  ..., -0.0570, -0.0571,  0.0485],\n",
       "                      [ 0.0531, -0.0473, -0.0623,  ..., -0.0378,  0.0266, -0.0606],\n",
       "                      ...,\n",
       "                      [-0.0304, -0.0374,  0.0349,  ..., -0.0378,  0.0595, -0.0537],\n",
       "                      [ 0.0172, -0.0131,  0.0321,  ...,  0.0315, -0.0615,  0.0603],\n",
       "                      [-0.0383,  0.0587,  0.0005,  ...,  0.0316, -0.0108,  0.0511]])),\n",
       "             ('l1.bias',\n",
       "              tensor([-0.0504, -0.0367,  0.0557,  0.0104, -0.0086, -0.0039, -0.0387,  0.0383,\n",
       "                      -0.0611, -0.0112,  0.0406, -0.0419,  0.0202, -0.0602,  0.0308,  0.0504,\n",
       "                       0.0441,  0.0172,  0.0463, -0.0210,  0.0195, -0.0361, -0.0291,  0.0242,\n",
       "                      -0.0363,  0.0392, -0.0241, -0.0202,  0.0529, -0.0507,  0.0436,  0.0137,\n",
       "                       0.0141, -0.0356,  0.0382,  0.0034,  0.0347,  0.0537, -0.0173,  0.0340,\n",
       "                       0.0078,  0.0430,  0.0309, -0.0291,  0.0269, -0.0106, -0.0204,  0.0137,\n",
       "                       0.0412, -0.0043,  0.0093,  0.0586, -0.0178, -0.0533,  0.0056,  0.0116,\n",
       "                       0.0576,  0.0097,  0.0594, -0.0104, -0.0041,  0.0278, -0.0267,  0.0339,\n",
       "                      -0.0038, -0.0347, -0.0575, -0.0134,  0.0496, -0.0527, -0.0165,  0.0248,\n",
       "                       0.0429, -0.0100,  0.0588,  0.0512,  0.0048,  0.0622,  0.0073, -0.0544,\n",
       "                      -0.0382,  0.0198,  0.0383,  0.0113,  0.0340, -0.0616,  0.0437,  0.0255,\n",
       "                       0.0340, -0.0556,  0.0216,  0.0591, -0.0534,  0.0020,  0.0103,  0.0038,\n",
       "                      -0.0505,  0.0332,  0.0018,  0.0294,  0.0277, -0.0503,  0.0045,  0.0471,\n",
       "                       0.0069,  0.0085, -0.0290,  0.0142,  0.0379, -0.0102, -0.0043, -0.0045,\n",
       "                      -0.0257,  0.0346,  0.0267, -0.0374, -0.0471,  0.0159,  0.0286, -0.0213,\n",
       "                      -0.0476, -0.0254,  0.0063, -0.0577, -0.0231,  0.0622, -0.0577, -0.0195,\n",
       "                      -0.0500, -0.0551,  0.0532,  0.0057,  0.0139, -0.0585,  0.0106,  0.0386,\n",
       "                       0.0546, -0.0486,  0.0485, -0.0281, -0.0228,  0.0053, -0.0536,  0.0552,\n",
       "                      -0.0190, -0.0252,  0.0059, -0.0191,  0.0558, -0.0079, -0.0118, -0.0579,\n",
       "                       0.0243,  0.0387,  0.0434, -0.0251,  0.0232,  0.0578, -0.0344, -0.0322,\n",
       "                       0.0070,  0.0189,  0.0232, -0.0231, -0.0031,  0.0081, -0.0050, -0.0312,\n",
       "                       0.0507, -0.0330, -0.0302, -0.0253,  0.0385, -0.0348, -0.0083, -0.0023,\n",
       "                      -0.0296,  0.0195, -0.0603,  0.0409, -0.0323, -0.0346,  0.0363, -0.0164,\n",
       "                      -0.0419, -0.0591,  0.0619, -0.0589, -0.0097,  0.0111,  0.0585,  0.0018,\n",
       "                      -0.0251, -0.0490,  0.0208, -0.0248,  0.0236, -0.0109,  0.0363,  0.0246,\n",
       "                      -0.0504,  0.0360,  0.0328,  0.0576,  0.0233, -0.0017, -0.0115, -0.0137,\n",
       "                      -0.0032, -0.0059, -0.0335, -0.0258,  0.0216,  0.0504, -0.0391,  0.0436,\n",
       "                       0.0492, -0.0519, -0.0537, -0.0092, -0.0389, -0.0579,  0.0334, -0.0316,\n",
       "                       0.0066,  0.0433,  0.0183, -0.0169, -0.0213,  0.0114,  0.0595,  0.0125,\n",
       "                      -0.0618, -0.0317, -0.0069, -0.0310,  0.0563,  0.0064,  0.0547, -0.0243,\n",
       "                      -0.0028,  0.0576, -0.0058,  0.0503,  0.0378,  0.0386,  0.0114,  0.0502,\n",
       "                       0.0193, -0.0615, -0.0022, -0.0146,  0.0075,  0.0554, -0.0297, -0.0396])),\n",
       "             ('l2.weight',\n",
       "              tensor([[ 0.0053, -0.0317,  0.0291,  0.0506, -0.0377, -0.0441, -0.0524, -0.0220,\n",
       "                        0.0234, -0.0266,  0.0441, -0.0066,  0.0152,  0.0575,  0.0097,  0.0236,\n",
       "                       -0.0301, -0.0095,  0.0523,  0.0244, -0.0166, -0.0565, -0.0194, -0.0492,\n",
       "                        0.0322, -0.0315, -0.0420,  0.0378,  0.0281, -0.0418,  0.0067,  0.0597,\n",
       "                       -0.0216, -0.0066, -0.0576, -0.0271,  0.0134, -0.0065, -0.0082,  0.0265,\n",
       "                        0.0063,  0.0590,  0.0427,  0.0334,  0.0272, -0.0471, -0.0346,  0.0027,\n",
       "                        0.0174,  0.0346,  0.0192, -0.0409,  0.0375, -0.0561,  0.0339, -0.0434,\n",
       "                        0.0509, -0.0550,  0.0251,  0.0260, -0.0385, -0.0072,  0.0556, -0.0319,\n",
       "                       -0.0024,  0.0210,  0.0574, -0.0305, -0.0255,  0.0138, -0.0433, -0.0250,\n",
       "                        0.0513,  0.0431, -0.0534, -0.0201,  0.0611,  0.0168,  0.0292, -0.0537,\n",
       "                       -0.0492,  0.0587, -0.0251,  0.0583,  0.0162, -0.0399,  0.0215, -0.0209,\n",
       "                        0.0166,  0.0320, -0.0177, -0.0174,  0.0049,  0.0609,  0.0581, -0.0602,\n",
       "                        0.0106, -0.0562,  0.0278,  0.0613,  0.0514, -0.0169, -0.0155, -0.0523,\n",
       "                        0.0341, -0.0528,  0.0205,  0.0506,  0.0529,  0.0211, -0.0452, -0.0257,\n",
       "                       -0.0008, -0.0037, -0.0448, -0.0054, -0.0248,  0.0236,  0.0513,  0.0468,\n",
       "                       -0.0254,  0.0617, -0.0271,  0.0192,  0.0054, -0.0353,  0.0516,  0.0103,\n",
       "                       -0.0583, -0.0093, -0.0594,  0.0273, -0.0204,  0.0330,  0.0401, -0.0606,\n",
       "                        0.0065, -0.0533, -0.0510,  0.0558, -0.0078,  0.0609, -0.0072,  0.0443,\n",
       "                       -0.0529,  0.0434,  0.0021, -0.0179, -0.0206,  0.0337,  0.0264, -0.0414,\n",
       "                       -0.0378, -0.0480, -0.0590,  0.0028,  0.0544, -0.0125, -0.0169,  0.0460,\n",
       "                       -0.0591,  0.0339,  0.0294, -0.0590,  0.0523,  0.0576, -0.0532,  0.0197,\n",
       "                        0.0246, -0.0025, -0.0090,  0.0477,  0.0334, -0.0097,  0.0417, -0.0516,\n",
       "                       -0.0301, -0.0447, -0.0293,  0.0169, -0.0580, -0.0393, -0.0303,  0.0620,\n",
       "                        0.0120, -0.0598, -0.0167,  0.0447, -0.0162, -0.0506, -0.0161,  0.0563,\n",
       "                       -0.0205,  0.0263, -0.0246,  0.0350, -0.0473, -0.0436, -0.0585,  0.0086,\n",
       "                        0.0002, -0.0431, -0.0341,  0.0102, -0.0258, -0.0502,  0.0166,  0.0028,\n",
       "                        0.0471, -0.0283, -0.0489, -0.0136,  0.0622,  0.0503, -0.0588,  0.0306,\n",
       "                        0.0372,  0.0019,  0.0219, -0.0455,  0.0066,  0.0487, -0.0079, -0.0294,\n",
       "                       -0.0152, -0.0216, -0.0204,  0.0548, -0.0044,  0.0315, -0.0047, -0.0346,\n",
       "                       -0.0617, -0.0331, -0.0183,  0.0186, -0.0615, -0.0184, -0.0158, -0.0378,\n",
       "                       -0.0084, -0.0507, -0.0120,  0.0300, -0.0287,  0.0598,  0.0379, -0.0066,\n",
       "                        0.0533, -0.0070, -0.0493,  0.0271, -0.0620, -0.0568,  0.0154, -0.0144]])),\n",
       "             ('l2.bias', tensor([0.0026]))])"
      ]
     },
     "execution_count": 105,
     "metadata": {},
     "output_type": "execute_result"
    }
   ],
   "source": [
    "test = QNetwork(10, 3, 1)\n",
    "p = test.state_dict()\n",
    "test.state_dict()"
   ]
  },
  {
   "cell_type": "code",
   "execution_count": 106,
   "metadata": {},
   "outputs": [
    {
     "data": {
      "text/plain": [
       "OrderedDict([('inp.weight',\n",
       "              tensor([[ 3.0387e-04, -1.0348e-03,  2.1342e-03,  ...,  3.6517e-04,\n",
       "                        1.8180e-03,  1.7075e-03],\n",
       "                      [ 9.6372e-04, -8.8379e-05,  4.0494e-04,  ...,  2.3539e-03,\n",
       "                       -9.3946e-04,  1.4865e-03],\n",
       "                      [-1.5780e-03,  3.6046e-04,  5.4069e-04,  ...,  3.6744e-04,\n",
       "                       -1.7573e-03,  1.2117e-03],\n",
       "                      ...,\n",
       "                      [ 2.6725e-03,  6.7912e-04,  9.3484e-04,  ...,  1.8945e-03,\n",
       "                       -1.0874e-03, -2.1201e-04],\n",
       "                      [ 1.4694e-03,  1.9685e-03, -8.1121e-04,  ...,  1.7247e-03,\n",
       "                        3.8447e-04, -2.2460e-03],\n",
       "                      [ 1.1336e-03,  2.6954e-03, -1.4128e-03,  ..., -1.7402e-03,\n",
       "                        2.6418e-03, -4.2813e-04]])),\n",
       "             ('inp.bias',\n",
       "              tensor([ 1.9329e-03, -1.7009e-03,  1.7406e-03,  2.0574e-03,  1.6975e-03,\n",
       "                      -1.9954e-03,  2.3794e-03,  2.2208e-03,  2.1271e-03, -1.6984e-03,\n",
       "                      -4.3501e-04,  1.2905e-03, -9.5364e-04, -1.7055e-03,  2.6422e-03,\n",
       "                       1.5207e-03,  6.4897e-04, -2.4437e-03,  1.3868e-03,  1.4710e-03,\n",
       "                       2.6340e-03, -7.8516e-05, -2.2568e-03,  2.5866e-03,  1.8452e-03,\n",
       "                      -2.5158e-03, -4.6790e-04, -2.7556e-03,  1.7857e-03, -2.4000e-03,\n",
       "                       2.5535e-03,  9.3563e-04,  2.1411e-03, -1.1623e-03, -3.7658e-04,\n",
       "                      -2.0697e-03,  5.5122e-05,  2.7854e-04,  4.1416e-04,  8.9260e-04,\n",
       "                      -1.8063e-03,  1.7246e-03,  7.6020e-05,  9.2934e-04, -2.4646e-03,\n",
       "                       1.6028e-03,  4.9852e-04,  1.4783e-03,  1.9656e-03,  1.0916e-03,\n",
       "                      -6.5442e-04,  2.2557e-03, -1.0436e-03, -2.6347e-04, -1.1582e-03,\n",
       "                       1.3371e-03, -1.1629e-03, -2.4212e-03,  6.7460e-04,  9.2118e-04,\n",
       "                      -1.9567e-03,  1.8177e-03, -1.2670e-03,  2.2111e-04,  1.8801e-03,\n",
       "                       2.7522e-03,  2.0228e-03,  1.1460e-03, -6.7911e-04,  5.6565e-04,\n",
       "                      -6.1495e-04,  2.3241e-03, -1.3047e-03,  2.3821e-03,  1.4311e-03,\n",
       "                      -1.5286e-03,  4.2512e-04,  1.5024e-03,  2.6271e-03, -2.4462e-03,\n",
       "                      -1.1804e-03, -7.3545e-04, -2.2542e-03, -8.5219e-04, -9.3736e-04,\n",
       "                       7.9310e-05, -2.5153e-03, -1.1382e-03, -4.0223e-04,  1.1737e-03,\n",
       "                       2.2077e-03, -4.9643e-04,  8.0274e-05, -4.6877e-04,  6.5591e-05,\n",
       "                       1.1129e-03, -2.0126e-03, -8.6963e-04, -1.2362e-03,  2.1276e-04,\n",
       "                      -1.0869e-03, -1.9940e-03,  1.4862e-03,  1.8814e-03, -6.5745e-04,\n",
       "                       6.6431e-04,  1.1468e-03, -6.9677e-04,  1.2687e-04, -1.5872e-03,\n",
       "                       1.8176e-03, -2.1420e-03,  6.9342e-05,  2.2612e-03, -2.4876e-03,\n",
       "                      -2.3961e-03,  2.6935e-04, -1.4736e-03, -2.4269e-03,  1.7067e-03,\n",
       "                      -2.3718e-03,  9.7595e-04,  1.3165e-03, -3.4821e-04, -2.2499e-03,\n",
       "                      -1.3112e-03, -1.9590e-03, -2.0578e-03,  1.5318e-03,  1.9440e-03,\n",
       "                       1.0856e-03, -2.2023e-03, -2.6899e-03, -2.3046e-03,  2.0311e-03,\n",
       "                      -2.6313e-03, -7.0461e-04, -4.0824e-04,  1.6780e-03, -1.8994e-03,\n",
       "                      -1.8023e-03, -2.1780e-03, -1.9720e-03,  1.5973e-04, -1.2686e-03,\n",
       "                       1.2643e-03,  1.3312e-03,  2.6271e-03, -2.5194e-03,  2.5734e-03,\n",
       "                      -2.2154e-03, -1.5313e-04, -1.0976e-03, -2.3759e-03, -2.0741e-03,\n",
       "                       6.2239e-04,  1.5311e-03,  1.6870e-03, -1.5075e-03, -2.0719e-03,\n",
       "                      -1.5841e-03, -1.6001e-03,  7.3865e-05, -6.1567e-04, -2.5330e-03,\n",
       "                      -1.0415e-03, -1.1352e-03,  2.6534e-03, -1.0111e-03, -2.6023e-03,\n",
       "                       1.7344e-04,  4.6792e-04, -1.2265e-03,  1.5328e-03, -2.7063e-03,\n",
       "                       8.9650e-04, -1.5780e-03,  2.5945e-03, -2.4421e-03, -1.9221e-03,\n",
       "                      -7.4966e-04, -2.7643e-03,  1.0527e-04, -1.4288e-03, -2.3351e-03,\n",
       "                       7.4214e-04,  2.1183e-03,  3.9920e-04, -2.3248e-03,  1.9741e-03,\n",
       "                      -2.3477e-03,  1.7301e-03,  1.2045e-03, -2.0558e-03,  1.9455e-03,\n",
       "                      -2.0021e-03,  1.3792e-03,  6.8452e-04,  2.7111e-03,  2.2315e-03,\n",
       "                       6.2347e-04,  6.2296e-05, -2.6133e-04,  1.9235e-03,  1.0982e-03,\n",
       "                       1.2096e-03,  7.4300e-04,  6.5435e-04, -8.5698e-04,  1.9173e-03,\n",
       "                       1.8852e-03, -2.9386e-04, -2.1390e-03, -1.4549e-03, -1.5744e-03,\n",
       "                      -1.5561e-03, -3.3937e-05,  2.0812e-03, -2.4044e-03,  1.3310e-04,\n",
       "                       1.1451e-03, -2.1509e-03, -1.5438e-03,  1.0248e-03, -1.6218e-03,\n",
       "                       1.6917e-03,  9.7417e-04, -1.8812e-03, -2.3573e-03, -1.7563e-03,\n",
       "                      -5.0368e-04, -1.0653e-03, -1.7410e-03,  1.8702e-04,  1.2814e-03,\n",
       "                      -8.8488e-04,  1.1922e-03, -2.6883e-03,  1.9129e-03, -1.5778e-03,\n",
       "                      -2.5693e-03,  2.1605e-05,  1.4830e-03, -6.6748e-04, -2.4039e-03,\n",
       "                      -2.6189e-03,  2.6543e-03,  1.3607e-03, -1.7602e-03,  8.4896e-05,\n",
       "                      -1.7260e-03, -3.7289e-04, -1.8635e-03,  2.2557e-03, -5.2974e-04,\n",
       "                       3.7748e-04])),\n",
       "             ('l1.weight',\n",
       "              tensor([[ 4.7374e-04, -1.5506e-04,  1.2395e-04,  ...,  3.6175e-05,\n",
       "                       -2.1160e-04,  5.9405e-04],\n",
       "                      [ 3.7173e-04,  3.2656e-04,  3.3144e-04,  ..., -5.7022e-04,\n",
       "                       -5.7112e-04,  4.8502e-04],\n",
       "                      [ 5.3108e-04, -4.7266e-04, -6.2255e-04,  ..., -3.7794e-04,\n",
       "                        2.6621e-04, -6.0577e-04],\n",
       "                      ...,\n",
       "                      [-3.0404e-04, -3.7398e-04,  3.4892e-04,  ..., -3.7768e-04,\n",
       "                        5.9454e-04, -5.3744e-04],\n",
       "                      [ 1.7237e-04, -1.3120e-04,  3.2053e-04,  ...,  3.1500e-04,\n",
       "                       -6.1451e-04,  6.0279e-04],\n",
       "                      [-3.8280e-04,  5.8714e-04,  4.7756e-06,  ...,  3.1595e-04,\n",
       "                       -1.0834e-04,  5.1093e-04]])),\n",
       "             ('l1.bias',\n",
       "              tensor([-5.0436e-04, -3.6709e-04,  5.5738e-04,  1.0384e-04, -8.6360e-05,\n",
       "                      -3.9254e-05, -3.8654e-04,  3.8272e-04, -6.1134e-04, -1.1151e-04,\n",
       "                       4.0627e-04, -4.1878e-04,  2.0177e-04, -6.0231e-04,  3.0844e-04,\n",
       "                       5.0393e-04,  4.4070e-04,  1.7237e-04,  4.6281e-04, -2.0974e-04,\n",
       "                       1.9481e-04, -3.6071e-04, -2.9148e-04,  2.4172e-04, -3.6292e-04,\n",
       "                       3.9198e-04, -2.4113e-04, -2.0198e-04,  5.2861e-04, -5.0665e-04,\n",
       "                       4.3571e-04,  1.3660e-04,  1.4052e-04, -3.5570e-04,  3.8214e-04,\n",
       "                       3.4359e-05,  3.4741e-04,  5.3742e-04, -1.7326e-04,  3.3984e-04,\n",
       "                       7.7978e-05,  4.2998e-04,  3.0903e-04, -2.9072e-04,  2.6866e-04,\n",
       "                      -1.0647e-04, -2.0366e-04,  1.3666e-04,  4.1174e-04, -4.3436e-05,\n",
       "                       9.3189e-05,  5.8615e-04, -1.7835e-04, -5.3348e-04,  5.5971e-05,\n",
       "                       1.1566e-04,  5.7592e-04,  9.6876e-05,  5.9412e-04, -1.0438e-04,\n",
       "                      -4.1077e-05,  2.7847e-04, -2.6706e-04,  3.3859e-04, -3.8290e-05,\n",
       "                      -3.4743e-04, -5.7477e-04, -1.3373e-04,  4.9598e-04, -5.2670e-04,\n",
       "                      -1.6511e-04,  2.4753e-04,  4.2936e-04, -1.0029e-04,  5.8792e-04,\n",
       "                       5.1181e-04,  4.8285e-05,  6.2208e-04,  7.2861e-05, -5.4432e-04,\n",
       "                      -3.8195e-04,  1.9754e-04,  3.8346e-04,  1.1280e-04,  3.3961e-04,\n",
       "                      -6.1615e-04,  4.3734e-04,  2.5500e-04,  3.3998e-04, -5.5631e-04,\n",
       "                       2.1642e-04,  5.9135e-04, -5.3391e-04,  1.9946e-05,  1.0316e-04,\n",
       "                       3.8319e-05, -5.0527e-04,  3.3235e-04,  1.8391e-05,  2.9385e-04,\n",
       "                       2.7715e-04, -5.0335e-04,  4.5500e-05,  4.7122e-04,  6.9371e-05,\n",
       "                       8.5165e-05, -2.8955e-04,  1.4190e-04,  3.7923e-04, -1.0156e-04,\n",
       "                      -4.3476e-05, -4.4661e-05, -2.5746e-04,  3.4581e-04,  2.6694e-04,\n",
       "                      -3.7408e-04, -4.7133e-04,  1.5943e-04,  2.8578e-04, -2.1335e-04,\n",
       "                      -4.7591e-04, -2.5372e-04,  6.3446e-05, -5.7729e-04, -2.3066e-04,\n",
       "                       6.2210e-04, -5.7728e-04, -1.9493e-04, -5.0007e-04, -5.5136e-04,\n",
       "                       5.3168e-04,  5.7284e-05,  1.3856e-04, -5.8532e-04,  1.0585e-04,\n",
       "                       3.8632e-04,  5.4563e-04, -4.8622e-04,  4.8517e-04, -2.8083e-04,\n",
       "                      -2.2780e-04,  5.2615e-05, -5.3571e-04,  5.5223e-04, -1.9042e-04,\n",
       "                      -2.5212e-04,  5.9441e-05, -1.9128e-04,  5.5844e-04, -7.9457e-05,\n",
       "                      -1.1762e-04, -5.7927e-04,  2.4297e-04,  3.8665e-04,  4.3416e-04,\n",
       "                      -2.5137e-04,  2.3156e-04,  5.7807e-04, -3.4395e-04, -3.2216e-04,\n",
       "                       6.9927e-05,  1.8864e-04,  2.3173e-04, -2.3067e-04, -3.0674e-05,\n",
       "                       8.0714e-05, -4.9797e-05, -3.1198e-04,  5.0694e-04, -3.2952e-04,\n",
       "                      -3.0201e-04, -2.5254e-04,  3.8519e-04, -3.4769e-04, -8.3003e-05,\n",
       "                      -2.3272e-05, -2.9603e-04,  1.9492e-04, -6.0264e-04,  4.0893e-04,\n",
       "                      -3.2310e-04, -3.4608e-04,  3.6342e-04, -1.6406e-04, -4.1867e-04,\n",
       "                      -5.9051e-04,  6.1928e-04, -5.8852e-04, -9.7354e-05,  1.1068e-04,\n",
       "                       5.8549e-04,  1.7758e-05, -2.5051e-04, -4.9047e-04,  2.0760e-04,\n",
       "                      -2.4822e-04,  2.3594e-04, -1.0926e-04,  3.6323e-04,  2.4593e-04,\n",
       "                      -5.0394e-04,  3.6047e-04,  3.2753e-04,  5.7594e-04,  2.3274e-04,\n",
       "                      -1.6872e-05, -1.1489e-04, -1.3714e-04, -3.1934e-05, -5.8570e-05,\n",
       "                      -3.3457e-04, -2.5845e-04,  2.1627e-04,  5.0359e-04, -3.9056e-04,\n",
       "                       4.3572e-04,  4.9197e-04, -5.1878e-04, -5.3740e-04, -9.2001e-05,\n",
       "                      -3.8886e-04, -5.7863e-04,  3.3363e-04, -3.1623e-04,  6.6332e-05,\n",
       "                       4.3289e-04,  1.8257e-04, -1.6938e-04, -2.1294e-04,  1.1415e-04,\n",
       "                       5.9523e-04,  1.2492e-04, -6.1839e-04, -3.1745e-04, -6.8879e-05,\n",
       "                      -3.1048e-04,  5.6264e-04,  6.4448e-05,  5.4720e-04, -2.4331e-04,\n",
       "                      -2.7963e-05,  5.7585e-04, -5.7754e-05,  5.0253e-04,  3.7830e-04,\n",
       "                       3.8609e-04,  1.1357e-04,  5.0207e-04,  1.9253e-04, -6.1511e-04,\n",
       "                      -2.1950e-05, -1.4561e-04,  7.4904e-05,  5.5439e-04, -2.9725e-04,\n",
       "                      -3.9557e-04])),\n",
       "             ('l2.weight',\n",
       "              tensor([[ 5.2900e-05, -3.1690e-04,  2.9086e-04,  5.0628e-04, -3.7726e-04,\n",
       "                       -4.4078e-04, -5.2355e-04, -2.2037e-04,  2.3425e-04, -2.6625e-04,\n",
       "                        4.4098e-04, -6.5696e-05,  1.5209e-04,  5.7482e-04,  9.6979e-05,\n",
       "                        2.3606e-04, -3.0125e-04, -9.4865e-05,  5.2349e-04,  2.4376e-04,\n",
       "                       -1.6612e-04, -5.6512e-04, -1.9434e-04, -4.9227e-04,  3.2238e-04,\n",
       "                       -3.1503e-04, -4.1984e-04,  3.7832e-04,  2.8066e-04, -4.1779e-04,\n",
       "                        6.7004e-05,  5.9709e-04, -2.1567e-04, -6.5733e-05, -5.7608e-04,\n",
       "                       -2.7082e-04,  1.3431e-04, -6.5000e-05, -8.2118e-05,  2.6532e-04,\n",
       "                        6.2577e-05,  5.9040e-04,  4.2683e-04,  3.3447e-04,  2.7186e-04,\n",
       "                       -4.7096e-04, -3.4565e-04,  2.6687e-05,  1.7437e-04,  3.4597e-04,\n",
       "                        1.9177e-04, -4.0858e-04,  3.7483e-04, -5.6077e-04,  3.3895e-04,\n",
       "                       -4.3411e-04,  5.0852e-04, -5.4955e-04,  2.5058e-04,  2.6028e-04,\n",
       "                       -3.8460e-04, -7.1604e-05,  5.5598e-04, -3.1885e-04, -2.4241e-05,\n",
       "                        2.0975e-04,  5.7428e-04, -3.0502e-04, -2.5506e-04,  1.3797e-04,\n",
       "                       -4.3251e-04, -2.5023e-04,  5.1276e-04,  4.3141e-04, -5.3365e-04,\n",
       "                       -2.0144e-04,  6.1052e-04,  1.6789e-04,  2.9190e-04, -5.3662e-04,\n",
       "                       -4.9217e-04,  5.8669e-04, -2.5078e-04,  5.8255e-04,  1.6196e-04,\n",
       "                       -3.9857e-04,  2.1452e-04, -2.0899e-04,  1.6595e-04,  3.1981e-04,\n",
       "                       -1.7721e-04, -1.7399e-04,  4.9486e-05,  6.0860e-04,  5.8142e-04,\n",
       "                       -6.0211e-04,  1.0595e-04, -5.6178e-04,  2.7779e-04,  6.1312e-04,\n",
       "                        5.1361e-04, -1.6930e-04, -1.5503e-04, -5.2281e-04,  3.4069e-04,\n",
       "                       -5.2818e-04,  2.0550e-04,  5.0599e-04,  5.2902e-04,  2.1087e-04,\n",
       "                       -4.5238e-04, -2.5668e-04, -8.3529e-06, -3.7061e-05, -4.4843e-04,\n",
       "                       -5.3769e-05, -2.4835e-04,  2.3558e-04,  5.1303e-04,  4.6828e-04,\n",
       "                       -2.5417e-04,  6.1702e-04, -2.7120e-04,  1.9229e-04,  5.3835e-05,\n",
       "                       -3.5293e-04,  5.1606e-04,  1.0265e-04, -5.8333e-04, -9.2613e-05,\n",
       "                       -5.9358e-04,  2.7339e-04, -2.0399e-04,  3.2959e-04,  4.0149e-04,\n",
       "                       -6.0600e-04,  6.5403e-05, -5.3259e-04, -5.1038e-04,  5.5789e-04,\n",
       "                       -7.7606e-05,  6.0903e-04, -7.2279e-05,  4.4262e-04, -5.2862e-04,\n",
       "                        4.3375e-04,  2.0790e-05, -1.7858e-04, -2.0568e-04,  3.3737e-04,\n",
       "                        2.6390e-04, -4.1431e-04, -3.7807e-04, -4.7970e-04, -5.9046e-04,\n",
       "                        2.8013e-05,  5.4396e-04, -1.2491e-04, -1.6931e-04,  4.5966e-04,\n",
       "                       -5.9140e-04,  3.3852e-04,  2.9384e-04, -5.9026e-04,  5.2277e-04,\n",
       "                        5.7563e-04, -5.3199e-04,  1.9749e-04,  2.4627e-04, -2.4974e-05,\n",
       "                       -8.9689e-05,  4.7713e-04,  3.3401e-04, -9.6592e-05,  4.1669e-04,\n",
       "                       -5.1563e-04, -3.0142e-04, -4.4684e-04, -2.9289e-04,  1.6918e-04,\n",
       "                       -5.7965e-04, -3.9311e-04, -3.0289e-04,  6.1993e-04,  1.1955e-04,\n",
       "                       -5.9841e-04, -1.6698e-04,  4.4670e-04, -1.6178e-04, -5.0630e-04,\n",
       "                       -1.6099e-04,  5.6328e-04, -2.0544e-04,  2.6263e-04, -2.4625e-04,\n",
       "                        3.4960e-04, -4.7346e-04, -4.3634e-04, -5.8533e-04,  8.6217e-05,\n",
       "                        2.2631e-06, -4.3144e-04, -3.4077e-04,  1.0235e-04, -2.5795e-04,\n",
       "                       -5.0196e-04,  1.6580e-04,  2.7638e-05,  4.7122e-04, -2.8326e-04,\n",
       "                       -4.8912e-04, -1.3642e-04,  6.2152e-04,  5.0334e-04, -5.8776e-04,\n",
       "                        3.0581e-04,  3.7193e-04,  1.8842e-05,  2.1926e-04, -4.5497e-04,\n",
       "                        6.6384e-05,  4.8674e-04, -7.8621e-05, -2.9424e-04, -1.5180e-04,\n",
       "                       -2.1623e-04, -2.0421e-04,  5.4830e-04, -4.3609e-05,  3.1492e-04,\n",
       "                       -4.6880e-05, -3.4570e-04, -6.1711e-04, -3.3146e-04, -1.8339e-04,\n",
       "                        1.8594e-04, -6.1475e-04, -1.8365e-04, -1.5796e-04, -3.7756e-04,\n",
       "                       -8.4186e-05, -5.0713e-04, -1.1977e-04,  3.0009e-04, -2.8682e-04,\n",
       "                        5.9793e-04,  3.7944e-04, -6.5794e-05,  5.3348e-04, -7.0309e-05,\n",
       "                       -4.9344e-04,  2.7102e-04, -6.2015e-04, -5.6841e-04,  1.5394e-04,\n",
       "                       -1.4401e-04]])),\n",
       "             ('l2.bias', tensor([2.5886e-05]))])"
      ]
     },
     "execution_count": 106,
     "metadata": {},
     "output_type": "execute_result"
    }
   ],
   "source": [
    "for key in p.keys():\n",
    "    p[key] *= 0.01\n",
    "test.state_dict()"
   ]
  },
  {
   "cell_type": "code",
   "execution_count": 99,
   "metadata": {},
   "outputs": [],
   "source": []
  },
  {
   "cell_type": "code",
   "execution_count": 100,
   "metadata": {},
   "outputs": [
    {
     "data": {
      "text/plain": [
       "OrderedDict([('inp.weight',\n",
       "              tensor([[ 1.6208e-03,  7.6350e-04,  2.7396e-03,  ..., -2.3728e-03,\n",
       "                       -2.7441e-03, -1.2152e-03],\n",
       "                      [-2.2653e-03,  4.9927e-04,  2.4670e-03,  ..., -7.7872e-05,\n",
       "                        1.2097e-03, -2.6899e-03],\n",
       "                      [ 1.5258e-03, -1.2957e-03,  4.4453e-04,  ..., -4.6565e-04,\n",
       "                        9.4918e-04,  1.8954e-03],\n",
       "                      ...,\n",
       "                      [ 1.5395e-03,  6.7209e-04, -3.6641e-04,  ...,  1.9100e-03,\n",
       "                        1.7140e-03,  2.4130e-03],\n",
       "                      [-7.0626e-04,  1.4858e-03,  3.9183e-04,  ..., -2.2896e-03,\n",
       "                        1.4543e-03,  2.4794e-03],\n",
       "                      [ 2.3049e-03,  1.4009e-03, -2.1746e-03,  ..., -7.0786e-05,\n",
       "                        1.2669e-03, -1.9307e-03]])),\n",
       "             ('inp.bias',\n",
       "              tensor([-5.3628e-04, -9.5116e-04, -7.5733e-04,  1.5539e-03,  2.0863e-03,\n",
       "                      -7.2791e-05, -1.6991e-03,  9.7480e-04,  5.5934e-05, -2.3011e-03,\n",
       "                      -1.2858e-03,  6.6717e-04, -2.0683e-03, -2.4633e-03,  2.2186e-03,\n",
       "                       2.3718e-03,  1.0781e-03, -6.6912e-04,  2.3885e-03,  2.9485e-04,\n",
       "                       2.4297e-03, -8.2799e-04,  3.7554e-04, -2.0851e-03,  3.1637e-04,\n",
       "                      -9.3641e-04, -2.1662e-03, -2.6580e-03, -3.6997e-04,  1.0713e-03,\n",
       "                      -1.6159e-03, -2.8800e-04,  2.2789e-03,  6.4557e-04, -2.4389e-03,\n",
       "                       6.1991e-04,  2.1702e-03,  8.8383e-06, -1.7372e-03,  2.0057e-04,\n",
       "                       6.6527e-04,  2.6332e-03,  2.2762e-03, -2.5264e-03, -1.9403e-03,\n",
       "                      -6.5948e-04,  2.3167e-03,  6.4607e-04,  1.5907e-03,  1.2037e-03,\n",
       "                       9.7673e-04, -2.1667e-03,  1.0798e-03, -2.4849e-03, -1.4228e-03,\n",
       "                      -1.4255e-03,  1.3141e-03,  9.5236e-04,  2.3638e-03,  1.5873e-03,\n",
       "                       2.7302e-03,  2.3297e-04,  1.7488e-03, -6.8224e-04, -1.4710e-03,\n",
       "                       1.9785e-03,  1.2282e-03, -1.5899e-03,  1.4533e-03,  3.5993e-04,\n",
       "                      -2.7074e-03, -1.1753e-03, -1.8172e-03,  1.7327e-03,  7.4881e-04,\n",
       "                       1.5803e-04, -1.2193e-04,  5.9109e-04,  1.9046e-03, -1.0593e-03,\n",
       "                      -7.3500e-04, -9.4529e-04,  2.4951e-03, -9.9379e-04,  1.0174e-03,\n",
       "                      -2.5747e-03, -2.1979e-03, -1.5504e-03,  2.6245e-03,  2.6950e-03,\n",
       "                      -2.5388e-03, -4.3502e-04, -2.7318e-03,  2.3988e-03,  2.3186e-03,\n",
       "                       4.7973e-04, -2.2974e-03,  1.6125e-03, -1.7623e-03, -7.4697e-04,\n",
       "                       1.3222e-04, -4.0457e-04,  8.6645e-05, -1.3966e-03, -2.3557e-03,\n",
       "                       3.6342e-04, -2.7717e-03,  5.6193e-04,  1.4959e-03,  2.1770e-04,\n",
       "                       1.6369e-03, -2.5833e-03,  1.7711e-03,  1.5002e-03,  2.3335e-03,\n",
       "                       2.5114e-03,  2.6922e-03, -5.7659e-04,  1.7521e-04, -1.7017e-03,\n",
       "                       1.3207e-03, -5.4507e-05,  1.0004e-03,  2.2170e-03,  1.4708e-03,\n",
       "                      -3.9611e-05,  2.4025e-03, -5.6899e-04,  2.7484e-03, -1.0652e-04,\n",
       "                      -2.1304e-03,  5.9635e-04, -2.0491e-03, -2.6701e-03, -2.7564e-03,\n",
       "                       2.6783e-03,  2.5796e-03,  2.6457e-03,  1.5260e-03,  8.8098e-04,\n",
       "                       2.6070e-03,  9.7888e-04, -6.5816e-04,  7.0439e-04,  1.1712e-03,\n",
       "                      -1.7344e-03, -2.1329e-03, -2.6520e-03,  1.5241e-03, -2.8926e-04,\n",
       "                       7.7588e-04,  1.7107e-03,  1.8770e-03, -2.7279e-03,  2.5728e-03,\n",
       "                      -1.2947e-03, -1.5625e-03,  7.6362e-04, -2.6872e-03,  1.2633e-03,\n",
       "                      -2.0687e-03,  1.3649e-03, -1.6924e-03,  2.6707e-03,  2.1551e-04,\n",
       "                       1.0459e-03,  4.7521e-04,  1.4160e-03, -2.2147e-03,  1.2324e-03,\n",
       "                       1.9784e-03, -8.9180e-04,  1.3224e-04,  2.5362e-03, -7.4538e-04,\n",
       "                      -9.7674e-04, -2.3809e-03,  2.1522e-03, -1.3847e-03, -3.1256e-04,\n",
       "                       1.7095e-03,  1.8589e-03,  2.3798e-03,  1.5536e-03,  2.1776e-03,\n",
       "                      -2.4556e-03,  1.3465e-03, -1.4225e-03, -2.1912e-03,  8.7081e-04,\n",
       "                      -2.0411e-03,  1.1161e-03,  1.3353e-03, -9.4045e-04, -2.2710e-03,\n",
       "                       1.3483e-03, -2.5133e-03,  8.6408e-04, -8.8498e-04, -1.9578e-03,\n",
       "                       1.8026e-04, -2.4104e-03, -5.4899e-04, -4.1545e-04, -1.8389e-03,\n",
       "                       1.5812e-03, -2.4903e-03,  2.5486e-03,  2.4192e-03,  2.0600e-03,\n",
       "                      -2.7632e-03, -1.4791e-03, -5.3313e-04,  1.3008e-03, -1.2058e-03,\n",
       "                       1.5239e-03, -1.8940e-03,  1.1788e-03, -1.2265e-03, -6.5760e-04,\n",
       "                      -1.7651e-03,  1.6696e-03,  1.4714e-03, -2.7267e-03, -1.9005e-03,\n",
       "                       5.9232e-05,  3.6819e-04,  2.1234e-03, -1.1687e-03, -1.1402e-03,\n",
       "                      -2.6239e-03, -7.9562e-04,  1.8004e-03,  1.7329e-03,  2.6629e-03,\n",
       "                      -2.6649e-03,  1.2814e-03,  1.5457e-03, -1.3540e-03,  9.4025e-04,\n",
       "                       2.6003e-03, -6.3367e-04, -7.2470e-04,  1.5607e-03, -1.1205e-04,\n",
       "                       6.6579e-04,  4.6348e-04,  2.7572e-03,  1.4077e-03,  7.1038e-04,\n",
       "                       2.5717e-03,  2.4582e-04, -1.7369e-03,  2.7346e-04, -5.5668e-04,\n",
       "                       4.8600e-04])),\n",
       "             ('l1.weight',\n",
       "              tensor([[ 4.6434e-04, -2.8508e-04, -5.5700e-04,  ..., -5.2149e-04,\n",
       "                       -2.6589e-04, -1.1088e-04],\n",
       "                      [ 4.7440e-04, -3.1447e-04,  7.0810e-06,  ...,  3.5952e-04,\n",
       "                       -5.9034e-05, -5.8061e-05],\n",
       "                      [ 3.8832e-04,  1.8332e-04,  4.9083e-04,  ..., -2.9180e-04,\n",
       "                       -4.4314e-04, -4.9609e-04],\n",
       "                      ...,\n",
       "                      [ 3.3413e-04, -1.3939e-04,  3.9813e-04,  ...,  8.2952e-05,\n",
       "                       -1.1466e-05,  3.5557e-06],\n",
       "                      [-1.1925e-04,  3.0343e-04,  4.8220e-04,  ...,  4.4208e-04,\n",
       "                       -5.8653e-04,  2.3161e-04],\n",
       "                      [-1.9898e-04, -2.1307e-04,  3.2139e-04,  ..., -6.0314e-04,\n",
       "                        3.4626e-04, -4.8003e-04]])),\n",
       "             ('l1.bias',\n",
       "              tensor([-4.6917e-04,  2.1713e-04,  2.6859e-04,  1.9755e-04,  1.1133e-04,\n",
       "                       1.2073e-04, -2.7356e-05,  4.7565e-04, -4.9929e-04,  1.0661e-04,\n",
       "                       3.8081e-04, -1.2318e-04,  6.0991e-04, -5.0257e-04, -1.9057e-04,\n",
       "                       5.7991e-04, -2.1541e-04,  4.9668e-04, -5.2079e-04,  4.5318e-04,\n",
       "                      -4.6777e-04, -4.8702e-04, -5.6124e-04,  6.7719e-06,  5.4330e-05,\n",
       "                      -3.1968e-04, -2.9971e-04,  1.9014e-04, -8.7276e-06, -5.2329e-04,\n",
       "                       4.4679e-04,  5.8541e-04,  5.4397e-04,  5.1971e-04,  5.3200e-04,\n",
       "                       4.2839e-04,  5.7857e-04,  7.9565e-06,  2.9045e-04, -5.9187e-04,\n",
       "                       4.9379e-04,  4.7143e-05,  1.0479e-04, -3.7525e-04, -3.8606e-04,\n",
       "                       5.8051e-04,  2.1820e-04, -1.2803e-04,  1.8376e-04,  4.7070e-04,\n",
       "                       2.5008e-04, -3.7749e-04,  4.6605e-04, -4.4299e-04,  4.0310e-04,\n",
       "                      -5.1147e-04,  1.9532e-04, -1.3045e-04,  2.2409e-04, -7.3650e-06,\n",
       "                      -3.2847e-04, -1.7990e-04, -2.3293e-04,  2.3513e-04, -5.2787e-04,\n",
       "                       2.6899e-04, -4.5464e-04,  3.2395e-04, -3.7270e-04,  2.3002e-04,\n",
       "                       6.0491e-04,  3.3513e-04,  3.4313e-04,  4.2242e-04, -5.0669e-04,\n",
       "                       3.1380e-04,  4.8984e-04,  2.7595e-04,  2.7629e-04,  3.9606e-04,\n",
       "                      -2.9763e-04,  7.9742e-05, -2.4230e-04,  1.3883e-04,  1.3047e-04,\n",
       "                       2.6685e-04, -4.7505e-04, -2.3674e-04, -3.9101e-04,  3.8461e-04,\n",
       "                      -5.3634e-04,  6.0105e-04,  1.9893e-04, -5.2354e-04,  3.4496e-04,\n",
       "                       2.9820e-04,  1.1777e-04, -5.6143e-04,  3.1262e-04, -3.8652e-04,\n",
       "                      -4.6183e-04,  4.2476e-05, -8.4269e-06,  4.2491e-04, -1.3105e-04,\n",
       "                       1.1167e-04, -5.8038e-05,  2.9644e-05, -5.4711e-04, -1.3094e-04,\n",
       "                       9.9174e-05, -1.8715e-05,  6.4162e-05,  3.3567e-04,  3.9419e-04,\n",
       "                       4.0302e-04,  3.8025e-04,  4.9516e-04,  7.0201e-05, -5.0504e-04,\n",
       "                      -4.0877e-04, -3.9943e-04, -4.2847e-04, -3.6506e-04, -3.1285e-04,\n",
       "                       4.0565e-04,  6.1606e-04, -5.2055e-04,  2.8588e-04, -3.7090e-04,\n",
       "                       4.9884e-05, -8.3401e-05,  1.4266e-04, -1.1970e-04, -1.8257e-04,\n",
       "                      -4.6505e-04,  9.5449e-05,  3.8980e-04,  4.4555e-04,  1.9112e-04,\n",
       "                       3.4402e-04, -1.7353e-04,  4.9450e-04, -4.8796e-05, -4.8605e-05,\n",
       "                       1.3802e-04, -2.2595e-04, -4.5442e-04,  4.5966e-04,  2.7047e-04,\n",
       "                      -4.7412e-05, -5.4657e-04, -2.1087e-04, -1.1716e-04, -3.9194e-04,\n",
       "                      -4.8329e-04,  3.1307e-04,  3.5905e-05, -6.0686e-04, -5.8991e-04,\n",
       "                       3.5456e-04, -3.4965e-04, -2.4418e-04, -2.5377e-04, -1.1919e-04,\n",
       "                      -5.5505e-04,  9.2773e-05, -2.6727e-04,  3.4309e-04, -2.5074e-04,\n",
       "                      -3.9035e-04, -1.4325e-04, -2.6053e-04, -5.6441e-04,  5.1318e-04,\n",
       "                      -4.2384e-04,  2.3867e-04,  4.0900e-05,  3.1806e-04,  4.1380e-04,\n",
       "                      -1.6387e-04, -4.8075e-04, -5.4105e-04, -3.0515e-04,  6.7238e-05,\n",
       "                      -2.9487e-04,  4.6473e-04, -5.9829e-04,  2.3156e-04, -1.5774e-04,\n",
       "                       1.4821e-04,  5.9492e-04,  4.9347e-04, -8.9048e-05, -1.4032e-04,\n",
       "                      -5.8195e-04, -4.6239e-04, -1.1380e-04, -4.3742e-05,  3.3383e-04,\n",
       "                      -4.3232e-04,  9.8536e-05,  1.2931e-04,  5.9740e-05,  3.7207e-04,\n",
       "                      -1.4005e-04,  7.8123e-05,  1.0846e-05, -5.5351e-04,  3.8066e-04,\n",
       "                       2.4299e-04,  5.9370e-04,  1.3481e-04, -3.1446e-04,  4.6353e-04,\n",
       "                       2.1017e-04, -9.3844e-05, -1.5968e-04,  2.3754e-04,  4.5938e-04,\n",
       "                      -5.5836e-05, -6.5103e-05,  2.0160e-04,  4.2437e-04, -5.3046e-04,\n",
       "                       1.7315e-04, -5.3868e-04, -5.6902e-04,  5.3649e-04,  5.5159e-04,\n",
       "                      -3.3122e-04,  4.4988e-04,  1.7191e-04,  2.1213e-04, -3.1818e-04,\n",
       "                       4.0559e-05,  3.1470e-04, -5.1135e-05,  1.1757e-04, -4.1276e-04,\n",
       "                       9.0484e-05,  3.7336e-06, -5.9879e-04,  2.4138e-04,  3.0529e-04,\n",
       "                      -1.7746e-04,  5.9647e-04,  9.3223e-05, -4.2148e-04,  4.0360e-04,\n",
       "                       6.0344e-04,  3.1204e-04, -3.5526e-04,  2.4547e-04, -2.0139e-04,\n",
       "                       2.6224e-04])),\n",
       "             ('l2.weight',\n",
       "              tensor([[-3.0639e-04,  4.8194e-04,  9.3337e-05,  3.7498e-04, -3.1589e-04,\n",
       "                        5.5189e-04, -4.5885e-04,  2.0108e-04, -3.1249e-05, -4.0579e-04,\n",
       "                       -2.9045e-04,  1.8678e-04,  4.8118e-04, -2.0788e-04,  3.4552e-04,\n",
       "                       -1.2425e-04, -5.5229e-04,  4.9954e-04,  2.0055e-04, -5.4075e-04,\n",
       "                        4.5886e-04,  4.4788e-04, -2.6753e-05, -8.4585e-05,  5.0641e-04,\n",
       "                        8.9801e-05, -3.8659e-04,  2.9594e-04,  2.1536e-04, -3.4493e-04,\n",
       "                        5.3878e-04,  3.0079e-04, -1.5205e-06, -7.6282e-05, -3.9940e-04,\n",
       "                       -7.0337e-05, -4.2086e-05,  6.0660e-04,  6.0035e-04,  1.4902e-04,\n",
       "                       -3.0285e-04, -3.6137e-04, -1.8859e-04, -4.4733e-04,  3.0433e-04,\n",
       "                        4.2670e-05,  5.9829e-04, -4.2599e-04,  2.0582e-04,  5.7656e-04,\n",
       "                       -1.9763e-05,  3.4767e-04,  2.6942e-04, -2.0325e-04, -2.3912e-04,\n",
       "                        5.5200e-04, -5.4260e-04,  4.5058e-04, -4.2902e-05, -1.7841e-04,\n",
       "                       -4.6303e-04, -1.5189e-04,  7.0196e-05, -1.9763e-05, -1.7397e-04,\n",
       "                       -6.1884e-04, -2.1831e-05,  3.1580e-04, -1.4036e-04, -5.8268e-04,\n",
       "                       -4.9334e-05, -2.5962e-04,  4.8989e-04,  5.2297e-04,  5.6714e-04,\n",
       "                       -2.7263e-04,  1.5160e-05,  3.6601e-04, -6.2397e-04, -6.1321e-04,\n",
       "                        1.2334e-04,  9.2351e-05, -6.0225e-04, -1.9157e-04, -5.3287e-05,\n",
       "                        4.7321e-04, -1.9422e-05, -1.3322e-04, -4.2781e-04,  5.9571e-04,\n",
       "                        2.1628e-05, -5.1482e-04,  2.3993e-04, -6.1582e-04, -2.4345e-04,\n",
       "                       -4.7505e-04,  2.7811e-05,  1.9080e-04, -4.0317e-04,  5.2144e-04,\n",
       "                        2.4111e-04, -1.4489e-04, -2.5848e-04, -5.9789e-04,  5.0487e-04,\n",
       "                        5.0369e-04,  6.6303e-05, -1.7856e-04, -2.3885e-04,  3.1691e-04,\n",
       "                       -4.4062e-04, -3.7537e-04,  1.9358e-04,  6.0036e-04, -3.6351e-04,\n",
       "                        2.0760e-04, -2.3042e-04,  3.7911e-04, -2.4136e-04, -5.4240e-04,\n",
       "                       -4.4497e-04,  3.7762e-04, -4.1120e-04,  4.4505e-04, -9.1247e-05,\n",
       "                        5.6712e-04, -4.4055e-04,  3.8179e-06,  1.8571e-05,  1.6015e-04,\n",
       "                       -1.1354e-04,  6.4797e-05, -2.9836e-04, -2.5185e-04,  3.5436e-04,\n",
       "                       -3.3061e-04,  3.1632e-04, -3.0739e-04,  4.8968e-04, -4.5933e-04,\n",
       "                        8.1619e-05, -2.2266e-04, -4.2589e-04, -1.5195e-04,  2.5863e-05,\n",
       "                        2.0303e-04, -8.2198e-06, -3.3043e-04, -1.2606e-04,  1.8353e-04,\n",
       "                       -5.7868e-04, -4.7034e-04,  4.5484e-04,  2.7034e-04, -5.2477e-04,\n",
       "                       -5.7563e-04,  3.5462e-04,  2.9762e-04, -5.9942e-04,  1.9147e-05,\n",
       "                        2.5745e-04, -2.8999e-04, -2.1685e-05,  1.1692e-04, -3.9522e-04,\n",
       "                        3.5821e-04, -3.3573e-04,  3.9795e-04, -5.8482e-04,  5.0072e-04,\n",
       "                        1.0566e-04, -2.0464e-04, -6.4431e-05,  5.4606e-04, -6.2009e-04,\n",
       "                       -5.3751e-04,  3.6969e-04,  1.1508e-04, -4.4581e-04,  2.2621e-04,\n",
       "                       -2.3738e-04, -6.9124e-05,  1.6553e-04,  1.4103e-04, -1.3463e-04,\n",
       "                       -4.6195e-04, -5.6471e-04, -1.5189e-04, -4.6635e-04,  3.1765e-04,\n",
       "                       -2.7782e-04, -2.0295e-04, -5.5195e-04, -8.3770e-05, -2.4248e-04,\n",
       "                       -1.5961e-04,  3.1154e-04, -2.1413e-04,  1.2478e-04, -9.4095e-05,\n",
       "                       -5.6368e-04, -2.3641e-04,  8.1339e-05,  3.3553e-04,  4.5466e-05,\n",
       "                        1.5402e-04,  3.6099e-04,  4.9682e-04,  5.5253e-04, -3.5329e-04,\n",
       "                       -1.0513e-04,  3.7907e-04, -1.8259e-04,  8.9111e-05,  5.9940e-05,\n",
       "                       -3.2357e-04, -1.1805e-04,  5.4652e-04, -4.5056e-04, -4.4461e-04,\n",
       "                        3.6368e-04, -4.8846e-04, -6.1523e-04, -6.0512e-04, -1.4031e-04,\n",
       "                        4.8348e-04,  4.5941e-04, -3.6970e-04,  1.4912e-05,  3.1843e-04,\n",
       "                       -4.6544e-04, -7.4875e-06,  1.3691e-04,  4.2206e-04,  3.8764e-04,\n",
       "                       -3.4229e-04, -1.1799e-04, -6.0801e-04,  2.8790e-04, -1.1784e-04,\n",
       "                        1.3691e-05, -1.2199e-04,  5.3867e-04,  5.7168e-04,  1.8539e-04,\n",
       "                        8.7207e-05,  8.9237e-05,  3.0041e-04,  5.5211e-04,  1.1935e-05,\n",
       "                       -5.1694e-04, -1.2138e-06, -4.6766e-04,  6.1207e-04,  6.1046e-04,\n",
       "                       -1.0002e-04]])),\n",
       "             ('l2.bias', tensor([-0.0003]))])"
      ]
     },
     "execution_count": 100,
     "metadata": {},
     "output_type": "execute_result"
    }
   ],
   "source": [
    "test.state_dict()"
   ]
  },
  {
   "cell_type": "code",
   "execution_count": 95,
   "metadata": {},
   "outputs": [
    {
     "data": {
      "text/plain": [
       "OrderedDict([('inp.weight',\n",
       "              tensor([[ 2.5780e-03, -1.3305e-03,  1.1003e-03,  ..., -1.7611e-03,\n",
       "                       -7.7126e-05,  1.7861e-03],\n",
       "                      [-1.3549e-03, -1.9893e-03,  1.4467e-03,  ..., -9.6229e-04,\n",
       "                       -2.1250e-03,  4.2955e-04],\n",
       "                      [ 1.0242e-03,  2.0525e-03,  1.2771e-04,  ..., -7.9851e-04,\n",
       "                       -1.5987e-03, -2.0076e-03],\n",
       "                      ...,\n",
       "                      [-1.9853e-03,  1.2958e-03, -2.5535e-03,  ..., -1.4817e-03,\n",
       "                       -4.5934e-04,  1.1430e-03],\n",
       "                      [ 1.7618e-03,  5.9932e-04,  2.6225e-03,  ...,  9.8021e-04,\n",
       "                       -7.5687e-04,  1.7381e-03],\n",
       "                      [-6.6507e-04, -1.9517e-03, -1.6897e-03,  ..., -2.1596e-03,\n",
       "                       -1.2661e-03, -2.7025e-03]])),\n",
       "             ('inp.bias',\n",
       "              tensor([ 1.9140e-03,  1.5870e-03,  1.0729e-03, -1.7376e-03, -2.1374e-03,\n",
       "                       2.2983e-03,  1.7347e-03,  2.1471e-03,  2.5638e-03, -3.3397e-05,\n",
       "                       2.3681e-04, -3.2696e-04,  2.8806e-04,  3.3859e-04,  1.7529e-03,\n",
       "                       2.1693e-03, -2.6903e-03,  3.8321e-04,  1.1957e-03, -1.6674e-03,\n",
       "                      -2.0702e-03,  1.7492e-03,  1.3321e-03,  2.5812e-03, -9.2661e-04,\n",
       "                       1.3436e-03,  1.2287e-03,  1.2535e-03,  1.5419e-03, -2.6671e-03,\n",
       "                       7.8630e-04,  1.5508e-04,  2.1625e-03,  1.3377e-03,  2.2763e-03,\n",
       "                       1.2022e-04,  2.6689e-03,  1.7955e-03, -1.6970e-03, -1.5719e-03,\n",
       "                       1.3975e-03, -2.4659e-03,  7.3437e-04,  7.8750e-04, -1.0778e-04,\n",
       "                       1.6949e-04,  2.0477e-03,  5.3541e-04,  2.4345e-03, -3.5248e-04,\n",
       "                      -2.5556e-03, -1.2289e-04,  1.2986e-04, -2.1473e-03,  1.0237e-03,\n",
       "                      -2.7308e-03,  1.1607e-03, -5.1124e-04,  1.0508e-03,  1.0967e-03,\n",
       "                       2.0547e-03, -1.0199e-03, -1.2607e-03, -2.0328e-03,  1.0708e-03,\n",
       "                       1.3895e-03,  4.2556e-04, -2.2872e-03,  1.3136e-03, -5.4460e-04,\n",
       "                      -2.2754e-03,  1.2853e-03, -1.5295e-03,  2.3238e-04, -2.3636e-03,\n",
       "                       9.0794e-04, -7.0092e-04,  2.2817e-03,  1.2172e-03, -1.1240e-04,\n",
       "                       1.6349e-03,  1.5494e-03,  5.2212e-04,  2.1353e-03, -3.6360e-04,\n",
       "                      -1.8093e-03,  1.8493e-03, -2.2314e-03,  2.2437e-04, -9.8469e-04,\n",
       "                       7.5036e-04,  2.2665e-03, -1.6665e-03, -1.2768e-03, -1.7075e-03,\n",
       "                      -2.5511e-03,  1.3639e-03, -1.5593e-03, -1.9152e-03,  1.7721e-03,\n",
       "                      -1.3019e-03,  9.5844e-04,  1.5640e-03, -1.0478e-05, -2.9552e-04,\n",
       "                       2.1621e-03, -1.7239e-03,  1.7581e-03, -1.3016e-03,  7.5019e-04,\n",
       "                       2.0842e-03, -2.2627e-03, -6.9798e-04,  5.0926e-04, -2.6108e-03,\n",
       "                      -3.1542e-04, -2.6622e-03,  2.2437e-03,  2.4869e-03,  9.9901e-04,\n",
       "                       5.9652e-04, -1.3991e-03, -5.2365e-04,  1.7085e-03,  2.2209e-03,\n",
       "                       2.0843e-03,  2.6740e-03,  1.1788e-04,  2.1101e-03, -2.6439e-03,\n",
       "                       1.2117e-03,  1.8873e-03,  5.0288e-04,  1.3832e-03, -1.1390e-03,\n",
       "                       4.6057e-04, -1.0364e-03,  1.0821e-03,  7.9731e-04, -6.7888e-04,\n",
       "                       9.7275e-04,  1.9502e-03, -3.3618e-04, -1.3613e-03,  1.9977e-03,\n",
       "                      -8.1606e-04, -1.5841e-03, -4.4179e-04, -2.0969e-03,  2.3509e-03,\n",
       "                       2.1336e-03, -4.4249e-04, -1.5382e-03,  1.5391e-03, -1.0374e-03,\n",
       "                       2.7672e-03,  1.0735e-03,  1.3173e-03,  2.6948e-03, -4.6630e-04,\n",
       "                       1.4328e-03, -5.9848e-04,  2.0998e-03,  1.4245e-03,  8.5137e-04,\n",
       "                       1.2332e-03, -2.1542e-03,  5.2868e-04, -5.0522e-05,  1.3102e-03,\n",
       "                       1.8961e-03, -1.3202e-03,  1.2425e-03, -1.4271e-03,  1.7987e-03,\n",
       "                       1.8628e-03,  2.0641e-03, -1.2045e-03, -9.1733e-04,  9.6411e-04,\n",
       "                       3.4466e-04, -1.0927e-03, -1.8366e-03,  9.7694e-04,  1.2186e-03,\n",
       "                       1.7830e-03,  2.1107e-03, -2.5778e-03, -9.2195e-05, -1.9594e-04,\n",
       "                       2.1146e-03, -2.6854e-03, -9.9609e-04, -1.0615e-03, -2.0163e-03,\n",
       "                      -1.4133e-03, -1.2719e-04,  3.2500e-04,  2.1552e-03, -1.6302e-03,\n",
       "                       1.7189e-03, -2.3326e-03,  2.0571e-03, -2.7097e-03, -1.4538e-03,\n",
       "                       1.8016e-03, -2.7253e-03, -2.1618e-03, -5.5447e-04,  1.5010e-03,\n",
       "                       1.1929e-03, -4.3660e-04,  2.3877e-03,  7.8935e-04,  2.2156e-03,\n",
       "                       2.3751e-03, -1.7234e-04, -1.1780e-03, -4.4428e-04, -1.3218e-03,\n",
       "                      -1.5148e-05, -6.9712e-04,  9.3152e-04,  1.8926e-03, -1.6659e-03,\n",
       "                       2.3600e-03, -2.6367e-03, -1.2173e-03, -1.7067e-03, -1.0010e-04,\n",
       "                       1.2896e-03,  1.3190e-03,  2.4561e-03, -2.6859e-03, -1.6539e-03,\n",
       "                      -6.4859e-04, -1.6586e-05, -1.4062e-04,  3.0537e-04, -1.5834e-03,\n",
       "                      -7.8980e-04, -2.1002e-03, -2.0185e-03,  2.1329e-05,  2.1374e-03,\n",
       "                       1.8198e-03,  8.2235e-04, -1.6797e-03, -2.5947e-03,  1.9928e-03,\n",
       "                      -1.5283e-03,  1.1893e-04,  2.0409e-03,  2.2234e-03, -2.7137e-03,\n",
       "                      -1.1091e-03])),\n",
       "             ('l1.weight',\n",
       "              tensor([[-3.9116e-04, -2.0764e-05, -2.1561e-04,  ...,  9.0040e-05,\n",
       "                        7.3460e-05,  4.2150e-04],\n",
       "                      [ 2.4435e-05,  3.8188e-04,  5.3443e-04,  ...,  5.8648e-04,\n",
       "                        2.6867e-04, -5.3570e-04],\n",
       "                      [ 1.5900e-04,  8.9621e-05, -3.8904e-04,  ..., -3.3005e-04,\n",
       "                        5.5332e-04,  4.7694e-04],\n",
       "                      ...,\n",
       "                      [ 2.2650e-05,  2.1237e-04, -3.2401e-04,  ..., -1.7557e-04,\n",
       "                        1.7880e-04, -3.4220e-04],\n",
       "                      [-1.5807e-04, -9.7678e-05,  6.1379e-04,  ...,  4.3105e-04,\n",
       "                        1.2259e-04,  3.2164e-04],\n",
       "                      [ 1.6714e-06, -1.6713e-04, -5.9528e-05,  ..., -2.6897e-05,\n",
       "                       -5.6136e-04,  6.2673e-05]])),\n",
       "             ('l1.bias',\n",
       "              tensor([ 2.2148e-04, -5.5691e-04, -1.6014e-04, -4.7323e-04, -1.8819e-04,\n",
       "                       4.3038e-04,  2.9772e-04, -4.2421e-05,  7.5641e-05,  4.0882e-04,\n",
       "                       4.5117e-04, -3.0460e-04, -4.6399e-05, -9.1608e-05,  1.4919e-04,\n",
       "                      -2.5858e-04,  1.8150e-04, -3.4443e-04, -4.1631e-04, -4.4942e-04,\n",
       "                      -3.1593e-04,  5.7442e-04, -3.1620e-04, -5.6923e-04, -3.9071e-04,\n",
       "                      -2.6348e-04, -1.6472e-04,  2.9347e-04,  2.9164e-04,  1.2167e-04,\n",
       "                       2.4865e-04,  1.9294e-04,  2.2210e-04, -4.2805e-05,  3.2400e-04,\n",
       "                      -2.4323e-05, -5.2961e-04,  4.2297e-04, -4.9213e-04,  2.0347e-04,\n",
       "                      -1.5999e-04, -5.1181e-04,  1.2231e-04,  4.5581e-04,  1.0852e-04,\n",
       "                       9.4572e-05, -9.1384e-05, -1.6776e-05, -5.5331e-04, -4.4346e-04,\n",
       "                       2.7841e-04,  4.5499e-04, -5.5708e-04, -4.4427e-04,  2.3847e-04,\n",
       "                      -1.4625e-04, -2.3939e-04, -2.9042e-04,  1.4360e-04,  2.7060e-04,\n",
       "                       3.3941e-04, -5.3221e-04, -3.9358e-04,  1.3072e-04,  5.5487e-04,\n",
       "                       3.7882e-04, -4.8429e-04,  1.2279e-04, -5.5311e-04, -4.7331e-04,\n",
       "                      -5.3416e-05, -5.9307e-04, -4.0930e-04, -3.2860e-04,  3.5895e-04,\n",
       "                       5.0626e-04, -1.7493e-04,  4.1469e-04, -1.9399e-04,  3.3751e-04,\n",
       "                      -8.7258e-05,  2.7577e-04,  6.1645e-04, -2.9550e-04, -1.7992e-04,\n",
       "                       1.1332e-04,  5.3898e-04, -2.6762e-04, -5.7536e-04,  6.1044e-04,\n",
       "                       5.1133e-04,  4.8509e-04, -9.2668e-05,  2.2634e-04,  1.7038e-04,\n",
       "                       4.8039e-04,  1.0948e-04, -2.3977e-04,  1.9766e-04, -7.7726e-05,\n",
       "                       3.0859e-04,  4.4763e-04,  4.8988e-04, -1.0736e-04,  5.8731e-04,\n",
       "                       3.3727e-04,  3.0882e-04, -1.1065e-04,  5.8145e-04, -4.0300e-05,\n",
       "                      -3.7755e-04,  7.7813e-05, -6.0571e-04,  2.6745e-04,  7.2879e-05,\n",
       "                       1.9463e-04,  2.7869e-04,  1.9175e-04, -6.1658e-04, -3.1849e-04,\n",
       "                       2.4644e-04, -4.8958e-04,  5.0714e-04, -3.5781e-04, -3.3984e-04,\n",
       "                       6.2328e-04,  4.7019e-04, -1.4122e-04,  2.9526e-04,  1.5109e-04,\n",
       "                       5.2018e-05, -1.5751e-04, -1.3210e-04,  8.1638e-06, -1.9256e-04,\n",
       "                       1.7848e-04, -1.4944e-04,  3.5072e-04, -2.5373e-04, -6.1325e-04,\n",
       "                       4.7341e-04,  1.8007e-05,  3.2015e-04,  6.1711e-04, -2.2367e-07,\n",
       "                       5.8887e-04,  6.1007e-04,  3.0182e-04, -3.3052e-04,  5.0907e-04,\n",
       "                       3.4735e-04, -2.2114e-04, -3.2184e-04, -4.2182e-04,  3.3312e-04,\n",
       "                       3.3244e-04,  5.2965e-04,  1.7608e-04,  3.1733e-04,  1.3646e-04,\n",
       "                       5.6769e-04,  4.7088e-04, -5.3969e-04, -1.2877e-04, -4.4052e-04,\n",
       "                      -4.9467e-04,  4.0713e-04, -5.4120e-04,  1.6910e-04, -1.6428e-04,\n",
       "                       3.4399e-05, -6.9008e-05,  4.0954e-04, -4.5756e-04, -4.7519e-04,\n",
       "                      -2.3425e-04, -2.5829e-05,  5.2923e-06,  7.5530e-05,  1.4629e-04,\n",
       "                       2.7890e-04, -1.9373e-04,  5.7187e-04, -3.4024e-04, -4.0137e-04,\n",
       "                       2.2284e-04, -4.9602e-04,  1.7217e-04,  3.5303e-04, -1.2027e-04,\n",
       "                       1.6518e-04,  1.4108e-05,  2.2616e-04,  1.9940e-05,  2.4579e-04,\n",
       "                       1.2663e-04, -5.1757e-04, -4.9777e-04,  4.9433e-04, -1.5860e-04,\n",
       "                      -1.0940e-04, -3.5471e-04, -3.9961e-04, -3.5389e-04,  1.1142e-04,\n",
       "                       1.3197e-04, -3.9471e-04,  1.8765e-04, -5.5192e-04,  1.4656e-04,\n",
       "                      -5.2657e-04, -3.5483e-04, -3.8153e-04,  2.9318e-04,  2.1987e-04,\n",
       "                       5.7116e-04,  2.5754e-04,  5.4372e-04,  3.7568e-04,  4.1711e-05,\n",
       "                       4.5002e-04, -5.1332e-04, -2.9081e-04,  2.2671e-04,  3.3663e-04,\n",
       "                       4.1015e-04,  5.4968e-04,  4.9364e-04, -4.6314e-04, -6.1452e-04,\n",
       "                       5.2405e-04,  2.7181e-04,  1.2883e-04, -6.2426e-04,  3.0301e-04,\n",
       "                      -2.0813e-04,  2.7645e-04, -6.1238e-04, -5.4057e-04, -3.5265e-04,\n",
       "                      -2.6129e-04, -1.3058e-04,  2.5449e-05,  5.7201e-04, -5.3122e-04,\n",
       "                      -3.9774e-04, -1.6614e-04, -5.3121e-04, -6.1749e-04, -6.1438e-04,\n",
       "                       6.1930e-04, -3.2725e-05, -4.8121e-04, -2.3156e-05, -5.8777e-05,\n",
       "                      -4.0140e-04])),\n",
       "             ('l2.weight',\n",
       "              tensor([[-2.3692e-04, -1.4822e-04,  3.8924e-04,  3.1397e-04,  3.3952e-04,\n",
       "                       -2.7784e-04,  1.3794e-04, -5.7695e-04, -5.4879e-05, -9.4017e-05,\n",
       "                        2.2344e-04,  1.4987e-04, -2.4692e-04, -5.7371e-04,  5.1622e-05,\n",
       "                       -4.3795e-04,  3.6706e-04,  3.4049e-04, -4.0266e-05, -1.2037e-04,\n",
       "                        6.0457e-04,  4.9297e-06, -5.3738e-04,  2.7687e-04,  4.0215e-05,\n",
       "                       -5.9017e-04, -5.7189e-04, -2.8659e-04,  5.2396e-04, -2.8455e-05,\n",
       "                       -3.7005e-04, -5.4592e-04, -2.8506e-04, -3.5060e-05, -1.1092e-04,\n",
       "                        2.0750e-04, -3.9992e-04,  5.9358e-04, -2.9617e-04, -3.9841e-04,\n",
       "                       -2.5161e-04,  3.1685e-04,  3.7023e-04, -3.5599e-04, -2.8532e-06,\n",
       "                       -5.7927e-04, -2.1595e-04,  4.6682e-04, -5.0560e-04, -6.0716e-04,\n",
       "                       -5.5672e-04,  1.8935e-04,  7.0921e-06,  1.0331e-04,  4.3985e-04,\n",
       "                       -3.7327e-08,  4.6197e-05, -3.3760e-04,  3.5494e-04, -4.5112e-04,\n",
       "                        3.3478e-04, -1.0620e-04, -4.0790e-05,  1.6582e-04, -6.6678e-05,\n",
       "                       -2.3392e-04,  2.6561e-05, -2.6176e-04, -4.2999e-04, -1.9407e-04,\n",
       "                       -3.6932e-04, -2.6024e-04, -5.2169e-05,  5.6853e-04,  4.1712e-04,\n",
       "                       -5.5817e-04, -5.5231e-05,  5.9718e-04,  2.3497e-04,  6.0492e-04,\n",
       "                        4.4979e-04, -5.9379e-04,  5.4030e-04, -1.4252e-04,  4.1078e-04,\n",
       "                        3.8816e-04,  2.7100e-04, -9.1274e-05, -3.3805e-04, -1.8907e-04,\n",
       "                       -6.1335e-04,  1.1697e-05,  9.7844e-05,  5.7316e-04,  3.1845e-04,\n",
       "                        6.4543e-05,  4.5910e-04,  1.1972e-04,  6.1688e-04, -6.2209e-04,\n",
       "                       -5.1943e-04, -1.5274e-04, -5.1048e-04,  1.2695e-04,  4.7142e-04,\n",
       "                       -4.8693e-04, -5.6326e-04, -2.6376e-04,  2.2841e-04,  2.4152e-04,\n",
       "                       -8.3661e-05,  1.2175e-04, -1.3736e-04,  3.8169e-04, -4.1377e-04,\n",
       "                       -3.5653e-04, -4.3550e-04, -4.7467e-04, -6.7749e-05,  3.7503e-04,\n",
       "                        3.9764e-04, -5.8511e-04,  1.7612e-04, -1.7587e-05,  6.0228e-05,\n",
       "                       -9.9173e-05, -1.1584e-04, -3.2659e-04, -4.6012e-04,  6.0457e-04,\n",
       "                        1.1625e-04, -1.6602e-04,  4.3478e-04, -2.0106e-04,  1.4277e-04,\n",
       "                       -4.0404e-04,  3.8433e-04, -1.7652e-04, -2.4225e-04, -4.5127e-04,\n",
       "                       -4.2791e-04, -3.5614e-04,  5.1487e-04,  4.1026e-04, -2.5336e-04,\n",
       "                        3.5451e-04,  3.2574e-04,  5.0203e-05, -9.8499e-05, -2.8352e-04,\n",
       "                        2.1750e-04,  4.9187e-04, -1.3033e-04,  5.2317e-04,  6.1866e-04,\n",
       "                        2.6904e-04, -2.3788e-04,  1.7593e-04,  8.3251e-05, -4.6328e-04,\n",
       "                        4.6129e-04, -3.1425e-04,  1.0837e-04, -3.4088e-04,  8.8079e-05,\n",
       "                        1.3109e-04,  6.0028e-04,  1.1168e-04,  5.0604e-04, -2.1527e-04,\n",
       "                        5.7309e-04, -1.8600e-04,  3.9149e-04, -5.2751e-04, -4.1812e-04,\n",
       "                        2.8863e-05, -5.5644e-04,  2.6965e-04, -3.2240e-04, -1.1096e-04,\n",
       "                        5.3879e-04,  2.1167e-04, -6.0963e-04, -2.7721e-04, -5.1082e-04,\n",
       "                       -5.5616e-04,  3.9613e-04,  2.4260e-05, -1.4348e-04, -6.1958e-04,\n",
       "                        4.9476e-04, -1.8246e-04, -4.6820e-04, -3.7784e-04, -4.0087e-04,\n",
       "                       -4.8576e-04, -1.8996e-04,  1.1169e-04, -4.9819e-04, -3.1860e-04,\n",
       "                       -6.1406e-04,  2.5148e-05,  2.7126e-04, -1.0801e-04,  2.8808e-04,\n",
       "                        2.5038e-04, -4.6056e-04, -5.5111e-04,  3.3651e-04,  2.0280e-04,\n",
       "                        3.0918e-04,  4.3042e-04,  5.5930e-04, -1.6203e-05, -4.9429e-04,\n",
       "                       -1.2961e-04, -6.0412e-04,  6.1540e-04,  1.2957e-04,  2.8106e-05,\n",
       "                       -5.0073e-04, -2.8033e-04,  5.6571e-04, -3.2191e-04,  5.9402e-04,\n",
       "                       -4.1273e-04,  2.1165e-04,  2.1339e-04, -4.6635e-04,  4.4316e-04,\n",
       "                        4.2917e-04, -2.2571e-04,  2.6967e-04, -2.3444e-04, -2.7033e-04,\n",
       "                       -2.9058e-04, -2.4013e-04,  6.0732e-04,  1.5575e-04,  2.6195e-04,\n",
       "                       -2.4685e-04,  3.2822e-04, -1.4655e-04, -4.3295e-04,  5.8553e-04,\n",
       "                        6.2102e-04,  3.3877e-04, -5.5517e-04, -3.6834e-04, -5.1617e-04,\n",
       "                       -1.6398e-04,  5.4340e-04,  8.2229e-05, -5.7689e-04,  1.7498e-04,\n",
       "                       -1.0837e-04]])),\n",
       "             ('l2.bias', tensor([9.0993e-05]))])"
      ]
     },
     "execution_count": 95,
     "metadata": {},
     "output_type": "execute_result"
    }
   ],
   "source": [
    "test.state_dict()"
   ]
  },
  {
   "cell_type": "code",
   "execution_count": 43,
   "metadata": {},
   "outputs": [],
   "source": [
    "    \n",
    "\n",
    "# class PolicyNetwork(nn.Module):\n",
    "#     def __init__(self, s_shape):\n",
    "#         super().__init__()\n",
    "#         if len(s_shape) > 1:\n",
    "#             self.l1 = nn.Conv2d(3, 8, (5, 5), stride=2)\n",
    "#             self.l2 = nn.Conv2d(8, 16, (3, 3), stride=2)\n",
    "#             self.l3 = nn.Conv2d(16, 3, (3, 3), stride=2)\n",
    "            \n",
    "            \n",
    "#     def forward(self, x):\n",
    "#         x = F.relu(self.l1(x))\n",
    "#         x = F.relu(self.l2(x))\n",
    "#         x = F.relu(self.l3(x))\n",
    "#         x = x.view(x.size(0), -1)\n",
    "#         print(x.shape)"
   ]
  },
  {
   "cell_type": "code",
   "execution_count": 44,
   "metadata": {},
   "outputs": [
    {
     "name": "stdout",
     "output_type": "stream",
     "text": [
      "torch.Size([1, 243])\n"
     ]
    }
   ],
   "source": [
    "PolicyNetwork(s_shape=(3, 84, 84))(torch.rand((1, 3, 84, 84)))"
   ]
  },
  {
   "cell_type": "code",
   "execution_count": 60,
   "metadata": {},
   "outputs": [],
   "source": [
    "s_norm = Normal(torch.tensor([1, 0.2, 3]), torch.tensor([1, 0.9, 0.2]))"
   ]
  },
  {
   "cell_type": "code",
   "execution_count": 61,
   "metadata": {},
   "outputs": [
    {
     "data": {
      "text/plain": [
       "tensor([2.5093, 0.4391, 2.9150])"
      ]
     },
     "execution_count": 61,
     "metadata": {},
     "output_type": "execute_result"
    }
   ],
   "source": [
    "actions = s_norm.rsample()\n",
    "actions"
   ]
  },
  {
   "cell_type": "code",
   "execution_count": 62,
   "metadata": {},
   "outputs": [
    {
     "data": {
      "text/plain": [
       "tensor([0.9869, 0.4129, 0.9941])"
      ]
     },
     "execution_count": 62,
     "metadata": {},
     "output_type": "execute_result"
    }
   ],
   "source": [
    "torch.tanh(actions)"
   ]
  },
  {
   "cell_type": "code",
   "execution_count": 59,
   "metadata": {},
   "outputs": [
    {
     "data": {
      "text/plain": [
       "tensor([9.0250, 3.0042])"
      ]
     },
     "execution_count": 59,
     "metadata": {},
     "output_type": "execute_result"
    }
   ],
   "source": [
    "torch.tensor([2.2, 1.1]).exp()"
   ]
  },
  {
   "cell_type": "code",
   "execution_count": null,
   "metadata": {},
   "outputs": [],
   "source": []
  }
 ],
 "metadata": {
  "kernelspec": {
   "display_name": "Python 3",
   "language": "python",
   "name": "python3"
  },
  "language_info": {
   "codemirror_mode": {
    "name": "ipython",
    "version": 3
   },
   "file_extension": ".py",
   "mimetype": "text/x-python",
   "name": "python",
   "nbconvert_exporter": "python",
   "pygments_lexer": "ipython3",
   "version": "3.8.5"
  }
 },
 "nbformat": 4,
 "nbformat_minor": 2
}
